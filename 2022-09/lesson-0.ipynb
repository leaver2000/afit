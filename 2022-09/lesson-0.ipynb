{
 "cells": [
  {
   "cell_type": "markdown",
   "metadata": {},
   "source": [
    "objectives\n",
    "\n",
    "- reduce barrier for entry\n",
    "```\n",
    "CLI\n",
    "WSL\n",
    "Docker\n",
    "git\n",
    "```\n",
    "\n",
    "- Demonstrate enough information to for to \n",
    "\n",
    "- (ETL) Extract Transfer Load Framework\n",
    "\n",
    "```\n",
    "extract some data via the request module\n",
    "perform some transformation to that data\n",
    "save that data to a new file\n",
    "```"
   ]
  }
 ],
 "metadata": {
  "language_info": {
   "name": "python"
  },
  "orig_nbformat": 4
 },
 "nbformat": 4,
 "nbformat_minor": 2
}
