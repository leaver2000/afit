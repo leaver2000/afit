{
 "cells": [
  {
   "cell_type": "code",
   "execution_count": 1,
   "metadata": {},
   "outputs": [
    {
     "data": {
      "text/html": [
       "\n",
       "                <script type=\"application/javascript\" id=\"jupyter_black\">\n",
       "                (function() {\n",
       "                    if (window.IPython === undefined) {\n",
       "                        return\n",
       "                    }\n",
       "                    var msg = \"WARNING: it looks like you might have loaded \" +\n",
       "                        \"jupyter_black in a non-lab notebook with \" +\n",
       "                        \"`is_lab=True`. Please double check, and if \" +\n",
       "                        \"loading with `%load_ext` please review the README!\"\n",
       "                    console.log(msg)\n",
       "                    alert(msg)\n",
       "                })()\n",
       "                </script>\n",
       "                "
      ],
      "text/plain": [
       "<IPython.core.display.HTML object>"
      ]
     },
     "metadata": {},
     "output_type": "display_data"
    }
   ],
   "source": [
    "%load_ext jupyter_black"
   ]
  },
  {
   "cell_type": "markdown",
   "metadata": {},
   "source": [
    "## development environement\n",
    "- Getting away from Windows\n",
    "    - WSL\n",
    "    - docker/remote-container\n",
    "- Terminal\n",
    "    - bash\n",
    "    - zsh\n",
    "- IDE\n",
    "    - vscode\n",
    "    - spyder\n",
    "    - pycharm"
   ]
  },
  {
   "cell_type": "markdown",
   "metadata": {},
   "source": [
    "## developing on windows \n",
    "\n",
    "if working on a windows system I recomend installing [WSL](https://docs.microsoft.com/en-us/windows/wsl/install)\n",
    "\n",
    "``` powershell\n",
    "PS C:\\Users\\Jason> wsl -l -v\n",
    "  NAME                   STATE           VERSION\n",
    "* Ubuntu-22.04           Running         2\n",
    "  docker-desktop         Running         2\n",
    "  docker-desktop-data    Running         2\n",
    "```\n",
    "\n",
    "another option is to use the vscode remote container extesion for your development environment\n",
    "\n",
    "\n"
   ]
  },
  {
   "cell_type": "markdown",
   "metadata": {},
   "source": [
    "## bash\n",
    "\n",
    "``` bash\n",
    "(venv) ➜  afit bash\n",
    "leaver2000@inwin:~/afit$ echo hello world\n",
    "hello world\n",
    "leaver2000@inwin:~/afit$ zsh\n",
    "(venv) ➜  afit echo hello world\n",
    "hello world\n",
    "```\n",
    "\n",
    "## zsh\n",
    "\n",
    "The Z shell (Zsh) is a Unix shell that can be used as an interactive login shell and as a command interpreter for shell scripting.\n",
    "\n",
    "I often use zsh and the [oh-my-zsh](https://github.com/ohmyzsh/ohmyzsh/wiki/Installing-ZSH) extension.\n",
    "\n",
    "## powershell\n",
    "\n",
    "PowerShell is a cross-platform task automation solution made up of a command-line shell, a scripting language, and a configuration management framework. PowerShell runs on Windows, Linux, and macOS.\n"
   ]
  },
  {
   "cell_type": "markdown",
   "metadata": {},
   "source": [
    "``` bash\n",
    "awk # pattern scanning and processing language\n",
    "basename # strip directory and suffix from filenames\n",
    "bg # resumes suspended jobs without bringing them to the foreground\n",
    "cat # print files\n",
    "cd # change the shell working directory.\n",
    "chmod # change file mode\n",
    "chown # change file owner and group\n",
    "crontab # maintain crontab files\n",
    "curl # transfer a URL\n",
    "cut # remove sections from each line of files\n",
    "date # display or set date and time\n",
    "dig # DNS lookup utility\n",
    "df # report file system disk space usage\n",
    "diff # compare files line by line\n",
    "du # estimate file space usage\n",
    "echo # display a line of text\n",
    "find # search for files in a directory hierarchy\n",
    "fg # resumes suspended jobs and bring them to the foreground\n",
    "grep # print lines matching a pattern\n",
    "kill # send a signal to a process\n",
    "less # read file with pagination\n",
    "ln # create links\n",
    "ls # list directory contents\n",
    "lsb_release # print distribution-specific information\n",
    "lsof # list open files\n",
    "mkdir # create\n",
    "mv # move files\n",
    "nc # arbitrary TCP and UDP connections and listens\n",
    "netstat # print network connections, routing tables, interface statistics...\n",
    "nice # execute a utility with an altered scheduling priority\n",
    "nproc # print the number of processing units available\n",
    "passwd # change user password\n",
    "pgrep # look up processes based on name and other attributes\n",
    "pkill # send signal to processes based on name and other attributes\n",
    "printenv # print all or part of environment\n",
    "pwd # print name of current/working directory\n",
    "top # display Linux processes\n",
    "tr # translate or delete characters\n",
    "ps # report a snapshot of the current processes\n",
    "rm # remove files or directories\n",
    "rmdir # remove directories\n",
    "rsync # remote file copy\n",
    "scp # secure copy (remote file copy program)\n",
    "sed # stream editor for filtering and transforming text\n",
    "sleep # suspend execution for an interval of time\n",
    "sort # sort lines of text file\n",
    "ssh # OpenSSH SSH client (remote login program)\n",
    "ssh-keygen # SSH key generation, management and conversion\n",
    "su # substitute user identity\n",
    "sudo # execute a command as another user\n",
    "tail # output the last part of files\n",
    "tar # manipulate archives files\n",
    "tr # translate or delete characters\n",
    "uname # Print operating system name\n",
    "uniq # report or omit repeated lines\n",
    "uptime # show how long system has been running\n",
    "w # Show who is logged on and what they are doing\n",
    "whereis # locate the binary, source, and manual page files for a command\n",
    "which # locate a command\n",
    "wc # print newline, word, and byte counts for each file\n",
    "xargs # build and execute command lines from standard input\n",
    "| # redirect standard output to another command\n",
    "> # redirect standard output\n",
    "< # redirect standard input\n",
    "& # send process to background\n",
    "```"
   ]
  },
  {
   "cell_type": "code",
   "execution_count": 2,
   "metadata": {
    "vscode": {
     "languageId": "shellscript"
    }
   },
   "outputs": [
    {
     "name": "stdout",
     "output_type": "stream",
     "text": [
      "hello world\n"
     ]
    }
   ],
   "source": [
    "%%bash \n",
    "# the magic command above will allow us to use this code block as as interactive terminal\n",
    "echo hello world"
   ]
  },
  {
   "cell_type": "code",
   "execution_count": 3,
   "metadata": {
    "vscode": {
     "languageId": "shellscript"
    }
   },
   "outputs": [
    {
     "name": "stdout",
     "output_type": "stream",
     "text": [
      "bin\n",
      "boot\n",
      "dev\n",
      "etc\n",
      "home\n",
      "init\n",
      "lib\n",
      "lib32\n",
      "lib64\n",
      "libx32\n",
      "lost+found\n",
      "media\n",
      "mnt\n",
      "opt\n",
      "proc\n",
      "root\n",
      "run\n",
      "sbin\n",
      "snap\n",
      "srv\n",
      "sys\n",
      "tmp\n",
      "usr\n",
      "var\n"
     ]
    }
   ],
   "source": [
    "%%bash \n",
    "# the magic command above will allow us to use this code block as as interactive terminal\n",
    "ls /"
   ]
  },
  {
   "cell_type": "code",
   "execution_count": 4,
   "metadata": {
    "vscode": {
     "languageId": "shellscript"
    }
   },
   "outputs": [
    {
     "name": "stdout",
     "output_type": "stream",
     "text": [
      "Requirement already satisfied: numpy in /opt/venv/lib/python3.10/site-packages (1.23.1)\n"
     ]
    }
   ],
   "source": [
    "%%bash\n",
    "pip install numpy"
   ]
  },
  {
   "cell_type": "code",
   "execution_count": 5,
   "metadata": {
    "vscode": {
     "languageId": "shellscript"
    }
   },
   "outputs": [
    {
     "name": "stdout",
     "output_type": "stream",
     "text": [
      "Requirement already satisfied: numpy in /opt/venv/lib/python3.10/site-packages (1.23.1)\n"
     ]
    }
   ],
   "source": [
    "!pip install numpy"
   ]
  },
  {
   "cell_type": "code",
   "execution_count": 6,
   "metadata": {
    "vscode": {
     "languageId": "shellscript"
    }
   },
   "outputs": [
    {
     "name": "stdout",
     "output_type": "stream",
     "text": [
      "/opt/venv/bin/python\n",
      "/home/leaver2000/notbookvenv/bin/python\n"
     ]
    }
   ],
   "source": [
    "%%bash\n",
    "echo $(which python)\n",
    "python -m venv ~/notbookvenv\n",
    "source ~/notbookvenv/bin/activate\n",
    "echo $(which python)"
   ]
  },
  {
   "cell_type": "markdown",
   "metadata": {},
   "source": [
    "there are sveral ways to run python\n",
    "### from the terminal\n",
    "``` python\n",
    "$ python\n",
    "Python 3.10.4 (main, Jun 29 2022, 12:14:53) [GCC 11.2.0] on linux\n",
    "Type \"help\", \"copyright\", \"credits\" or \"license\" for more information.\n",
    ">>> print(\"hello world\")\n",
    "hello world\n",
    "```\n",
    "\n",
    "### running a named program file\n",
    "\n",
    "``` bash\n",
    "$ python app.py  \n",
    "hello world\n",
    "```\n",
    "\n",
    "### -m module : run library module as a script (terminates option list)\n",
    "\n",
    "``` bash\n",
    "$ python -m app\n",
    "hello world\n",
    "```\n",
    "\n",
    "\n",
    "#### -c command : program passed in as string (terminates option list)\n",
    "``` bash\n",
    "$ python -c \"print('hello world')\"\n",
    "hello world\n",
    "```\n",
    "### running a UNnamed program file\n",
    "\n",
    "``` bash\n",
    "touch myscript && chmod 777 myscript \n",
    "```\n",
    "\n",
    "**afit/myscript**\n",
    "``` python\n",
    "#! /opt/venv/bin/python\n",
    "if __name__ == \"__main__\":\n",
    "    print(\"hello world\")\n",
    "```\n",
    "```bash\n",
    "$ ./myscript\n",
    "hello world\n",
    "```\n"
   ]
  },
  {
   "cell_type": "markdown",
   "metadata": {},
   "source": [
    "- builtins\n",
    "- default python library\n",
    "- 3rd party libraries/packages\n",
    "- modules"
   ]
  },
  {
   "cell_type": "markdown",
   "metadata": {},
   "source": [
    "### [built-in-types](https://docs.python.org/3/library/stdtypes.html#built-in-types)"
   ]
  },
  {
   "cell_type": "code",
   "execution_count": 54,
   "metadata": {},
   "outputs": [
    {
     "data": {
      "text/plain": [
       "(int, float, str, bool, None)"
      ]
     },
     "execution_count": 54,
     "metadata": {},
     "output_type": "execute_result"
    }
   ],
   "source": [
    "# NOTE: primitive\n",
    "int, float, str, bool, None"
   ]
  },
  {
   "cell_type": "code",
   "execution_count": 64,
   "metadata": {},
   "outputs": [
    {
     "data": {
      "text/plain": [
       "(int, float, complex)"
      ]
     },
     "execution_count": 64,
     "metadata": {},
     "output_type": "execute_result"
    }
   ],
   "source": [
    "# NOTE: numeric types\n",
    "assert (1_000_00.0).is_integer()\n",
    "assert not (4.2).is_integer()\n",
    "int, float, complex"
   ]
  },
  {
   "cell_type": "code",
   "execution_count": 57,
   "metadata": {},
   "outputs": [
    {
     "data": {
      "text/plain": [
       "(list, tuple, dict, set, complex)"
      ]
     },
     "execution_count": 57,
     "metadata": {},
     "output_type": "execute_result"
    }
   ],
   "source": [
    "# NOTE: non-primitive\n",
    "list, tuple, dict, set"
   ]
  },
  {
   "cell_type": "code",
   "execution_count": 65,
   "metadata": {},
   "outputs": [
    {
     "data": {
      "text/plain": [
       "3141.592653589793"
      ]
     },
     "execution_count": 65,
     "metadata": {},
     "output_type": "execute_result"
    }
   ],
   "source": [
    "import math\n",
    "\n",
    "onek = \"1_000\"\n",
    "assert isinstance(onek, str)\n",
    "assert isinstance(int(onek), int)\n",
    "assert isinstance(float(onek), float)\n",
    "\n",
    "num = complex(float(onek), 5) * math.pi\n",
    "num.real"
   ]
  },
  {
   "cell_type": "code",
   "execution_count": 7,
   "metadata": {},
   "outputs": [
    {
     "data": {
      "text/plain": [
       "(<function abs(x, /)>,\n",
       " <function all(iterable, /)>,\n",
       " <function any(iterable, /)>,\n",
       " <function dir>,\n",
       " <function sum(iterable, /, start=0)>,\n",
       " <function pow(base, exp, mod=None)>,\n",
       " <function max>,\n",
       " <function min>)"
      ]
     },
     "execution_count": 7,
     "metadata": {},
     "output_type": "execute_result"
    }
   ],
   "source": [
    "# NOTE: builtin functions\n",
    "# https://docs.python.org/3/library/functions.html\n",
    "abs, all, any, dir, sum, pow, max, min"
   ]
  },
  {
   "cell_type": "code",
   "execution_count": 8,
   "metadata": {},
   "outputs": [
    {
     "name": "stdout",
     "output_type": "stream",
     "text": [
      "Help on built-in function pow in module builtins:\n",
      "\n",
      "pow(base, exp, mod=None)\n",
      "    Equivalent to base**exp with 2 arguments or base**exp % mod with 3 arguments\n",
      "    \n",
      "    Some types, such as ints, are able to use a more efficient algorithm when\n",
      "    invoked using the three argument form.\n",
      "\n"
     ]
    }
   ],
   "source": [
    "help(pow)"
   ]
  },
  {
   "cell_type": "code",
   "execution_count": 9,
   "metadata": {},
   "outputs": [
    {
     "data": {
      "text/plain": [
       "True"
      ]
     },
     "execution_count": 9,
     "metadata": {},
     "output_type": "execute_result"
    }
   ],
   "source": [
    "pow(5, 5) == 5**5"
   ]
  },
  {
   "cell_type": "code",
   "execution_count": 10,
   "metadata": {},
   "outputs": [
    {
     "data": {
      "text/plain": [
       "(list, str, set, tuple, dict, int, float, bool, None)"
      ]
     },
     "execution_count": 10,
     "metadata": {},
     "output_type": "execute_result"
    }
   ],
   "source": [
    "list, str, set, tuple, dict, int, float, bool, None"
   ]
  },
  {
   "cell_type": "code",
   "execution_count": 11,
   "metadata": {},
   "outputs": [
    {
     "data": {
      "text/plain": [
       "True"
      ]
     },
     "execution_count": 11,
     "metadata": {},
     "output_type": "execute_result"
    }
   ],
   "source": [
    "# numerics ints and floats\n",
    "one_int = 1\n",
    "one_float = 1.0\n",
    "(isinstance(one_int, int) and isinstance(one_float, float)) and not (\n",
    "    isinstance(one_int, float) and isinstance(one_float, int)\n",
    ")"
   ]
  },
  {
   "cell_type": "code",
   "execution_count": 12,
   "metadata": {},
   "outputs": [
    {
     "data": {
      "text/plain": [
       "True"
      ]
     },
     "execution_count": 12,
     "metadata": {},
     "output_type": "execute_result"
    }
   ],
   "source": [
    "one_int == one_float"
   ]
  },
  {
   "cell_type": "code",
   "execution_count": 13,
   "metadata": {},
   "outputs": [
    {
     "data": {
      "text/plain": [
       "True"
      ]
     },
     "execution_count": 13,
     "metadata": {},
     "output_type": "execute_result"
    }
   ],
   "source": [
    "# collections\n",
    "list\n",
    "list(range(5)) == [0, 1, 2, 3, 4]"
   ]
  },
  {
   "cell_type": "code",
   "execution_count": 14,
   "metadata": {},
   "outputs": [
    {
     "data": {
      "text/plain": [
       "True"
      ]
     },
     "execution_count": 14,
     "metadata": {},
     "output_type": "execute_result"
    }
   ],
   "source": [
    "tuple\n",
    "tuple(range(5)) == (0, 1, 2, 3, 4)"
   ]
  },
  {
   "cell_type": "code",
   "execution_count": 15,
   "metadata": {},
   "outputs": [
    {
     "data": {
      "text/plain": [
       "True"
      ]
     },
     "execution_count": 15,
     "metadata": {},
     "output_type": "execute_result"
    }
   ],
   "source": [
    "set\n",
    "set(range(5)) == {0, 1, 2, 3, 4}"
   ]
  },
  {
   "cell_type": "code",
   "execution_count": 16,
   "metadata": {},
   "outputs": [
    {
     "name": "stdout",
     "output_type": "stream",
     "text": [
      "starting: [0, 1, 2, 3, 4]\n",
      "appended: [0, 1, 2, 3, 4, 4, 3, 2, 1, 0]\n",
      "sorted: [0, 0, 1, 1, 2, 2, 3, 3, 4, 4]\n"
     ]
    }
   ],
   "source": [
    "_list = list(range(5))\n",
    "print(\"starting:\", _list)\n",
    "for i in reversed(range(len(_list))):\n",
    "    _list.append(i)\n",
    "print(\"appended:\", _list)\n",
    "print(\"sorted:\", sorted(_list))"
   ]
  },
  {
   "cell_type": "code",
   "execution_count": 17,
   "metadata": {},
   "outputs": [
    {
     "data": {
      "text/plain": [
       "[0, 1, 2, 3, 4, 4, 3, 2, 1, 0]"
      ]
     },
     "execution_count": 17,
     "metadata": {},
     "output_type": "execute_result"
    }
   ],
   "source": [
    "_list = list(range(5))\n",
    "_list + list(reversed(range(len(_list))))"
   ]
  },
  {
   "cell_type": "code",
   "execution_count": 18,
   "metadata": {},
   "outputs": [
    {
     "data": {
      "text/plain": [
       "[0, 1, 2, 3, 4, 0, 1, 2, 3, 4]"
      ]
     },
     "execution_count": 18,
     "metadata": {},
     "output_type": "execute_result"
    }
   ],
   "source": [
    "# unpacking\n",
    "[*range(5), *range(5)]"
   ]
  },
  {
   "cell_type": "code",
   "execution_count": 19,
   "metadata": {},
   "outputs": [
    {
     "name": "stdout",
     "output_type": "stream",
     "text": [
      "<class 'str'>\n"
     ]
    },
    {
     "data": {
      "text/plain": [
       "True"
      ]
     },
     "execution_count": 19,
     "metadata": {},
     "output_type": "execute_result"
    }
   ],
   "source": [
    "print(type(str(1000)))\n",
    "1_000 == 1000 and not str(1000) == 1000"
   ]
  },
  {
   "cell_type": "code",
   "execution_count": 20,
   "metadata": {},
   "outputs": [
    {
     "name": "stdout",
     "output_type": "stream",
     "text": [
      "\n",
      "the full list:\n",
      "[0.0, 3.14, 6.28, 9.42, 12.57, 15.71, 18.85, 21.99, 25.13, 28.27, 31.42, 34.56, 37.7, 40.84, 43.98, 47.12, 50.27, 53.41, 56.55, 59.69, 62.83, 65.97, 69.12, 72.26, 75.4, 78.54, 81.68, 84.82, 87.96, 91.11, 94.25, 97.39, 100.53, 103.67, 106.81, 109.96, 113.1, 116.24, 119.38, 122.52, 125.66, 128.81, 131.95, 135.09, 138.23, 141.37, 144.51, 147.65, 150.8, 153.94, 157.08, 160.22, 163.36, 166.5, 169.65, 172.79, 175.93, 179.07, 182.21, 185.35, 188.5, 191.64, 194.78, 197.92, 201.06, 204.2, 207.35, 210.49, 213.63, 216.77, 219.91, 223.05, 226.19, 229.34, 232.48, 235.62, 238.76, 241.9, 245.04, 248.19, 251.33, 254.47, 257.61, 260.75, 263.89, 267.04, 270.18, 273.32, 276.46, 279.6, 282.74, 285.88, 289.03, 292.17, 295.31, 298.45, 301.59, 304.73, 307.88, 311.02]\n",
      "\n",
      "start position 31.42\n",
      "stop position 157.08\n",
      "last value 311.02\n",
      "\n",
      "sliced list:\n",
      "[31.42, 37.7, 43.98, 50.27, 56.55, 62.83, 69.12, 75.4, 81.68, 87.96, 94.25, 100.53, 106.81, 113.1, 119.38, 125.66, 131.95, 138.23, 144.51, 150.8]\n",
      "\n"
     ]
    }
   ],
   "source": [
    "# SLICING and indexing\n",
    "import math\n",
    "\n",
    "# this is list comprehension, more to follow\n",
    "my_list = [round(i * math.pi, ndigits=2) for i in range(100)]\n",
    "start, stop, step = 10, 50, 2\n",
    "\n",
    "print(\n",
    "    f\"\"\"\n",
    "the full list:\n",
    "{my_list}\n",
    "\n",
    "start position {my_list[start]}\n",
    "stop position {my_list[stop]}\n",
    "last value {my_list[-1]}\n",
    "\n",
    "sliced list:\n",
    "{my_list[start:stop:step]}\n",
    "\"\"\"\n",
    ")\n",
    "assert my_list[start:stop:step] == my_list[slice(start, stop, step)]"
   ]
  },
  {
   "cell_type": "code",
   "execution_count": 21,
   "metadata": {},
   "outputs": [
    {
     "data": {
      "text/plain": [
       "('a', 'b', 'c')"
      ]
     },
     "execution_count": 21,
     "metadata": {},
     "output_type": "execute_result"
    }
   ],
   "source": [
    "# UNPACKING\n",
    "\n",
    "# you can use the a wild card to denote how you may want something unpacked\n",
    "# unpacking list\n",
    "a1, b1, c1 = [1, 2, 3]\n",
    "*a2b2, c2 = [1, 2, 3]\n",
    "assert c1 == c2\n",
    "# unpacking tuple\n",
    "a1, b1, c1 = (1, 2, 3)\n",
    "a2, *b2c2 = (1, 2, 3)\n",
    "assert a1 == a2\n",
    "# unpacking dict\n",
    "# NOTE: only unpacks the keys\n",
    "a, b, c = {\"a\": 1, \"b\": 2, \"c\": 3}\n",
    "a, b, c"
   ]
  },
  {
   "cell_type": "code",
   "execution_count": 22,
   "metadata": {},
   "outputs": [
    {
     "name": "stdout",
     "output_type": "stream",
     "text": [
      "tuples are immutable\n",
      "but list are not\n",
      "checkout the new collection\n",
      " ['cat', 'wolf', 'cat', 'dog']\n",
      "sets are an unordered collection of unique elements, so we had to get rid of the second cat {'dog', 'cat', 'wolf'}\n"
     ]
    }
   ],
   "source": [
    "col = (\"cat\", \"dog\", \"cat\", \"dog\")\n",
    "try:\n",
    "    col[1] = \"wolf\"\n",
    "except TypeError:\n",
    "    print(\n",
    "        \"tuples are immutable\\nbut list are not\",\n",
    "    )\n",
    "    col = list(col)\n",
    "col[1] = \"wolf\"\n",
    "print(\"checkout the new collection\\n\", col)\n",
    "print(\n",
    "    \"sets are an unordered collection of unique elements, so we had to get rid of the second cat\",\n",
    "    set(col),\n",
    ")"
   ]
  },
  {
   "cell_type": "code",
   "execution_count": 23,
   "metadata": {},
   "outputs": [
    {
     "data": {
      "text/plain": [
       "{'a': 1, 'b': 2}"
      ]
     },
     "execution_count": 23,
     "metadata": {},
     "output_type": "execute_result"
    }
   ],
   "source": [
    "my_dict = {\"a\": 1, \"b\": 2}\n",
    "my_dict"
   ]
  },
  {
   "cell_type": "code",
   "execution_count": 24,
   "metadata": {},
   "outputs": [
    {
     "data": {
      "text/plain": [
       "1"
      ]
     },
     "execution_count": 24,
     "metadata": {},
     "output_type": "execute_result"
    }
   ],
   "source": [
    "my_dict[\"a\"]"
   ]
  },
  {
   "cell_type": "code",
   "execution_count": 25,
   "metadata": {},
   "outputs": [
    {
     "data": {
      "text/plain": [
       "(dict_items([('a', 1), ('b', 2)]), dict_values([1, 2]), dict_keys(['a', 'b']))"
      ]
     },
     "execution_count": 25,
     "metadata": {},
     "output_type": "execute_result"
    }
   ],
   "source": [
    "my_dict.items(), my_dict.values(), my_dict.keys()"
   ]
  },
  {
   "cell_type": "code",
   "execution_count": 26,
   "metadata": {},
   "outputs": [
    {
     "data": {
      "text/plain": [
       "{'A': 2, 'B': 3}"
      ]
     },
     "execution_count": 26,
     "metadata": {},
     "output_type": "execute_result"
    }
   ],
   "source": [
    "{k.upper(): v + 1 for k, v in my_dict.items()}"
   ]
  },
  {
   "cell_type": "code",
   "execution_count": 27,
   "metadata": {},
   "outputs": [
    {
     "data": {
      "text/plain": [
       "(type, enumerate, range, zip)"
      ]
     },
     "execution_count": 27,
     "metadata": {},
     "output_type": "execute_result"
    }
   ],
   "source": [
    "type, enumerate, range, zip"
   ]
  },
  {
   "cell_type": "code",
   "execution_count": 28,
   "metadata": {},
   "outputs": [
    {
     "name": "stdout",
     "output_type": "stream",
     "text": [
      "13\n",
      "5\n",
      "36\n",
      "2.25\n",
      "2\n",
      "1\n",
      "6561\n"
     ]
    }
   ],
   "source": [
    "# Examples of Arithmetic Operator\n",
    "a = 9\n",
    "b = 4\n",
    "\n",
    "# Addition of numbers\n",
    "add = a + b\n",
    "\n",
    "# Subtraction of numbers\n",
    "sub = a - b\n",
    "\n",
    "# Multiplication of number\n",
    "mul = a * b\n",
    "\n",
    "# Division(float) of number\n",
    "div1 = a / b\n",
    "\n",
    "# Division(floor) of number\n",
    "div2 = a // b\n",
    "\n",
    "# Modulo of both number\n",
    "mod = a % b\n",
    "\n",
    "# Power\n",
    "p = a**b\n",
    "\n",
    "# print results\n",
    "print(add)\n",
    "print(sub)\n",
    "print(mul)\n",
    "print(div1)\n",
    "print(div2)\n",
    "print(mod)\n",
    "print(p)"
   ]
  },
  {
   "cell_type": "code",
   "execution_count": 29,
   "metadata": {},
   "outputs": [
    {
     "name": "stdout",
     "output_type": "stream",
     "text": [
      "\n",
      "numeric diffrence = 340\n",
      "degree diffrence  = 20°\n",
      "\n"
     ]
    }
   ],
   "source": [
    "# assume you have wind direction\n",
    "dir_a = 350\n",
    "dir_b = 10\n",
    "wrong = dir_a - dir_b\n",
    "print(\n",
    "    f\"\"\"\n",
    "numeric diffrence = {dir_a - dir_b}\n",
    "degree diffrence  = {abs(((dir_a - dir_b) + 180) % 360 - 180)}°\n",
    "\"\"\"\n",
    ")"
   ]
  },
  {
   "cell_type": "code",
   "execution_count": 30,
   "metadata": {},
   "outputs": [
    {
     "data": {
      "text/plain": [
       "array([[ 28, 107, 102, ..., 101, 165,  23],\n",
       "       [157,  47,  10, ...,  77, 137,  47],\n",
       "       [ 67, 123, 127, ..., 112,  62, 112],\n",
       "       ...,\n",
       "       [153,   6,  34, ...,  45, 138,  31],\n",
       "       [ 35,  93, 175, ...,  14,  80,  74],\n",
       "       [117,  39, 100, ..., 142, 111,  80]])"
      ]
     },
     "execution_count": 30,
     "metadata": {},
     "output_type": "execute_result"
    }
   ],
   "source": [
    "import numpy as np\n",
    "\n",
    "size = (1440, 720)\n",
    "_925mb = np.random.randint(360, size=size)\n",
    "_1000mb = np.random.randint(360, size=size)\n",
    "directional_shear = abs(((_925mb - _1000mb) + 180) % 360 - 180)\n",
    "directional_shear"
   ]
  },
  {
   "cell_type": "code",
   "execution_count": 31,
   "metadata": {},
   "outputs": [
    {
     "name": "stdout",
     "output_type": "stream",
     "text": [
      "False\n",
      "True\n",
      "False\n",
      "True\n",
      "False\n",
      "True\n"
     ]
    }
   ],
   "source": [
    "# Examples of Relational Operators\n",
    "a = 13\n",
    "b = 33\n",
    "\n",
    "# a > b is False\n",
    "print(a > b)\n",
    "\n",
    "# a < b is True\n",
    "print(a < b)\n",
    "\n",
    "# a == b is False\n",
    "print(a == b)\n",
    "\n",
    "# a != b is True\n",
    "print(a != b)\n",
    "\n",
    "# a >= b is False\n",
    "print(a >= b)\n",
    "\n",
    "# a <= b is True\n",
    "print(a <= b)"
   ]
  }
 ],
 "metadata": {
  "kernelspec": {
   "display_name": "Python 3.10.4 ('venv')",
   "language": "python",
   "name": "python3"
  },
  "language_info": {
   "codemirror_mode": {
    "name": "ipython",
    "version": 3
   },
   "file_extension": ".py",
   "mimetype": "text/x-python",
   "name": "python",
   "nbconvert_exporter": "python",
   "pygments_lexer": "ipython3",
   "version": "3.10.4"
  },
  "orig_nbformat": 4,
  "vscode": {
   "interpreter": {
    "hash": "23393d2575091a37cff0d0e9e7479591a295495b26c3b2ebf9b64da572e02d85"
   }
  }
 },
 "nbformat": 4,
 "nbformat_minor": 2
}
