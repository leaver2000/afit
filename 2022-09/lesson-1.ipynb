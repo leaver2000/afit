{
 "cells": [
  {
   "cell_type": "code",
   "execution_count": 1,
   "metadata": {},
   "outputs": [
    {
     "data": {
      "text/html": [
       "\n",
       "                <script type=\"application/javascript\" id=\"jupyter_black\">\n",
       "                (function() {\n",
       "                    if (window.IPython === undefined) {\n",
       "                        return\n",
       "                    }\n",
       "                    var msg = \"WARNING: it looks like you might have loaded \" +\n",
       "                        \"jupyter_black in a non-lab notebook with \" +\n",
       "                        \"`is_lab=True`. Please double check, and if \" +\n",
       "                        \"loading with `%load_ext` please review the README!\"\n",
       "                    console.log(msg)\n",
       "                    alert(msg)\n",
       "                })()\n",
       "                </script>\n",
       "                "
      ],
      "text/plain": [
       "<IPython.core.display.HTML object>"
      ]
     },
     "metadata": {},
     "output_type": "display_data"
    }
   ],
   "source": [
    "%load_ext jupyter_black"
   ]
  },
  {
   "cell_type": "markdown",
   "metadata": {},
   "source": [
    "## development environement\n",
    "- Getting away from Windows\n",
    "    - WSL\n",
    "    - docker/remote-container\n",
    "- Terminal\n",
    "    - bash\n",
    "    - zsh\n",
    "- IDE\n",
    "    - vscode\n",
    "    - spyder\n",
    "    - pycharm"
   ]
  },
  {
   "cell_type": "markdown",
   "metadata": {},
   "source": [
    "## developing on windows \n",
    "\n",
    "\n",
    "if working on a windows system I recomend installing [WSL](https://docs.microsoft.com/en-us/windows/wsl/install)\n",
    "\n",
    "``` powershell\n",
    "PS C:\\Users\\Jason> wsl -l -v\n",
    "  NAME                   STATE           VERSION\n",
    "* Ubuntu-22.04           Running         2\n",
    "  docker-desktop         Running         2\n",
    "  docker-desktop-data    Running         2\n",
    "```\n",
    "\n",
    "another option is to use the vscode remote container extesion for your development environment\n",
    "\n",
    "\n"
   ]
  },
  {
   "cell_type": "markdown",
   "metadata": {},
   "source": [
    "## bash\n",
    "\n",
    "``` bash\n",
    "(venv) ➜  afit bash\n",
    "leaver2000@inwin:~/afit$ echo hello world\n",
    "hello world\n",
    "leaver2000@inwin:~/afit$ zsh\n",
    "(venv) ➜  afit echo hello world\n",
    "hello world\n",
    "```\n",
    "\n",
    "## zsh\n",
    "\n",
    "The Z shell (Zsh) is a Unix shell that can be used as an interactive login shell and as a command interpreter for shell scripting.\n",
    "\n",
    "I often use zsh and the [oh-my-zsh](https://github.com/ohmyzsh/ohmyzsh/wiki/Installing-ZSH) extension.\n",
    "\n",
    "## powershell\n",
    "\n",
    "PowerShell is a cross-platform task automation solution made up of a command-line shell, a scripting language, and a configuration management framework. PowerShell runs on Windows, Linux, and macOS.\n"
   ]
  },
  {
   "cell_type": "markdown",
   "metadata": {},
   "source": [
    "``` bash\n",
    "awk # pattern scanning and processing language\n",
    "basename # strip directory and suffix from filenames\n",
    "bg # resumes suspended jobs without bringing them to the foreground\n",
    "cat # print files\n",
    "cd # change the shell working directory.\n",
    "chmod # change file mode\n",
    "chown # change file owner and group\n",
    "crontab # maintain crontab files\n",
    "curl # transfer a URL\n",
    "cut # remove sections from each line of files\n",
    "date # display or set date and time\n",
    "dig # DNS lookup utility\n",
    "df # report file system disk space usage\n",
    "diff # compare files line by line\n",
    "du # estimate file space usage\n",
    "echo # display a line of text\n",
    "find # search for files in a directory hierarchy\n",
    "fg # resumes suspended jobs and bring them to the foreground\n",
    "grep # print lines matching a pattern\n",
    "kill # send a signal to a process\n",
    "less # read file with pagination\n",
    "ln # create links\n",
    "ls # list directory contents\n",
    "lsb_release # print distribution-specific information\n",
    "lsof # list open files\n",
    "mkdir # create\n",
    "mv # move files\n",
    "nc # arbitrary TCP and UDP connections and listens\n",
    "netstat # print network connections, routing tables, interface statistics...\n",
    "nice # execute a utility with an altered scheduling priority\n",
    "nproc # print the number of processing units available\n",
    "passwd # change user password\n",
    "pgrep # look up processes based on name and other attributes\n",
    "pkill # send signal to processes based on name and other attributes\n",
    "printenv # print all or part of environment\n",
    "pwd # print name of current/working directory\n",
    "top # display Linux processes\n",
    "tr # translate or delete characters\n",
    "ps # report a snapshot of the current processes\n",
    "rm # remove files or directories\n",
    "rmdir # remove directories\n",
    "rsync # remote file copy\n",
    "scp # secure copy (remote file copy program)\n",
    "sed # stream editor for filtering and transforming text\n",
    "sleep # suspend execution for an interval of time\n",
    "sort # sort lines of text file\n",
    "ssh # OpenSSH SSH client (remote login program)\n",
    "ssh-keygen # SSH key generation, management and conversion\n",
    "su # substitute user identity\n",
    "sudo # execute a command as another user\n",
    "tail # output the last part of files\n",
    "tar # manipulate archives files\n",
    "tr # translate or delete characters\n",
    "uname # Print operating system name\n",
    "uniq # report or omit repeated lines\n",
    "uptime # show how long system has been running\n",
    "w # Show who is logged on and what they are doing\n",
    "whereis # locate the binary, source, and manual page files for a command\n",
    "which # locate a command\n",
    "wc # print newline, word, and byte counts for each file\n",
    "xargs # build and execute command lines from standard input\n",
    "| # redirect standard output to another command\n",
    "> # redirect standard output\n",
    "< # redirect standard input\n",
    "& # send process to background\n",
    "```"
   ]
  },
  {
   "cell_type": "code",
   "execution_count": 2,
   "metadata": {
    "vscode": {
     "languageId": "shellscript"
    }
   },
   "outputs": [
    {
     "name": "stdout",
     "output_type": "stream",
     "text": [
      "hello world\n"
     ]
    }
   ],
   "source": [
    "%%bash \n",
    "# the magic command above will allow us to use this code block as as interactive terminal\n",
    "echo hello world"
   ]
  },
  {
   "cell_type": "code",
   "execution_count": 3,
   "metadata": {
    "vscode": {
     "languageId": "shellscript"
    }
   },
   "outputs": [
    {
     "name": "stdout",
     "output_type": "stream",
     "text": [
      "bin\n",
      "boot\n",
      "dev\n",
      "etc\n",
      "home\n",
      "init\n",
      "lib\n",
      "lib32\n",
      "lib64\n",
      "libx32\n",
      "lost+found\n",
      "media\n",
      "mnt\n",
      "opt\n",
      "proc\n",
      "root\n",
      "run\n",
      "sbin\n",
      "snap\n",
      "srv\n",
      "sys\n",
      "tmp\n",
      "usr\n",
      "var\n"
     ]
    }
   ],
   "source": [
    "%%bash \n",
    "# the magic command above will allow us to use this code block as as interactive terminal\n",
    "ls /"
   ]
  },
  {
   "cell_type": "code",
   "execution_count": 4,
   "metadata": {
    "vscode": {
     "languageId": "shellscript"
    }
   },
   "outputs": [
    {
     "name": "stdout",
     "output_type": "stream",
     "text": [
      "Requirement already satisfied: numpy in /home/windows/venv/lib/python3.10/site-packages (1.23.2)\n"
     ]
    }
   ],
   "source": [
    "%%bash\n",
    "pip install numpy"
   ]
  },
  {
   "cell_type": "code",
   "execution_count": 5,
   "metadata": {
    "vscode": {
     "languageId": "shellscript"
    }
   },
   "outputs": [
    {
     "name": "stdout",
     "output_type": "stream",
     "text": [
      "Requirement already satisfied: numpy in /home/windows/venv/lib/python3.10/site-packages (1.23.2)\n"
     ]
    }
   ],
   "source": [
    "!pip install numpy"
   ]
  },
  {
   "cell_type": "code",
   "execution_count": 6,
   "metadata": {
    "vscode": {
     "languageId": "shellscript"
    }
   },
   "outputs": [
    {
     "name": "stdout",
     "output_type": "stream",
     "text": [
      "/home/windows/venv/bin/python\n",
      "/home/windows/notbookvenv/bin/python\n"
     ]
    }
   ],
   "source": [
    "%%bash\n",
    "echo $(which python)\n",
    "python -m venv ~/notbookvenv\n",
    "source ~/notbookvenv/bin/activate\n",
    "echo $(which python)"
   ]
  },
  {
   "cell_type": "markdown",
   "metadata": {},
   "source": [
    "there are sveral ways to run python\n",
    "### from the terminal\n",
    "``` python\n",
    "$ python\n",
    "Python 3.10.4 (main, Jun 29 2022, 12:14:53) [GCC 11.2.0] on linux\n",
    "Type \"help\", \"copyright\", \"credits\" or \"license\" for more information.\n",
    ">>> print(\"hello world\")\n",
    "hello world\n",
    "```\n",
    "\n",
    "### running a named program file\n",
    "\n",
    "``` bash\n",
    "$ python app.py  \n",
    "hello world\n",
    "```\n",
    "\n",
    "### -m module : run library module as a script (terminates option list)\n",
    "\n",
    "``` bash\n",
    "$ python -m app\n",
    "hello world\n",
    "```\n",
    "\n",
    "\n",
    "#### -c command : program passed in as string (terminates option list)\n",
    "``` bash\n",
    "$ python -c \"print('hello world')\"\n",
    "hello world\n",
    "```\n",
    "### running a UNnamed program file\n",
    "\n",
    "``` bash\n",
    "touch myscript && chmod 777 myscript \n",
    "```\n",
    "\n",
    "**afit/myscript**\n",
    "``` python\n",
    "#! /opt/venv/bin/python\n",
    "if __name__ == \"__main__\":\n",
    "    print(\"hello world\")\n",
    "```\n",
    "```bash\n",
    "$ ./myscript\n",
    "hello world\n",
    "```\n"
   ]
  },
  {
   "cell_type": "markdown",
   "metadata": {},
   "source": [
    "- builtins\n",
    "- default python library\n",
    "- 3rd party libraries/packages\n",
    "- modules"
   ]
  },
  {
   "cell_type": "markdown",
   "metadata": {},
   "source": [
    "### [built-in-types](https://docs.python.org/3/library/stdtypes.html#built-in-types)"
   ]
  },
  {
   "cell_type": "code",
   "execution_count": 7,
   "metadata": {},
   "outputs": [
    {
     "data": {
      "text/plain": [
       "1000"
      ]
     },
     "execution_count": 7,
     "metadata": {},
     "output_type": "execute_result"
    }
   ],
   "source": [
    "# NOTE: primitives, assert, and the built-in isinstance function\n",
    "assert isinstance(1, int)\n",
    "assert isinstance(1.0, float)\n",
    "assert isinstance(\"1.0\", str)\n",
    "assert isinstance(False, bool)\n",
    "assert isinstance(True, bool)\n",
    "assert isinstance(None, type(None))\n",
    "int, float, str, bool, None\n",
    "int.__repr__(5_000)\n",
    "1_000"
   ]
  },
  {
   "cell_type": "code",
   "execution_count": 8,
   "metadata": {},
   "outputs": [
    {
     "data": {
      "text/plain": [
       "(int, float, complex)"
      ]
     },
     "execution_count": 8,
     "metadata": {},
     "output_type": "execute_result"
    }
   ],
   "source": [
    "# NOTE: numeric types\n",
    "assert (1_000_00.0).is_integer()\n",
    "assert not (4.2).is_integer()\n",
    "int, float, complex"
   ]
  },
  {
   "cell_type": "code",
   "execution_count": 9,
   "metadata": {},
   "outputs": [
    {
     "data": {
      "text/plain": [
       "3141.592653589793"
      ]
     },
     "execution_count": 9,
     "metadata": {},
     "output_type": "execute_result"
    }
   ],
   "source": [
    "import math\n",
    "\n",
    "onek = \"1_000\"\n",
    "assert isinstance(onek, str)\n",
    "assert isinstance(int(onek), int)\n",
    "assert isinstance(float(onek), float)\n",
    "\n",
    "num = complex(float(onek), 5) * math.pi\n",
    "num.real"
   ]
  },
  {
   "cell_type": "code",
   "execution_count": 10,
   "metadata": {},
   "outputs": [
    {
     "name": "stdout",
     "output_type": "stream",
     "text": [
      "\n",
      "tuple -> round bracket\n",
      "(<class 'list'>, <class 'tuple'>, <class 'dict'>, <class 'set'>)\n",
      "\n",
      "list -> square bracket\n",
      "[<class 'list'>, <class 'tuple'>, <class 'dict'>, <class 'set'>]\n",
      "\n",
      "set -> curly bracket\n",
      "{<class 'list'>, <class 'tuple'>, <class 'set'>, <class 'dict'>}\n",
      "\n",
      "dict -> curly bracket with key value pairs\n",
      "{'list': <class 'list'>, 'tuple': <class 'tuple'>, 'dict': <class 'dict'>, 'set': <class 'set'>}\n",
      "\n"
     ]
    }
   ],
   "source": [
    "# NOTE: non-primitive collections\n",
    "non_primitives = list, tuple, dict, set\n",
    "\n",
    "print(\n",
    "    f\"\"\"\n",
    "tuple -> round bracket\n",
    "{tuple(non_primitives)}\n",
    "\n",
    "list -> square bracket\n",
    "{list(non_primitives)}\n",
    "\n",
    "set -> curly bracket\n",
    "{set(non_primitives)}\n",
    "\n",
    "dict -> curly bracket with key value pairs\n",
    "{dict(list=list, tuple=tuple, dict=dict, set=set)}\n",
    "\"\"\"\n",
    ")"
   ]
  },
  {
   "cell_type": "markdown",
   "metadata": {},
   "source": [
    "## [f-string](https://docs.python.org/3/library/string.html#format-string-syntax)"
   ]
  },
  {
   "cell_type": "code",
   "execution_count": 92,
   "metadata": {},
   "outputs": [
    {
     "data": {
      "text/plain": [
       "'the high temp today is 87 degrees'"
      ]
     },
     "execution_count": 92,
     "metadata": {},
     "output_type": "execute_result"
    }
   ],
   "source": [
    "MAX_TEMP = 87\n",
    "f\"the high temp today is {MAX_TEMP} degrees\""
   ]
  },
  {
   "cell_type": "code",
   "execution_count": 66,
   "metadata": {},
   "outputs": [
    {
     "name": "stdout",
     "output_type": "stream",
     "text": [
      "\n",
      "ob from positional template\n",
      "False 091721Z 03020G30KT\n",
      "ob from keyword positional string\n",
      "METAR krap 091721Z 03020G30KT\n",
      "ob using fstring\n",
      "METAR KRAP 091721Z 03020G30KT 5000 FC +TSRA PO\n",
      "\n"
     ]
    }
   ],
   "source": [
    "from datetime import datetime\n",
    "\n",
    "icao = \"krap\"\n",
    "speci = False\n",
    "vt = datetime.utcnow()\n",
    "wdir, wspd, wgst = 30, 20, 30\n",
    "vis = 5000\n",
    "WX = [\"FC\", \"+TSRA\", \"PO\"]\n",
    "\n",
    "\n",
    "# positional template strings\n",
    "template_pos = \"{0} {1:%m%H%M}Z {2:03d}{3}G{4}KT\"\n",
    "ob_temp_pos = template_pos.format(speci, vt, wdir, wspd, wgst)\n",
    "# template string with key word arguments\n",
    "template_kw = \"{kind} {icao} {valid_time:%m%H%M}Z {direction:03d}{speed}G{gust}KT\"\n",
    "ob_temp_kw = template_kw.format(\n",
    "    kind=\"METAR\", icao=icao, valid_time=vt, direction=wdir, speed=wspd, gust=wgst\n",
    ")\n",
    "# using an fstring\n",
    "ob_fstr = f\"{'SPECI' if speci else 'METAR'} {icao.upper()} {vt:%m%H%M}Z {int(wdir):03d}{wspd:02d}G{wgst}KT {vis} {' '.join(WX)}\"\n",
    "\n",
    "# https://docs.python.org/3/library/string.html#format-string-syntax\n",
    "print(\n",
    "    f\"\"\"\n",
    "ob from positional template\n",
    "{ob_temp_pos}\n",
    "ob from keyword positional string\n",
    "{ob_temp_kw}\n",
    "ob using fstring\n",
    "{ob_fstr}\n",
    "\"\"\"\n",
    ")"
   ]
  },
  {
   "cell_type": "code",
   "execution_count": 73,
   "metadata": {},
   "outputs": [
    {
     "data": {
      "text/plain": [
       "'\\nKBLV 061655Z 35006KT 10SM SCT014 OVC055 26/21 A3010 RMK AO2A SLP193 T02570213 CHINO RWY14R $\\nKBLV 061555Z 32004KT 9SM OVC008 23/21 A3010 RMK AO2A SLP193 T02310210 CHINO RWY14R $\\nKBLV 061550Z 30005KT 9SM OVC008 23/21 A3010 RMK AO2A SLP193 CHINO RWY14R $\\nKBLV 061455Z 02004KT 7SM OVC007 22/20 A3010 RMK AO2A SLP193 T02170201 52014 CHINO RWY14R $\\nKBLV 061450Z 33004KT 7SM OVC007 22/20 A3010 RMK AO2A SLP193 CHINO RWY14R $\\nKBLV 061405Z 34003KT 7SM OVC006 21/20 A3009 RMK AO2A OVC V BKN SLP190 CHINO RWY14R $\\nKBLV 061355Z 35003KT 7SM SCT006 OVC048 22/20 A3009 RMK AO2A SLP190 T02150203 CHINO RWY14R $\\nKBLV 061255Z 34004KT 10SM SCT005 BKN048 21/20 A3008 RMK AO2A SLP186 T02080198 CHINO RWY14R $\\nKBLV 061236Z AUTO 35004KT 5SM BR SCT005 OVC050 21/20 A3007 RMK AO2 SLP183 CHINO RWY14R $\\nKBLV 061231Z AUTO 35003KT 6SM BR BKN005 OVC050 21/20 A3007 RMK AO2 CIG 005V050 BKN V SCT SLP183 CHINO RWY14R $\\nKBLV 061216Z 35003KT 6SM BR SCT005 BKN050 21/20 A3007 RMK AO2A SLP183 CHINO RWY14R $\\nKBLV 061207Z 34003KT 6SM BR BKN045 21/20 A3006 RMK AO2A SLP180 CHINO RWY14R $\\nKBLV 061155Z 34003KT 6SM BR OVC049 21/20 A3006 RMK AO2A SLP180 70001 T02060197 10213 20201 52015 CHINO RWY14R $\\n'"
      ]
     },
     "execution_count": 73,
     "metadata": {},
     "output_type": "execute_result"
    }
   ],
   "source": [
    "obs = \"\"\"\n",
    "KBLV 061655Z 35006KT 10SM SCT014 OVC055 26/21 A3010 RMK AO2A SLP193 T02570213 CHINO RWY14R $\n",
    "KBLV 061555Z 32004KT 9SM OVC008 23/21 A3010 RMK AO2A SLP193 T02310210 CHINO RWY14R $\n",
    "KBLV 061550Z 30005KT 9SM OVC008 23/21 A3010 RMK AO2A SLP193 CHINO RWY14R $\n",
    "KBLV 061455Z 02004KT 7SM OVC007 22/20 A3010 RMK AO2A SLP193 T02170201 52014 CHINO RWY14R $\n",
    "KBLV 061450Z 33004KT 7SM OVC007 22/20 A3010 RMK AO2A SLP193 CHINO RWY14R $\n",
    "KBLV 061405Z 34003KT 7SM OVC006 21/20 A3009 RMK AO2A OVC V BKN SLP190 CHINO RWY14R $\n",
    "KBLV 061355Z 35003KT 7SM SCT006 OVC048 22/20 A3009 RMK AO2A SLP190 T02150203 CHINO RWY14R $\n",
    "KBLV 061255Z 34004KT 10SM SCT005 BKN048 21/20 A3008 RMK AO2A SLP186 T02080198 CHINO RWY14R $\n",
    "KBLV 061236Z AUTO 35004KT 5SM BR SCT005 OVC050 21/20 A3007 RMK AO2 SLP183 CHINO RWY14R $\n",
    "KBLV 061231Z AUTO 35003KT 6SM BR BKN005 OVC050 21/20 A3007 RMK AO2 CIG 005V050 BKN V SCT SLP183 CHINO RWY14R $\n",
    "KBLV 061216Z 35003KT 6SM BR SCT005 BKN050 21/20 A3007 RMK AO2A SLP183 CHINO RWY14R $\n",
    "KBLV 061207Z 34003KT 6SM BR BKN045 21/20 A3006 RMK AO2A SLP180 CHINO RWY14R $\n",
    "KBLV 061155Z 34003KT 6SM BR OVC049 21/20 A3006 RMK AO2A SLP180 70001 T02060197 10213 20201 52015 CHINO RWY14R $\n",
    "\"\"\"\n",
    "\n",
    "obs"
   ]
  },
  {
   "cell_type": "code",
   "execution_count": 86,
   "metadata": {},
   "outputs": [
    {
     "name": "stdout",
     "output_type": "stream",
     "text": [
      "\n",
      "['', 'KBLV 061655Z 35006KT 10SM SCT014 OVC055 26/21 A3010 RMK AO2A SLP193 T02570213 CHINO RWY14R $', 'KBLV 061555Z 32004KT 9SM OVC008 23/21 A3010 RMK AO2A SLP193 T02310210 CHINO RWY14R $', 'KBLV 061550Z 30005KT 9SM OVC008 23/21 A3010 RMK AO2A SLP193 CHINO RWY14R $', 'KBLV 061455Z 02004KT 7SM OVC007 22/20 A3010 RMK AO2A SLP193 T02170201 52014 CHINO RWY14R $', 'KBLV 061450Z 33004KT 7SM OVC007 22/20 A3010 RMK AO2A SLP193 CHINO RWY14R $', 'KBLV 061405Z 34003KT 7SM OVC006 21/20 A3009 RMK AO2A OVC V BKN SLP190 CHINO RWY14R $', 'KBLV 061355Z 35003KT 7SM SCT006 OVC048 22/20 A3009 RMK AO2A SLP190 T02150203 CHINO RWY14R $', 'KBLV 061255Z 34004KT 10SM SCT005 BKN048 21/20 A3008 RMK AO2A SLP186 T02080198 CHINO RWY14R $', 'KBLV 061236Z AUTO 35004KT 5SM BR SCT005 OVC050 21/20 A3007 RMK AO2 SLP183 CHINO RWY14R $', 'KBLV 061231Z AUTO 35003KT 6SM BR BKN005 OVC050 21/20 A3007 RMK AO2 CIG 005V050 BKN V SCT SLP183 CHINO RWY14R $', 'KBLV 061216Z 35003KT 6SM BR SCT005 BKN050 21/20 A3007 RMK AO2A SLP183 CHINO RWY14R $', 'KBLV 061207Z 34003KT 6SM BR BKN045 21/20 A3006 RMK AO2A SLP180 CHINO RWY14R $', 'KBLV 061155Z 34003KT 6SM BR OVC049 21/20 A3006 RMK AO2A SLP180 70001 T02060197 10213 20201 52015 CHINO RWY14R $', '']\n",
      "['KBLV 061655Z 35006KT 10SM SCT014 OVC055 26/21 A3010 RMK AO2A SLP193 T02570213 CHINO RWY14R $', 'KBLV 061555Z 32004KT 9SM OVC008 23/21 A3010 RMK AO2A SLP193 T02310210 CHINO RWY14R $', 'KBLV 061550Z 30005KT 9SM OVC008 23/21 A3010 RMK AO2A SLP193 CHINO RWY14R $', 'KBLV 061455Z 02004KT 7SM OVC007 22/20 A3010 RMK AO2A SLP193 T02170201 52014 CHINO RWY14R $', 'KBLV 061450Z 33004KT 7SM OVC007 22/20 A3010 RMK AO2A SLP193 CHINO RWY14R $', 'KBLV 061405Z 34003KT 7SM OVC006 21/20 A3009 RMK AO2A OVC V BKN SLP190 CHINO RWY14R $', 'KBLV 061355Z 35003KT 7SM SCT006 OVC048 22/20 A3009 RMK AO2A SLP190 T02150203 CHINO RWY14R $', 'KBLV 061255Z 34004KT 10SM SCT005 BKN048 21/20 A3008 RMK AO2A SLP186 T02080198 CHINO RWY14R $', 'KBLV 061236Z AUTO 35004KT 5SM BR SCT005 OVC050 21/20 A3007 RMK AO2 SLP183 CHINO RWY14R $', 'KBLV 061231Z AUTO 35003KT 6SM BR BKN005 OVC050 21/20 A3007 RMK AO2 CIG 005V050 BKN V SCT SLP183 CHINO RWY14R $', 'KBLV 061216Z 35003KT 6SM BR SCT005 BKN050 21/20 A3007 RMK AO2A SLP183 CHINO RWY14R $', 'KBLV 061207Z 34003KT 6SM BR BKN045 21/20 A3006 RMK AO2A SLP180 CHINO RWY14R $', 'KBLV 061155Z 34003KT 6SM BR OVC049 21/20 A3006 RMK AO2A SLP180 70001 T02060197 10213 20201 52015 CHINO RWY14R $']\n",
      "['KBLV 061655Z 35006KT 10SM SCT014 OVC055 26/21 A3010 RMK AO2A SLP193 T02570213 CHINO RWY14R $', 'KBLV 061555Z 32004KT 9SM OVC008 23/21 A3010 RMK AO2A SLP193 T02310210 CHINO RWY14R $', 'KBLV 061550Z 30005KT 9SM OVC008 23/21 A3010 RMK AO2A SLP193 CHINO RWY14R $', 'KBLV 061455Z 02004KT 7SM OVC007 22/20 A3010 RMK AO2A SLP193 T02170201 52014 CHINO RWY14R $', 'KBLV 061450Z 33004KT 7SM OVC007 22/20 A3010 RMK AO2A SLP193 CHINO RWY14R $', 'KBLV 061405Z 34003KT 7SM OVC006 21/20 A3009 RMK AO2A OVC V BKN SLP190 CHINO RWY14R $', 'KBLV 061355Z 35003KT 7SM SCT006 OVC048 22/20 A3009 RMK AO2A SLP190 T02150203 CHINO RWY14R $', 'KBLV 061255Z 34004KT 10SM SCT005 BKN048 21/20 A3008 RMK AO2A SLP186 T02080198 CHINO RWY14R $', 'KBLV 061236Z AUTO 35004KT 5SM BR SCT005 OVC050 21/20 A3007 RMK AO2 SLP183 CHINO RWY14R $', 'KBLV 061231Z AUTO 35003KT 6SM BR BKN005 OVC050 21/20 A3007 RMK AO2 CIG 005V050 BKN V SCT SLP183 CHINO RWY14R $', 'KBLV 061216Z 35003KT 6SM BR SCT005 BKN050 21/20 A3007 RMK AO2A SLP183 CHINO RWY14R $', 'KBLV 061207Z 34003KT 6SM BR BKN045 21/20 A3006 RMK AO2A SLP180 CHINO RWY14R $', 'KBLV 061155Z 34003KT 6SM BR OVC049 21/20 A3006 RMK AO2A SLP180 70001 T02060197 10213 20201 52015 CHINO RWY14R $']\n",
      "\n"
     ]
    }
   ],
   "source": [
    "iterable = obs.split(\"\\n\")\n",
    "trimmed = obs.strip().split(\"\\n\")\n",
    "\n",
    "print(\n",
    "    f\"\"\"\n",
    "{iterable}\n",
    "{[item for item in iterable if item != \"\"]}\n",
    "{trimmed}\n",
    "\"\"\"\n",
    ")"
   ]
  },
  {
   "cell_type": "code",
   "execution_count": 91,
   "metadata": {},
   "outputs": [
    {
     "name": "stdout",
     "output_type": "stream",
     "text": [
      "at the time 061655Z\n",
      "the observed winds were 35006KT\n",
      "\n",
      "\n",
      "at the time 061555Z\n",
      "the observed winds were 32004KT\n",
      "\n",
      "\n",
      "at the time 061550Z\n",
      "the observed winds were 30005KT\n",
      "\n",
      "\n",
      "at the time 061455Z\n",
      "the observed winds were 02004KT\n",
      "\n",
      "\n",
      "at the time 061450Z\n",
      "the observed winds were 33004KT\n",
      "\n",
      "\n",
      "at the time 061405Z\n",
      "the observed winds were 34003KT\n",
      "\n",
      "\n",
      "at the time 061355Z\n",
      "the observed winds were 35003KT\n",
      "\n",
      "\n",
      "at the time 061255Z\n",
      "the observed winds were 34004KT\n",
      "\n",
      "\n",
      "at the time 061236Z\n",
      "the observed winds were 35004KT\n",
      "\n",
      "\n",
      "at the time 061231Z\n",
      "the observed winds were 35003KT\n",
      "\n",
      "\n",
      "at the time 061216Z\n",
      "the observed winds were 35003KT\n",
      "\n",
      "\n",
      "at the time 061207Z\n",
      "the observed winds were 34003KT\n",
      "\n",
      "\n",
      "at the time 061155Z\n",
      "the observed winds were 34003KT\n",
      "\n",
      "\n"
     ]
    }
   ],
   "source": [
    "for line in trimmed:\n",
    "    for element in line.split():\n",
    "        if element.endswith(\"Z\"):\n",
    "            print(f\"at the time {element}\")\n",
    "        if element.endswith(\"KT\"):\n",
    "            print(f\"the observed winds were {element}\")\n",
    "    print(\"\\n\")"
   ]
  },
  {
   "cell_type": "code",
   "execution_count": 67,
   "metadata": {},
   "outputs": [
    {
     "data": {
      "text/plain": [
       "'METAR KBLV 091721Z 01540G65KT'"
      ]
     },
     "execution_count": 67,
     "metadata": {},
     "output_type": "execute_result"
    }
   ],
   "source": [
    "ob_dict = {\n",
    "    \"kind\": \"METAR\",\n",
    "    \"icao\": \"KBLV\",\n",
    "    \"valid_time\": datetime.utcnow(),\n",
    "    \"direction\": 15,\n",
    "    \"speed\": 40,\n",
    "    \"gust\": 65,\n",
    "}\n",
    "template_kw.format(**ob_dict)"
   ]
  },
  {
   "cell_type": "code",
   "execution_count": 12,
   "metadata": {},
   "outputs": [
    {
     "name": "stdout",
     "output_type": "stream",
     "text": [
      "even 0\n",
      "it's number one\n",
      "odd 1\n",
      "even 2\n",
      "odd 3\n",
      "even 4\n",
      "odd 5\n",
      "even 6\n",
      "odd 7\n",
      "even 8\n",
      "odd 9\n",
      "even 10\n",
      "odd 11\n",
      "even 12\n",
      "odd 13\n",
      "even 14\n",
      "odd 15\n",
      "even 16\n",
      "odd 17\n",
      "even 18\n",
      "end of range\n"
     ]
    },
    {
     "data": {
      "text/plain": [
       "(0, 2, 4, 6, 8, 10, 12, 14, 16, 18)"
      ]
     },
     "execution_count": 12,
     "metadata": {},
     "output_type": "execute_result"
    }
   ],
   "source": [
    "# NOTE statements\n",
    "def run(num: int):\n",
    "    class f:\n",
    "        pass\n",
    "\n",
    "    def generate():\n",
    "        for i in range(num):\n",
    "            match i:\n",
    "                case 1:\n",
    "                    print(\"it's number one\")\n",
    "\n",
    "            if i == num - 1:\n",
    "                print(\"end of range\")\n",
    "                break\n",
    "            elif i % 2:\n",
    "                print(f\"odd {i}\")\n",
    "                continue\n",
    "            else:\n",
    "                print(f\"even {i}\")\n",
    "\n",
    "            try:\n",
    "                ...\n",
    "            except:\n",
    "                ...\n",
    "            finally:\n",
    "                yield i\n",
    "\n",
    "    return tuple(generate())\n",
    "\n",
    "\n",
    "run(20)"
   ]
  },
  {
   "cell_type": "code",
   "execution_count": 13,
   "metadata": {},
   "outputs": [
    {
     "name": "stdout",
     "output_type": "stream",
     "text": [
      "the type error occured because the abs function accepts only a single positional argument\n",
      "(function) abs: (__x: SupportsAbs[_T@abs], /) -> _T@abs    \n",
      "1\n"
     ]
    }
   ],
   "source": [
    "# NOTE: builtin functions\n",
    "# https://docs.python.org/3/library/functions.html\n",
    "abs, all, any, dir, sum, pow, max, min\n",
    "# a little bit\n",
    "try:\n",
    "    print(abs(__x=-1))\n",
    "except TypeError:\n",
    "    print(\n",
    "        f\"\"\"\\\n",
    "the type error occured because the abs function accepts only a single positional argument\n",
    "(function) abs: (__x: SupportsAbs[_T@abs], /) -> _T@abs    \n",
    "{abs(-1)}\"\"\"\n",
    "    )"
   ]
  },
  {
   "cell_type": "code",
   "execution_count": 14,
   "metadata": {},
   "outputs": [
    {
     "name": "stdout",
     "output_type": "stream",
     "text": [
      "\n",
      "    required_positional_argument = 1\n",
      "    any_number_of_positional_arguments = ('foo', 'bar')\n",
      "    a_key_word_argument = hello world\n",
      "    any_number_of_keyword_arguments = {'spam': 'eggs', 'trog': 'door'}\n",
      "    \n",
      "the return value from the lambda function is 3\n",
      "the random value from some_func was 0.8063971729388331\n"
     ]
    }
   ],
   "source": [
    "# NOTE: calling functions\n",
    "from typing import Callable\n",
    "\n",
    "\n",
    "def f1(arg1, arg2):\n",
    "    ...\n",
    "\n",
    "\n",
    "def f2(\n",
    "    required_positional_argument,\n",
    "    *any_number_of_positional_arguments,\n",
    "    a_key_word_argument=...,\n",
    "    **any_number_of_keyword_arguments,\n",
    "):\n",
    "    print(\n",
    "        f\"\"\"\n",
    "    required_positional_argument = {required_positional_argument}\n",
    "    any_number_of_positional_arguments = {any_number_of_positional_arguments}\n",
    "    a_key_word_argument = {a_key_word_argument}\n",
    "    any_number_of_keyword_arguments = {any_number_of_keyword_arguments}\n",
    "    \"\"\"\n",
    "    )\n",
    "\n",
    "\n",
    "f1(1, 2)\n",
    "f2(1, \"foo\", \"bar\", a_key_word_argument=\"hello world\", spam=\"eggs\", trog=\"door\")\n",
    "assert isinstance(f2, Callable)\n",
    "lambda_function = lambda x: x + 1\n",
    "assert isinstance(lambda_function, Callable)\n",
    "print(\"the return value from the lambda function is\", lambda_function(2))\n",
    "\n",
    "\n",
    "# NOTE CALLBACKS\n",
    "import random\n",
    "\n",
    "\n",
    "def some_func(func: Callable[[float], any]):\n",
    "    return func(random.random())\n",
    "\n",
    "\n",
    "some_func(lambda i: print(f\"the random value from some_func was {i}\"))"
   ]
  },
  {
   "cell_type": "code",
   "execution_count": 15,
   "metadata": {},
   "outputs": [
    {
     "name": "stdout",
     "output_type": "stream",
     "text": [
      "Help on built-in function pow in module builtins:\n",
      "\n",
      "pow(base, exp, mod=None)\n",
      "    Equivalent to base**exp with 2 arguments or base**exp % mod with 3 arguments\n",
      "    \n",
      "    Some types, such as ints, are able to use a more efficient algorithm when\n",
      "    invoked using the three argument form.\n",
      "\n"
     ]
    }
   ],
   "source": [
    "help(pow)"
   ]
  },
  {
   "cell_type": "code",
   "execution_count": 16,
   "metadata": {},
   "outputs": [
    {
     "data": {
      "text/plain": [
       "True"
      ]
     },
     "execution_count": 16,
     "metadata": {},
     "output_type": "execute_result"
    }
   ],
   "source": [
    "pow(5, 5) == 5**5"
   ]
  },
  {
   "cell_type": "code",
   "execution_count": 17,
   "metadata": {},
   "outputs": [
    {
     "data": {
      "text/plain": [
       "(list, str, set, tuple, dict, int, float, bool, None)"
      ]
     },
     "execution_count": 17,
     "metadata": {},
     "output_type": "execute_result"
    }
   ],
   "source": [
    "list, str, set, tuple, dict, int, float, bool, None"
   ]
  },
  {
   "cell_type": "code",
   "execution_count": 18,
   "metadata": {},
   "outputs": [
    {
     "data": {
      "text/plain": [
       "True"
      ]
     },
     "execution_count": 18,
     "metadata": {},
     "output_type": "execute_result"
    }
   ],
   "source": [
    "# numerics ints and floats\n",
    "one_int = 1\n",
    "one_float = 1.0\n",
    "(isinstance(one_int, int) and isinstance(one_float, float)) and not (\n",
    "    isinstance(one_int, float) and isinstance(one_float, int)\n",
    ")"
   ]
  },
  {
   "cell_type": "code",
   "execution_count": 19,
   "metadata": {},
   "outputs": [
    {
     "data": {
      "text/plain": [
       "True"
      ]
     },
     "execution_count": 19,
     "metadata": {},
     "output_type": "execute_result"
    }
   ],
   "source": [
    "one_int == one_float"
   ]
  },
  {
   "cell_type": "code",
   "execution_count": 20,
   "metadata": {},
   "outputs": [
    {
     "data": {
      "text/plain": [
       "True"
      ]
     },
     "execution_count": 20,
     "metadata": {},
     "output_type": "execute_result"
    }
   ],
   "source": [
    "# collections\n",
    "list\n",
    "list(range(5)) == [0, 1, 2, 3, 4]"
   ]
  },
  {
   "cell_type": "code",
   "execution_count": 21,
   "metadata": {},
   "outputs": [
    {
     "data": {
      "text/plain": [
       "True"
      ]
     },
     "execution_count": 21,
     "metadata": {},
     "output_type": "execute_result"
    }
   ],
   "source": [
    "tuple\n",
    "tuple(range(5)) == (0, 1, 2, 3, 4)"
   ]
  },
  {
   "cell_type": "code",
   "execution_count": 22,
   "metadata": {},
   "outputs": [
    {
     "data": {
      "text/plain": [
       "True"
      ]
     },
     "execution_count": 22,
     "metadata": {},
     "output_type": "execute_result"
    }
   ],
   "source": [
    "set\n",
    "set(range(5)) == {0, 1, 2, 3, 4}"
   ]
  },
  {
   "cell_type": "code",
   "execution_count": 23,
   "metadata": {},
   "outputs": [
    {
     "name": "stdout",
     "output_type": "stream",
     "text": [
      "starting: [0, 1, 2, 3, 4]\n",
      "appended: [0, 1, 2, 3, 4, 4, 3, 2, 1, 0]\n",
      "sorted: [0, 0, 1, 1, 2, 2, 3, 3, 4, 4]\n"
     ]
    }
   ],
   "source": [
    "_list = list(range(5))\n",
    "print(\"starting:\", _list)\n",
    "for i in reversed(range(len(_list))):\n",
    "    _list.append(i)\n",
    "print(\"appended:\", _list)\n",
    "print(\"sorted:\", sorted(_list))"
   ]
  },
  {
   "cell_type": "code",
   "execution_count": 24,
   "metadata": {},
   "outputs": [
    {
     "data": {
      "text/plain": [
       "[0, 1, 2, 3, 4, 4, 3, 2, 1, 0]"
      ]
     },
     "execution_count": 24,
     "metadata": {},
     "output_type": "execute_result"
    }
   ],
   "source": [
    "_list = list(range(5))\n",
    "_list + list(reversed(range(len(_list))))"
   ]
  },
  {
   "cell_type": "code",
   "execution_count": 25,
   "metadata": {},
   "outputs": [
    {
     "data": {
      "text/plain": [
       "[0, 1, 2, 3, 4, 0, 1, 2, 3, 4]"
      ]
     },
     "execution_count": 25,
     "metadata": {},
     "output_type": "execute_result"
    }
   ],
   "source": [
    "# unpacking\n",
    "[*range(5), *range(5)]"
   ]
  },
  {
   "cell_type": "code",
   "execution_count": 26,
   "metadata": {},
   "outputs": [
    {
     "name": "stdout",
     "output_type": "stream",
     "text": [
      "<class 'str'>\n"
     ]
    },
    {
     "data": {
      "text/plain": [
       "True"
      ]
     },
     "execution_count": 26,
     "metadata": {},
     "output_type": "execute_result"
    }
   ],
   "source": [
    "print(type(str(1000)))\n",
    "1_000 == 1000 and not str(1000) == 1000"
   ]
  },
  {
   "cell_type": "code",
   "execution_count": 27,
   "metadata": {},
   "outputs": [
    {
     "name": "stdout",
     "output_type": "stream",
     "text": [
      "\n",
      "the full list:\n",
      "[0.0, 3.14, 6.28, 9.42, 12.57, 15.71, 18.85, 21.99, 25.13, 28.27, 31.42, 34.56, 37.7, 40.84, 43.98, 47.12, 50.27, 53.41, 56.55, 59.69, 62.83, 65.97, 69.12, 72.26, 75.4, 78.54, 81.68, 84.82, 87.96, 91.11, 94.25, 97.39, 100.53, 103.67, 106.81, 109.96, 113.1, 116.24, 119.38, 122.52, 125.66, 128.81, 131.95, 135.09, 138.23, 141.37, 144.51, 147.65, 150.8, 153.94, 157.08, 160.22, 163.36, 166.5, 169.65, 172.79, 175.93, 179.07, 182.21, 185.35, 188.5, 191.64, 194.78, 197.92, 201.06, 204.2, 207.35, 210.49, 213.63, 216.77, 219.91, 223.05, 226.19, 229.34, 232.48, 235.62, 238.76, 241.9, 245.04, 248.19, 251.33, 254.47, 257.61, 260.75, 263.89, 267.04, 270.18, 273.32, 276.46, 279.6, 282.74, 285.88, 289.03, 292.17, 295.31, 298.45, 301.59, 304.73, 307.88, 311.02]\n",
      "\n",
      "start position 31.42\n",
      "stop position 157.08\n",
      "last value 311.02\n",
      "\n",
      "sliced list:\n",
      "[31.42, 37.7, 43.98, 50.27, 56.55, 62.83, 69.12, 75.4, 81.68, 87.96, 94.25, 100.53, 106.81, 113.1, 119.38, 125.66, 131.95, 138.23, 144.51, 150.8]\n",
      "\n"
     ]
    }
   ],
   "source": [
    "# SLICING and indexing\n",
    "import math\n",
    "\n",
    "# this is list comprehension, more to follow\n",
    "my_list = [round(i * math.pi, ndigits=2) for i in range(100)]\n",
    "start, stop, step = 10, 50, 2\n",
    "\n",
    "print(\n",
    "    f\"\"\"\n",
    "the full list:\n",
    "{my_list}\n",
    "\n",
    "start position {my_list[start]}\n",
    "stop position {my_list[stop]}\n",
    "last value {my_list[-1]}\n",
    "\n",
    "sliced list:\n",
    "{my_list[start:stop:step]}\n",
    "\"\"\"\n",
    ")\n",
    "assert my_list[start:stop:step] == my_list[slice(start, stop, step)]"
   ]
  },
  {
   "cell_type": "code",
   "execution_count": 28,
   "metadata": {},
   "outputs": [
    {
     "data": {
      "text/plain": [
       "('a', 'b', 'c')"
      ]
     },
     "execution_count": 28,
     "metadata": {},
     "output_type": "execute_result"
    }
   ],
   "source": [
    "# UNPACKING\n",
    "\n",
    "# you can use the a wild card to denote how you may want something unpacked\n",
    "# unpacking list\n",
    "a1, b1, c1 = [1, 2, 3]\n",
    "*a2b2, c2 = [1, 2, 3]\n",
    "assert c1 == c2\n",
    "# unpacking tuple\n",
    "a1, b1, c1 = (1, 2, 3)\n",
    "a2, *b2c2 = (1, 2, 3)\n",
    "assert a1 == a2\n",
    "# unpacking dict\n",
    "# NOTE: only unpacks the keys\n",
    "a, b, c = {\"a\": 1, \"b\": 2, \"c\": 3}\n",
    "a, b, c"
   ]
  },
  {
   "cell_type": "code",
   "execution_count": 29,
   "metadata": {},
   "outputs": [
    {
     "name": "stdout",
     "output_type": "stream",
     "text": [
      "tuples are immutable\n",
      "but list are not\n",
      "checkout the new collection\n",
      " ['cat', 'wolf', 'cat', 'dog']\n",
      "sets are an unordered collection of unique elements, so we had to get rid of the second cat {'cat', 'wolf', 'dog'}\n"
     ]
    }
   ],
   "source": [
    "col = (\"cat\", \"dog\", \"cat\", \"dog\")\n",
    "try:\n",
    "    col[1] = \"wolf\"\n",
    "except TypeError:\n",
    "    print(\n",
    "        \"tuples are immutable\\nbut list are not\",\n",
    "    )\n",
    "    col = list(col)\n",
    "col[1] = \"wolf\"\n",
    "print(\"checkout the new collection\\n\", col)\n",
    "print(\n",
    "    \"sets are an unordered collection of unique elements, so we had to get rid of the second cat\",\n",
    "    set(col),\n",
    ")"
   ]
  },
  {
   "cell_type": "code",
   "execution_count": 30,
   "metadata": {},
   "outputs": [
    {
     "data": {
      "text/plain": [
       "{'a': 1, 'b': 2}"
      ]
     },
     "execution_count": 30,
     "metadata": {},
     "output_type": "execute_result"
    }
   ],
   "source": [
    "my_dict = {\"a\": 1, \"b\": 2}\n",
    "my_dict"
   ]
  },
  {
   "cell_type": "code",
   "execution_count": 31,
   "metadata": {},
   "outputs": [
    {
     "data": {
      "text/plain": [
       "1"
      ]
     },
     "execution_count": 31,
     "metadata": {},
     "output_type": "execute_result"
    }
   ],
   "source": [
    "my_dict[\"a\"]"
   ]
  },
  {
   "cell_type": "code",
   "execution_count": 32,
   "metadata": {},
   "outputs": [
    {
     "data": {
      "text/plain": [
       "(dict_items([('a', 1), ('b', 2)]), dict_values([1, 2]), dict_keys(['a', 'b']))"
      ]
     },
     "execution_count": 32,
     "metadata": {},
     "output_type": "execute_result"
    }
   ],
   "source": [
    "my_dict.items(), my_dict.values(), my_dict.keys()"
   ]
  },
  {
   "cell_type": "code",
   "execution_count": 33,
   "metadata": {},
   "outputs": [
    {
     "data": {
      "text/plain": [
       "{'A': 2, 'B': 3}"
      ]
     },
     "execution_count": 33,
     "metadata": {},
     "output_type": "execute_result"
    }
   ],
   "source": [
    "{k.upper(): v + 1 for k, v in my_dict.items()}"
   ]
  },
  {
   "cell_type": "code",
   "execution_count": 34,
   "metadata": {},
   "outputs": [
    {
     "data": {
      "text/plain": [
       "(type, enumerate, range, zip)"
      ]
     },
     "execution_count": 34,
     "metadata": {},
     "output_type": "execute_result"
    }
   ],
   "source": [
    "type, enumerate, range, zip"
   ]
  },
  {
   "cell_type": "code",
   "execution_count": 35,
   "metadata": {},
   "outputs": [
    {
     "name": "stdout",
     "output_type": "stream",
     "text": [
      "Power\n",
      "6561\n",
      "Addition of numbers\n",
      "13\n",
      "Subtraction of numbers\n",
      "5\n",
      "Multiplication of number\n",
      "36\n",
      "Division(float) of number\n",
      "2.25\n",
      "Division(floor) of number\n",
      "2\n",
      "Modulo of both number\n",
      "1\n",
      "\n"
     ]
    },
    {
     "data": {
      "text/plain": [
       "(2, 160)"
      ]
     },
     "execution_count": 35,
     "metadata": {},
     "output_type": "execute_result"
    }
   ],
   "source": [
    "# Examples of Arithmetic Operator\n",
    "a = 9\n",
    "b = 4\n",
    "\n",
    "print(\n",
    "    f\"\"\"\\\n",
    "Power\n",
    "{a**b}\n",
    "Addition of numbers\n",
    "{a + b}\n",
    "Subtraction of numbers\n",
    "{a - b}\n",
    "Multiplication of number\n",
    "{a * b}\n",
    "Division(float) of number\n",
    "{a / b}\n",
    "Division(floor) of number\n",
    "{a // b}\n",
    "Modulo of both number\n",
    "{a % b}\n",
    "\"\"\"\n",
    ")\n",
    "\n",
    "assert a**b == pow(a, b)\n",
    "# Return the tuple (x//y, x%y). Invariant: div*y + mod == x\n",
    "divmod(abs(350 - 10) + 180, 180)"
   ]
  },
  {
   "cell_type": "code",
   "execution_count": 36,
   "metadata": {},
   "outputs": [
    {
     "name": "stdout",
     "output_type": "stream",
     "text": [
      "\n",
      "numeric diffrence = 340°\n",
      "degree diffrence  = 20°\n",
      "\n"
     ]
    }
   ],
   "source": [
    "# assume you have wind direction\n",
    "dir_a = 350\n",
    "dir_b = 10\n",
    "print(\n",
    "    f\"\"\"\n",
    "numeric diffrence = {dir_a - dir_b}°\n",
    "degree diffrence  = {abs(((dir_a - dir_b) + 180) % 360 - 180)}°\n",
    "\"\"\"\n",
    ")"
   ]
  },
  {
   "cell_type": "code",
   "execution_count": 37,
   "metadata": {},
   "outputs": [
    {
     "data": {
      "text/plain": [
       "array([[115, 112, 136, ...,  51, 113, 137],\n",
       "       [137,  88, 179, ...,  95,  78, 141],\n",
       "       [ 58,  39,  80, ..., 172,  53, 134],\n",
       "       ...,\n",
       "       [ 56,  54, 146, ...,  12,  20, 157],\n",
       "       [ 39,  73,  80, ...,  32, 142, 149],\n",
       "       [170, 124, 102, ...,  63,  90, 135]])"
      ]
     },
     "execution_count": 37,
     "metadata": {},
     "output_type": "execute_result"
    }
   ],
   "source": [
    "import numpy as np\n",
    "\n",
    "x = 1400\n",
    "y = 720\n",
    "size = (x, y)\n",
    "_925mb_wnd_dir = np.random.randint(360, size=size)\n",
    "_1000mb_wnd_dir = np.random.randint(360, size=size)\n",
    "shear = abs(((_925mb_wnd_dir - _1000mb_wnd_dir) + 180) % 360 - 180)\n",
    "shear"
   ]
  },
  {
   "cell_type": "code",
   "execution_count": 38,
   "metadata": {},
   "outputs": [
    {
     "data": {
      "text/html": [
       "<div>\n",
       "<style scoped>\n",
       "    .dataframe tbody tr th:only-of-type {\n",
       "        vertical-align: middle;\n",
       "    }\n",
       "\n",
       "    .dataframe tbody tr th {\n",
       "        vertical-align: top;\n",
       "    }\n",
       "\n",
       "    .dataframe thead th {\n",
       "        text-align: right;\n",
       "    }\n",
       "</style>\n",
       "<table border=\"1\" class=\"dataframe\">\n",
       "  <thead>\n",
       "    <tr style=\"text-align: right;\">\n",
       "      <th></th>\n",
       "      <th>-180.000000</th>\n",
       "      <th>-179.742673</th>\n",
       "      <th>-179.485347</th>\n",
       "      <th>-179.228020</th>\n",
       "      <th>-178.970693</th>\n",
       "      <th>-178.713367</th>\n",
       "      <th>-178.456040</th>\n",
       "      <th>-178.198713</th>\n",
       "      <th>-177.941387</th>\n",
       "      <th>-177.684060</th>\n",
       "      <th>...</th>\n",
       "      <th>177.684060</th>\n",
       "      <th>177.941387</th>\n",
       "      <th>178.198713</th>\n",
       "      <th>178.456040</th>\n",
       "      <th>178.713367</th>\n",
       "      <th>178.970693</th>\n",
       "      <th>179.228020</th>\n",
       "      <th>179.485347</th>\n",
       "      <th>179.742673</th>\n",
       "      <th>180.000000</th>\n",
       "    </tr>\n",
       "  </thead>\n",
       "  <tbody>\n",
       "    <tr>\n",
       "      <th>90.000000</th>\n",
       "      <td>115</td>\n",
       "      <td>137</td>\n",
       "      <td>58</td>\n",
       "      <td>33</td>\n",
       "      <td>128</td>\n",
       "      <td>66</td>\n",
       "      <td>135</td>\n",
       "      <td>55</td>\n",
       "      <td>104</td>\n",
       "      <td>27</td>\n",
       "      <td>...</td>\n",
       "      <td>26</td>\n",
       "      <td>81</td>\n",
       "      <td>7</td>\n",
       "      <td>47</td>\n",
       "      <td>19</td>\n",
       "      <td>72</td>\n",
       "      <td>35</td>\n",
       "      <td>56</td>\n",
       "      <td>39</td>\n",
       "      <td>170</td>\n",
       "    </tr>\n",
       "    <tr>\n",
       "      <th>89.749652</th>\n",
       "      <td>112</td>\n",
       "      <td>88</td>\n",
       "      <td>39</td>\n",
       "      <td>105</td>\n",
       "      <td>107</td>\n",
       "      <td>102</td>\n",
       "      <td>4</td>\n",
       "      <td>161</td>\n",
       "      <td>92</td>\n",
       "      <td>153</td>\n",
       "      <td>...</td>\n",
       "      <td>155</td>\n",
       "      <td>159</td>\n",
       "      <td>72</td>\n",
       "      <td>86</td>\n",
       "      <td>101</td>\n",
       "      <td>120</td>\n",
       "      <td>172</td>\n",
       "      <td>54</td>\n",
       "      <td>73</td>\n",
       "      <td>124</td>\n",
       "    </tr>\n",
       "    <tr>\n",
       "      <th>89.499305</th>\n",
       "      <td>136</td>\n",
       "      <td>179</td>\n",
       "      <td>80</td>\n",
       "      <td>157</td>\n",
       "      <td>149</td>\n",
       "      <td>143</td>\n",
       "      <td>13</td>\n",
       "      <td>81</td>\n",
       "      <td>160</td>\n",
       "      <td>127</td>\n",
       "      <td>...</td>\n",
       "      <td>151</td>\n",
       "      <td>178</td>\n",
       "      <td>169</td>\n",
       "      <td>62</td>\n",
       "      <td>85</td>\n",
       "      <td>131</td>\n",
       "      <td>78</td>\n",
       "      <td>146</td>\n",
       "      <td>80</td>\n",
       "      <td>102</td>\n",
       "    </tr>\n",
       "    <tr>\n",
       "      <th>89.248957</th>\n",
       "      <td>86</td>\n",
       "      <td>175</td>\n",
       "      <td>127</td>\n",
       "      <td>80</td>\n",
       "      <td>75</td>\n",
       "      <td>20</td>\n",
       "      <td>64</td>\n",
       "      <td>59</td>\n",
       "      <td>144</td>\n",
       "      <td>114</td>\n",
       "      <td>...</td>\n",
       "      <td>130</td>\n",
       "      <td>16</td>\n",
       "      <td>153</td>\n",
       "      <td>122</td>\n",
       "      <td>139</td>\n",
       "      <td>145</td>\n",
       "      <td>107</td>\n",
       "      <td>4</td>\n",
       "      <td>49</td>\n",
       "      <td>102</td>\n",
       "    </tr>\n",
       "    <tr>\n",
       "      <th>88.998609</th>\n",
       "      <td>158</td>\n",
       "      <td>132</td>\n",
       "      <td>145</td>\n",
       "      <td>5</td>\n",
       "      <td>93</td>\n",
       "      <td>59</td>\n",
       "      <td>43</td>\n",
       "      <td>153</td>\n",
       "      <td>169</td>\n",
       "      <td>161</td>\n",
       "      <td>...</td>\n",
       "      <td>116</td>\n",
       "      <td>57</td>\n",
       "      <td>81</td>\n",
       "      <td>112</td>\n",
       "      <td>2</td>\n",
       "      <td>4</td>\n",
       "      <td>78</td>\n",
       "      <td>55</td>\n",
       "      <td>148</td>\n",
       "      <td>10</td>\n",
       "    </tr>\n",
       "    <tr>\n",
       "      <th>...</th>\n",
       "      <td>...</td>\n",
       "      <td>...</td>\n",
       "      <td>...</td>\n",
       "      <td>...</td>\n",
       "      <td>...</td>\n",
       "      <td>...</td>\n",
       "      <td>...</td>\n",
       "      <td>...</td>\n",
       "      <td>...</td>\n",
       "      <td>...</td>\n",
       "      <td>...</td>\n",
       "      <td>...</td>\n",
       "      <td>...</td>\n",
       "      <td>...</td>\n",
       "      <td>...</td>\n",
       "      <td>...</td>\n",
       "      <td>...</td>\n",
       "      <td>...</td>\n",
       "      <td>...</td>\n",
       "      <td>...</td>\n",
       "      <td>...</td>\n",
       "    </tr>\n",
       "    <tr>\n",
       "      <th>-88.998609</th>\n",
       "      <td>98</td>\n",
       "      <td>169</td>\n",
       "      <td>12</td>\n",
       "      <td>43</td>\n",
       "      <td>22</td>\n",
       "      <td>139</td>\n",
       "      <td>129</td>\n",
       "      <td>25</td>\n",
       "      <td>170</td>\n",
       "      <td>155</td>\n",
       "      <td>...</td>\n",
       "      <td>28</td>\n",
       "      <td>44</td>\n",
       "      <td>135</td>\n",
       "      <td>44</td>\n",
       "      <td>49</td>\n",
       "      <td>81</td>\n",
       "      <td>152</td>\n",
       "      <td>103</td>\n",
       "      <td>89</td>\n",
       "      <td>96</td>\n",
       "    </tr>\n",
       "    <tr>\n",
       "      <th>-89.248957</th>\n",
       "      <td>33</td>\n",
       "      <td>118</td>\n",
       "      <td>106</td>\n",
       "      <td>127</td>\n",
       "      <td>167</td>\n",
       "      <td>79</td>\n",
       "      <td>105</td>\n",
       "      <td>85</td>\n",
       "      <td>61</td>\n",
       "      <td>136</td>\n",
       "      <td>...</td>\n",
       "      <td>144</td>\n",
       "      <td>43</td>\n",
       "      <td>127</td>\n",
       "      <td>36</td>\n",
       "      <td>83</td>\n",
       "      <td>134</td>\n",
       "      <td>154</td>\n",
       "      <td>66</td>\n",
       "      <td>137</td>\n",
       "      <td>56</td>\n",
       "    </tr>\n",
       "    <tr>\n",
       "      <th>-89.499305</th>\n",
       "      <td>51</td>\n",
       "      <td>95</td>\n",
       "      <td>172</td>\n",
       "      <td>51</td>\n",
       "      <td>91</td>\n",
       "      <td>142</td>\n",
       "      <td>170</td>\n",
       "      <td>66</td>\n",
       "      <td>21</td>\n",
       "      <td>75</td>\n",
       "      <td>...</td>\n",
       "      <td>119</td>\n",
       "      <td>51</td>\n",
       "      <td>41</td>\n",
       "      <td>86</td>\n",
       "      <td>58</td>\n",
       "      <td>125</td>\n",
       "      <td>121</td>\n",
       "      <td>12</td>\n",
       "      <td>32</td>\n",
       "      <td>63</td>\n",
       "    </tr>\n",
       "    <tr>\n",
       "      <th>-89.749652</th>\n",
       "      <td>113</td>\n",
       "      <td>78</td>\n",
       "      <td>53</td>\n",
       "      <td>63</td>\n",
       "      <td>161</td>\n",
       "      <td>89</td>\n",
       "      <td>51</td>\n",
       "      <td>3</td>\n",
       "      <td>30</td>\n",
       "      <td>73</td>\n",
       "      <td>...</td>\n",
       "      <td>20</td>\n",
       "      <td>142</td>\n",
       "      <td>14</td>\n",
       "      <td>171</td>\n",
       "      <td>93</td>\n",
       "      <td>5</td>\n",
       "      <td>15</td>\n",
       "      <td>20</td>\n",
       "      <td>142</td>\n",
       "      <td>90</td>\n",
       "    </tr>\n",
       "    <tr>\n",
       "      <th>-90.000000</th>\n",
       "      <td>137</td>\n",
       "      <td>141</td>\n",
       "      <td>134</td>\n",
       "      <td>114</td>\n",
       "      <td>96</td>\n",
       "      <td>108</td>\n",
       "      <td>107</td>\n",
       "      <td>80</td>\n",
       "      <td>114</td>\n",
       "      <td>59</td>\n",
       "      <td>...</td>\n",
       "      <td>6</td>\n",
       "      <td>55</td>\n",
       "      <td>30</td>\n",
       "      <td>127</td>\n",
       "      <td>127</td>\n",
       "      <td>157</td>\n",
       "      <td>21</td>\n",
       "      <td>157</td>\n",
       "      <td>149</td>\n",
       "      <td>135</td>\n",
       "    </tr>\n",
       "  </tbody>\n",
       "</table>\n",
       "<p>720 rows × 1400 columns</p>\n",
       "</div>"
      ],
      "text/plain": [
       "            -180.000000  -179.742673  -179.485347  -179.228020  -178.970693  \\\n",
       " 90.000000          115          137           58           33          128   \n",
       " 89.749652          112           88           39          105          107   \n",
       " 89.499305          136          179           80          157          149   \n",
       " 89.248957           86          175          127           80           75   \n",
       " 88.998609          158          132          145            5           93   \n",
       "...                 ...          ...          ...          ...          ...   \n",
       "-88.998609           98          169           12           43           22   \n",
       "-89.248957           33          118          106          127          167   \n",
       "-89.499305           51           95          172           51           91   \n",
       "-89.749652          113           78           53           63          161   \n",
       "-90.000000          137          141          134          114           96   \n",
       "\n",
       "            -178.713367  -178.456040  -178.198713  -177.941387  -177.684060  \\\n",
       " 90.000000           66          135           55          104           27   \n",
       " 89.749652          102            4          161           92          153   \n",
       " 89.499305          143           13           81          160          127   \n",
       " 89.248957           20           64           59          144          114   \n",
       " 88.998609           59           43          153          169          161   \n",
       "...                 ...          ...          ...          ...          ...   \n",
       "-88.998609          139          129           25          170          155   \n",
       "-89.248957           79          105           85           61          136   \n",
       "-89.499305          142          170           66           21           75   \n",
       "-89.749652           89           51            3           30           73   \n",
       "-90.000000          108          107           80          114           59   \n",
       "\n",
       "            ...   177.684060   177.941387   178.198713   178.456040  \\\n",
       " 90.000000  ...           26           81            7           47   \n",
       " 89.749652  ...          155          159           72           86   \n",
       " 89.499305  ...          151          178          169           62   \n",
       " 89.248957  ...          130           16          153          122   \n",
       " 88.998609  ...          116           57           81          112   \n",
       "...         ...          ...          ...          ...          ...   \n",
       "-88.998609  ...           28           44          135           44   \n",
       "-89.248957  ...          144           43          127           36   \n",
       "-89.499305  ...          119           51           41           86   \n",
       "-89.749652  ...           20          142           14          171   \n",
       "-90.000000  ...            6           55           30          127   \n",
       "\n",
       "             178.713367   178.970693   179.228020   179.485347   179.742673  \\\n",
       " 90.000000           19           72           35           56           39   \n",
       " 89.749652          101          120          172           54           73   \n",
       " 89.499305           85          131           78          146           80   \n",
       " 89.248957          139          145          107            4           49   \n",
       " 88.998609            2            4           78           55          148   \n",
       "...                 ...          ...          ...          ...          ...   \n",
       "-88.998609           49           81          152          103           89   \n",
       "-89.248957           83          134          154           66          137   \n",
       "-89.499305           58          125          121           12           32   \n",
       "-89.749652           93            5           15           20          142   \n",
       "-90.000000          127          157           21          157          149   \n",
       "\n",
       "             180.000000  \n",
       " 90.000000          170  \n",
       " 89.749652          124  \n",
       " 89.499305          102  \n",
       " 89.248957          102  \n",
       " 88.998609           10  \n",
       "...                 ...  \n",
       "-88.998609           96  \n",
       "-89.248957           56  \n",
       "-89.499305           63  \n",
       "-89.749652           90  \n",
       "-90.000000          135  \n",
       "\n",
       "[720 rows x 1400 columns]"
      ]
     },
     "execution_count": 38,
     "metadata": {},
     "output_type": "execute_result"
    }
   ],
   "source": [
    "import pandas as pd\n",
    "\n",
    "\n",
    "df = pd.DataFrame(\n",
    "    shear.T, columns=np.linspace(-180, 180, x), index=np.linspace(90, -90, y)\n",
    ")\n",
    "df"
   ]
  },
  {
   "cell_type": "code",
   "execution_count": 39,
   "metadata": {},
   "outputs": [
    {
     "ename": "ModuleNotFoundError",
     "evalue": "No module named 'matplotlib'",
     "output_type": "error",
     "traceback": [
      "\u001b[0;31m---------------------------------------------------------------------------\u001b[0m",
      "\u001b[0;31mModuleNotFoundError\u001b[0m                       Traceback (most recent call last)",
      "\u001b[0;32m/tmp/ipykernel_17055/2624274003.py\u001b[0m in \u001b[0;36m<cell line: 1>\u001b[0;34m()\u001b[0m\n\u001b[0;32m----> 1\u001b[0;31m \u001b[0;32mimport\u001b[0m \u001b[0mmatplotlib\u001b[0m\u001b[0;34m.\u001b[0m\u001b[0mpyplot\u001b[0m \u001b[0;32mas\u001b[0m \u001b[0mplt\u001b[0m\u001b[0;34m\u001b[0m\u001b[0;34m\u001b[0m\u001b[0m\n\u001b[0m\u001b[1;32m      2\u001b[0m \u001b[0;34m\u001b[0m\u001b[0m\n\u001b[1;32m      3\u001b[0m df.stack().reset_index().plot.scatter(\n\u001b[1;32m      4\u001b[0m     \u001b[0mx\u001b[0m\u001b[0;34m=\u001b[0m\u001b[0;34m\"level_1\"\u001b[0m\u001b[0;34m,\u001b[0m \u001b[0my\u001b[0m\u001b[0;34m=\u001b[0m\u001b[0;34m\"level_0\"\u001b[0m\u001b[0;34m,\u001b[0m \u001b[0mcmap\u001b[0m\u001b[0;34m=\u001b[0m\u001b[0mplt\u001b[0m\u001b[0;34m.\u001b[0m\u001b[0mget_cmap\u001b[0m\u001b[0;34m(\u001b[0m\u001b[0;34m\"jet\"\u001b[0m\u001b[0;34m)\u001b[0m\u001b[0;34m,\u001b[0m \u001b[0mc\u001b[0m\u001b[0;34m=\u001b[0m\u001b[0;36m0\u001b[0m\u001b[0;34m,\u001b[0m \u001b[0ms\u001b[0m\u001b[0;34m=\u001b[0m\u001b[0;36m0.2\u001b[0m\u001b[0;34m\u001b[0m\u001b[0;34m\u001b[0m\u001b[0m\n\u001b[1;32m      5\u001b[0m )\n",
      "\u001b[0;31mModuleNotFoundError\u001b[0m: No module named 'matplotlib'"
     ]
    }
   ],
   "source": [
    "import matplotlib.pyplot as plt\n",
    "\n",
    "df.stack().reset_index().plot.scatter(\n",
    "    x=\"level_1\", y=\"level_0\", cmap=plt.get_cmap(\"jet\"), c=0, s=0.2\n",
    ")"
   ]
  },
  {
   "cell_type": "code",
   "execution_count": null,
   "metadata": {},
   "outputs": [
    {
     "name": "stdout",
     "output_type": "stream",
     "text": [
      "False\n",
      "True\n",
      "False\n",
      "True\n",
      "False\n",
      "True\n"
     ]
    }
   ],
   "source": [
    "# Examples of Relational Operators\n",
    "a = 13\n",
    "b = 33\n",
    "\n",
    "# a > b is False\n",
    "print(a > b)\n",
    "\n",
    "# a < b is True\n",
    "print(a < b)\n",
    "\n",
    "# a == b is False\n",
    "print(a == b)\n",
    "\n",
    "# a != b is True\n",
    "print(a != b)\n",
    "\n",
    "# a >= b is False\n",
    "print(a >= b)\n",
    "\n",
    "# a <= b is True\n",
    "print(a <= b)"
   ]
  }
 ],
 "metadata": {
  "kernelspec": {
   "display_name": "Python 3.10.4 ('venv')",
   "language": "python",
   "name": "python3"
  },
  "language_info": {
   "codemirror_mode": {
    "name": "ipython",
    "version": 3
   },
   "file_extension": ".py",
   "mimetype": "text/x-python",
   "name": "python",
   "nbconvert_exporter": "python",
   "pygments_lexer": "ipython3",
   "version": "3.10.4"
  },
  "orig_nbformat": 4,
  "vscode": {
   "interpreter": {
    "hash": "34a00808f897e0120a883317eb237a375fceb1bf67605af89b3482723f3da6d5"
   }
  }
 },
 "nbformat": 4,
 "nbformat_minor": 2
}
