{
 "cells": [
  {
   "cell_type": "code",
   "execution_count": 1,
   "metadata": {},
   "outputs": [
    {
     "data": {
      "text/html": [
       "\n",
       "                <script type=\"application/javascript\" id=\"jupyter_black\">\n",
       "                (function() {\n",
       "                    if (window.IPython === undefined) {\n",
       "                        return\n",
       "                    }\n",
       "                    var msg = \"WARNING: it looks like you might have loaded \" +\n",
       "                        \"jupyter_black in a non-lab notebook with \" +\n",
       "                        \"`is_lab=True`. Please double check, and if \" +\n",
       "                        \"loading with `%load_ext` please review the README!\"\n",
       "                    console.log(msg)\n",
       "                    alert(msg)\n",
       "                })()\n",
       "                </script>\n",
       "                "
      ],
      "text/plain": [
       "<IPython.core.display.HTML object>"
      ]
     },
     "metadata": {},
     "output_type": "display_data"
    }
   ],
   "source": [
    "%load_ext jupyter_black"
   ]
  },
  {
   "cell_type": "markdown",
   "metadata": {},
   "source": [
    "## development environement\n",
    "- Getting away from Windows\n",
    "    - WSL\n",
    "    - docker/remote-container\n",
    "- Terminal\n",
    "    - bash\n",
    "    - zsh\n",
    "- IDE\n",
    "    - vscode\n",
    "    - spyder\n",
    "    - pycharm"
   ]
  },
  {
   "cell_type": "markdown",
   "metadata": {},
   "source": [
    "## developing on windows \n",
    "\n",
    "if working on a windows system I recomend installing [WSL](https://docs.microsoft.com/en-us/windows/wsl/install)\n",
    "\n",
    "``` powershell\n",
    "PS C:\\Users\\Jason> wsl -l -v\n",
    "  NAME                   STATE           VERSION\n",
    "* Ubuntu-22.04           Running         2\n",
    "  docker-desktop         Running         2\n",
    "  docker-desktop-data    Running         2\n",
    "```\n",
    "\n",
    "another option is to use the vscode remote container extesion for your development environment\n",
    "\n",
    "\n"
   ]
  },
  {
   "cell_type": "markdown",
   "metadata": {},
   "source": [
    "## bash\n",
    "\n",
    "``` bash\n",
    "(venv) ➜  afit bash\n",
    "leaver2000@inwin:~/afit$ echo hello world\n",
    "hello world\n",
    "leaver2000@inwin:~/afit$ zsh\n",
    "(venv) ➜  afit echo hello world\n",
    "hello world\n",
    "```\n",
    "\n",
    "## zsh\n",
    "\n",
    "The Z shell (Zsh) is a Unix shell that can be used as an interactive login shell and as a command interpreter for shell scripting.\n",
    "\n",
    "I often use zsh and the [oh-my-zsh](https://github.com/ohmyzsh/ohmyzsh/wiki/Installing-ZSH) extension.\n",
    "\n",
    "## powershell\n",
    "\n",
    "PowerShell is a cross-platform task automation solution made up of a command-line shell, a scripting language, and a configuration management framework. PowerShell runs on Windows, Linux, and macOS.\n"
   ]
  },
  {
   "cell_type": "markdown",
   "metadata": {},
   "source": [
    "``` bash\n",
    "awk # pattern scanning and processing language\n",
    "basename # strip directory and suffix from filenames\n",
    "bg # resumes suspended jobs without bringing them to the foreground\n",
    "cat # print files\n",
    "cd # change the shell working directory.\n",
    "chmod # change file mode\n",
    "chown # change file owner and group\n",
    "crontab # maintain crontab files\n",
    "curl # transfer a URL\n",
    "cut # remove sections from each line of files\n",
    "date # display or set date and time\n",
    "dig # DNS lookup utility\n",
    "df # report file system disk space usage\n",
    "diff # compare files line by line\n",
    "du # estimate file space usage\n",
    "echo # display a line of text\n",
    "find # search for files in a directory hierarchy\n",
    "fg # resumes suspended jobs and bring them to the foreground\n",
    "grep # print lines matching a pattern\n",
    "kill # send a signal to a process\n",
    "less # read file with pagination\n",
    "ln # create links\n",
    "ls # list directory contents\n",
    "lsb_release # print distribution-specific information\n",
    "lsof # list open files\n",
    "mkdir # create\n",
    "mv # move files\n",
    "nc # arbitrary TCP and UDP connections and listens\n",
    "netstat # print network connections, routing tables, interface statistics...\n",
    "nice # execute a utility with an altered scheduling priority\n",
    "nproc # print the number of processing units available\n",
    "passwd # change user password\n",
    "pgrep # look up processes based on name and other attributes\n",
    "pkill # send signal to processes based on name and other attributes\n",
    "printenv # print all or part of environment\n",
    "pwd # print name of current/working directory\n",
    "top # display Linux processes\n",
    "tr # translate or delete characters\n",
    "ps # report a snapshot of the current processes\n",
    "rm # remove files or directories\n",
    "rmdir # remove directories\n",
    "rsync # remote file copy\n",
    "scp # secure copy (remote file copy program)\n",
    "sed # stream editor for filtering and transforming text\n",
    "sleep # suspend execution for an interval of time\n",
    "sort # sort lines of text file\n",
    "ssh # OpenSSH SSH client (remote login program)\n",
    "ssh-keygen # SSH key generation, management and conversion\n",
    "su # substitute user identity\n",
    "sudo # execute a command as another user\n",
    "tail # output the last part of files\n",
    "tar # manipulate archives files\n",
    "tr # translate or delete characters\n",
    "uname # Print operating system name\n",
    "uniq # report or omit repeated lines\n",
    "uptime # show how long system has been running\n",
    "w # Show who is logged on and what they are doing\n",
    "whereis # locate the binary, source, and manual page files for a command\n",
    "which # locate a command\n",
    "wc # print newline, word, and byte counts for each file\n",
    "xargs # build and execute command lines from standard input\n",
    "| # redirect standard output to another command\n",
    "> # redirect standard output\n",
    "< # redirect standard input\n",
    "& # send process to background\n",
    "```"
   ]
  },
  {
   "cell_type": "code",
   "execution_count": 2,
   "metadata": {
    "vscode": {
     "languageId": "shellscript"
    }
   },
   "outputs": [
    {
     "name": "stdout",
     "output_type": "stream",
     "text": [
      "hello world\n"
     ]
    }
   ],
   "source": [
    "%%bash \n",
    "# the magic command above will allow us to use this code block as as interactive terminal\n",
    "echo hello world"
   ]
  },
  {
   "cell_type": "code",
   "execution_count": 3,
   "metadata": {
    "vscode": {
     "languageId": "shellscript"
    }
   },
   "outputs": [
    {
     "name": "stdout",
     "output_type": "stream",
     "text": [
      "bin\n",
      "boot\n",
      "dev\n",
      "etc\n",
      "home\n",
      "init\n",
      "lib\n",
      "lib32\n",
      "lib64\n",
      "libx32\n",
      "lost+found\n",
      "media\n",
      "mnt\n",
      "opt\n",
      "proc\n",
      "root\n",
      "run\n",
      "sbin\n",
      "snap\n",
      "srv\n",
      "sys\n",
      "tmp\n",
      "usr\n",
      "var\n"
     ]
    }
   ],
   "source": [
    "%%bash \n",
    "# the magic command above will allow us to use this code block as as interactive terminal\n",
    "ls /"
   ]
  },
  {
   "cell_type": "code",
   "execution_count": 4,
   "metadata": {
    "vscode": {
     "languageId": "shellscript"
    }
   },
   "outputs": [
    {
     "name": "stdout",
     "output_type": "stream",
     "text": [
      "Requirement already satisfied: numpy in /opt/venv/lib/python3.10/site-packages (1.23.1)\n"
     ]
    }
   ],
   "source": [
    "%%bash\n",
    "pip install numpy"
   ]
  },
  {
   "cell_type": "code",
   "execution_count": 5,
   "metadata": {
    "vscode": {
     "languageId": "shellscript"
    }
   },
   "outputs": [
    {
     "name": "stdout",
     "output_type": "stream",
     "text": [
      "Requirement already satisfied: numpy in /opt/venv/lib/python3.10/site-packages (1.23.1)\n"
     ]
    }
   ],
   "source": [
    "!pip install numpy"
   ]
  },
  {
   "cell_type": "code",
   "execution_count": 6,
   "metadata": {
    "vscode": {
     "languageId": "shellscript"
    }
   },
   "outputs": [
    {
     "name": "stdout",
     "output_type": "stream",
     "text": [
      "/opt/venv/bin/python\n",
      "/home/leaver2000/notbookvenv/bin/python\n"
     ]
    }
   ],
   "source": [
    "%%bash\n",
    "echo $(which python)\n",
    "python -m venv ~/notbookvenv\n",
    "source ~/notbookvenv/bin/activate\n",
    "echo $(which python)"
   ]
  },
  {
   "cell_type": "markdown",
   "metadata": {},
   "source": [
    "there are sveral ways to run python\n",
    "### from the terminal\n",
    "``` python\n",
    "$ python\n",
    "Python 3.10.4 (main, Jun 29 2022, 12:14:53) [GCC 11.2.0] on linux\n",
    "Type \"help\", \"copyright\", \"credits\" or \"license\" for more information.\n",
    ">>> print(\"hello world\")\n",
    "hello world\n",
    "```\n",
    "\n",
    "### running a named program file\n",
    "\n",
    "``` bash\n",
    "$ python app.py  \n",
    "hello world\n",
    "```\n",
    "\n",
    "### -m module : run library module as a script (terminates option list)\n",
    "\n",
    "``` bash\n",
    "$ python -m app\n",
    "hello world\n",
    "```\n",
    "\n",
    "\n",
    "#### -c command : program passed in as string (terminates option list)\n",
    "``` bash\n",
    "$ python -c \"print('hello world')\"\n",
    "hello world\n",
    "```\n",
    "### running a UNnamed program file\n",
    "\n",
    "``` bash\n",
    "touch myscript && chmod 777 myscript \n",
    "```\n",
    "\n",
    "**afit/myscript**\n",
    "``` python\n",
    "#! /opt/venv/bin/python\n",
    "if __name__ == \"__main__\":\n",
    "    print(\"hello world\")\n",
    "```\n",
    "```bash\n",
    "$ ./myscript\n",
    "hello world\n",
    "```\n"
   ]
  },
  {
   "cell_type": "markdown",
   "metadata": {},
   "source": [
    "- builtins\n",
    "- default python library\n",
    "- 3rd party libraries/packages\n",
    "- modules"
   ]
  },
  {
   "cell_type": "markdown",
   "metadata": {},
   "source": [
    "### [built-in-types](https://docs.python.org/3/library/stdtypes.html#built-in-types)"
   ]
  },
  {
   "cell_type": "code",
   "execution_count": 45,
   "metadata": {},
   "outputs": [
    {
     "data": {
      "text/plain": [
       "1000"
      ]
     },
     "execution_count": 45,
     "metadata": {},
     "output_type": "execute_result"
    }
   ],
   "source": [
    "# NOTE: primitives, assert, and the built-in isinstance function\n",
    "assert isinstance(1, int)\n",
    "assert isinstance(1.0, float)\n",
    "assert isinstance(\"1.0\", str)\n",
    "assert isinstance(False, bool)\n",
    "assert isinstance(True, bool)\n",
    "assert isinstance(None, type(None))\n",
    "int, float, str, bool, None\n",
    "int.__repr__(5_000)\n",
    "1_000"
   ]
  },
  {
   "cell_type": "code",
   "execution_count": 8,
   "metadata": {},
   "outputs": [
    {
     "data": {
      "text/plain": [
       "(int, float, complex)"
      ]
     },
     "execution_count": 8,
     "metadata": {},
     "output_type": "execute_result"
    }
   ],
   "source": [
    "# NOTE: numeric types\n",
    "assert (1_000_00.0).is_integer()\n",
    "assert not (4.2).is_integer()\n",
    "int, float, complex"
   ]
  },
  {
   "cell_type": "code",
   "execution_count": 9,
   "metadata": {},
   "outputs": [
    {
     "data": {
      "text/plain": [
       "3141.592653589793"
      ]
     },
     "execution_count": 9,
     "metadata": {},
     "output_type": "execute_result"
    }
   ],
   "source": [
    "import math\n",
    "\n",
    "onek = \"1_000\"\n",
    "assert isinstance(onek, str)\n",
    "assert isinstance(int(onek), int)\n",
    "assert isinstance(float(onek), float)\n",
    "\n",
    "num = complex(float(onek), 5) * math.pi\n",
    "num.real"
   ]
  },
  {
   "cell_type": "code",
   "execution_count": 10,
   "metadata": {},
   "outputs": [
    {
     "name": "stdout",
     "output_type": "stream",
     "text": [
      "\n",
      "tuple -> round bracket\n",
      "(<class 'list'>, <class 'tuple'>, <class 'dict'>, <class 'set'>)\n",
      "\n",
      "list -> square bracket\n",
      "[<class 'list'>, <class 'tuple'>, <class 'dict'>, <class 'set'>]\n",
      "\n",
      "set -> curly bracket\n",
      "{<class 'list'>, <class 'tuple'>, <class 'set'>, <class 'dict'>}\n",
      "\n",
      "dict -> curly bracket with key value pairs\n",
      "{'list': <class 'list'>, 'tuple': <class 'tuple'>, 'dict': <class 'dict'>, 'set': <class 'set'>}\n",
      "\n"
     ]
    }
   ],
   "source": [
    "# NOTE: non-primitive collections\n",
    "non_primitives = list, tuple, dict, set\n",
    "\n",
    "print(\n",
    "    f\"\"\"\n",
    "tuple -> round bracket\n",
    "{tuple(non_primitives)}\n",
    "\n",
    "list -> square bracket\n",
    "{list(non_primitives)}\n",
    "\n",
    "set -> curly bracket\n",
    "{set(non_primitives)}\n",
    "\n",
    "dict -> curly bracket with key value pairs\n",
    "{dict(list=list, tuple=tuple, dict=dict, set=set)}\n",
    "\"\"\"\n",
    ")"
   ]
  },
  {
   "cell_type": "code",
   "execution_count": 11,
   "metadata": {},
   "outputs": [
    {
     "name": "stdout",
     "output_type": "stream",
     "text": [
      "even 0\n",
      "it's number one\n",
      "odd 1\n",
      "even 2\n",
      "odd 3\n",
      "even 4\n",
      "odd 5\n",
      "even 6\n",
      "odd 7\n",
      "even 8\n",
      "odd 9\n",
      "even 10\n",
      "odd 11\n",
      "even 12\n",
      "odd 13\n",
      "even 14\n",
      "odd 15\n",
      "even 16\n",
      "odd 17\n",
      "even 18\n",
      "end of range\n"
     ]
    },
    {
     "data": {
      "text/plain": [
       "(0, 2, 4, 6, 8, 10, 12, 14, 16, 18)"
      ]
     },
     "execution_count": 11,
     "metadata": {},
     "output_type": "execute_result"
    }
   ],
   "source": [
    "# NOTE statements\n",
    "def run(num: int):\n",
    "    class f:\n",
    "        pass\n",
    "\n",
    "    def generate():\n",
    "        for i in range(num):\n",
    "            match i:\n",
    "                case 1:\n",
    "                    print(\"it's number one\")\n",
    "\n",
    "            if i == num - 1:\n",
    "                print(\"end of range\")\n",
    "                break\n",
    "            elif i % 2:\n",
    "                print(f\"odd {i}\")\n",
    "                continue\n",
    "            else:\n",
    "                print(f\"even {i}\")\n",
    "\n",
    "            try:\n",
    "                ...\n",
    "            except:\n",
    "                ...\n",
    "            finally:\n",
    "                yield i\n",
    "\n",
    "    return tuple(generate())\n",
    "\n",
    "\n",
    "run(20)"
   ]
  },
  {
   "cell_type": "code",
   "execution_count": 12,
   "metadata": {},
   "outputs": [
    {
     "name": "stdout",
     "output_type": "stream",
     "text": [
      "the type error occured because the abs function accepts only a single positional argument\n",
      "(function) abs: (__x: SupportsAbs[_T@abs], /) -> _T@abs    \n",
      "1\n"
     ]
    }
   ],
   "source": [
    "# NOTE: builtin functions\n",
    "# https://docs.python.org/3/library/functions.html\n",
    "abs, all, any, dir, sum, pow, max, min\n",
    "# a little bit\n",
    "try:\n",
    "    print(abs(__x=-1))\n",
    "except TypeError:\n",
    "    print(\n",
    "        f\"\"\"\\\n",
    "the type error occured because the abs function accepts only a single positional argument\n",
    "(function) abs: (__x: SupportsAbs[_T@abs], /) -> _T@abs    \n",
    "{abs(-1)}\"\"\"\n",
    "    )"
   ]
  },
  {
   "cell_type": "code",
   "execution_count": 13,
   "metadata": {},
   "outputs": [
    {
     "name": "stdout",
     "output_type": "stream",
     "text": [
      "\n",
      "    required_positional_argument = 1\n",
      "    any_number_of_positional_arguments = ('foo', 'bar')\n",
      "    a_key_word_argument = hello world\n",
      "    any_number_of_keyword_arguments = {'spam': 'eggs', 'trog': 'door'}\n",
      "    \n",
      "the return value from the lambda function is 3\n",
      "the random value from some_func was 0.15397489363869588\n"
     ]
    }
   ],
   "source": [
    "# NOTE: calling functions\n",
    "from typing import Callable\n",
    "\n",
    "\n",
    "def f1(arg1, arg2):\n",
    "    ...\n",
    "\n",
    "\n",
    "def f2(\n",
    "    required_positional_argument,\n",
    "    *any_number_of_positional_arguments,\n",
    "    a_key_word_argument=...,\n",
    "    **any_number_of_keyword_arguments,\n",
    "):\n",
    "    print(\n",
    "        f\"\"\"\n",
    "    required_positional_argument = {required_positional_argument}\n",
    "    any_number_of_positional_arguments = {any_number_of_positional_arguments}\n",
    "    a_key_word_argument = {a_key_word_argument}\n",
    "    any_number_of_keyword_arguments = {any_number_of_keyword_arguments}\n",
    "    \"\"\"\n",
    "    )\n",
    "\n",
    "\n",
    "f1(1, 2)\n",
    "f2(1, \"foo\", \"bar\", a_key_word_argument=\"hello world\", spam=\"eggs\", trog=\"door\")\n",
    "assert isinstance(f2, Callable)\n",
    "lambda_function = lambda x: x + 1\n",
    "assert isinstance(lambda_function, Callable)\n",
    "print(\"the return value from the lambda function is\", lambda_function(2))\n",
    "\n",
    "\n",
    "# NOTE CALLBACKS\n",
    "import random\n",
    "\n",
    "\n",
    "def some_func(func: Callable[[float], any]):\n",
    "    return func(random.random())\n",
    "\n",
    "\n",
    "some_func(lambda i: print(f\"the random value from some_func was {i}\"))"
   ]
  },
  {
   "cell_type": "code",
   "execution_count": 14,
   "metadata": {},
   "outputs": [
    {
     "name": "stdout",
     "output_type": "stream",
     "text": [
      "Help on built-in function pow in module builtins:\n",
      "\n",
      "pow(base, exp, mod=None)\n",
      "    Equivalent to base**exp with 2 arguments or base**exp % mod with 3 arguments\n",
      "    \n",
      "    Some types, such as ints, are able to use a more efficient algorithm when\n",
      "    invoked using the three argument form.\n",
      "\n"
     ]
    }
   ],
   "source": [
    "help(pow)"
   ]
  },
  {
   "cell_type": "code",
   "execution_count": 15,
   "metadata": {},
   "outputs": [
    {
     "data": {
      "text/plain": [
       "True"
      ]
     },
     "execution_count": 15,
     "metadata": {},
     "output_type": "execute_result"
    }
   ],
   "source": [
    "pow(5, 5) == 5**5"
   ]
  },
  {
   "cell_type": "code",
   "execution_count": 16,
   "metadata": {},
   "outputs": [
    {
     "data": {
      "text/plain": [
       "(list, str, set, tuple, dict, int, float, bool, None)"
      ]
     },
     "execution_count": 16,
     "metadata": {},
     "output_type": "execute_result"
    }
   ],
   "source": [
    "list, str, set, tuple, dict, int, float, bool, None"
   ]
  },
  {
   "cell_type": "code",
   "execution_count": 17,
   "metadata": {},
   "outputs": [
    {
     "data": {
      "text/plain": [
       "True"
      ]
     },
     "execution_count": 17,
     "metadata": {},
     "output_type": "execute_result"
    }
   ],
   "source": [
    "# numerics ints and floats\n",
    "one_int = 1\n",
    "one_float = 1.0\n",
    "(isinstance(one_int, int) and isinstance(one_float, float)) and not (\n",
    "    isinstance(one_int, float) and isinstance(one_float, int)\n",
    ")"
   ]
  },
  {
   "cell_type": "code",
   "execution_count": 18,
   "metadata": {},
   "outputs": [
    {
     "data": {
      "text/plain": [
       "True"
      ]
     },
     "execution_count": 18,
     "metadata": {},
     "output_type": "execute_result"
    }
   ],
   "source": [
    "one_int == one_float"
   ]
  },
  {
   "cell_type": "code",
   "execution_count": 19,
   "metadata": {},
   "outputs": [
    {
     "data": {
      "text/plain": [
       "True"
      ]
     },
     "execution_count": 19,
     "metadata": {},
     "output_type": "execute_result"
    }
   ],
   "source": [
    "# collections\n",
    "list\n",
    "list(range(5)) == [0, 1, 2, 3, 4]"
   ]
  },
  {
   "cell_type": "code",
   "execution_count": 20,
   "metadata": {},
   "outputs": [
    {
     "data": {
      "text/plain": [
       "True"
      ]
     },
     "execution_count": 20,
     "metadata": {},
     "output_type": "execute_result"
    }
   ],
   "source": [
    "tuple\n",
    "tuple(range(5)) == (0, 1, 2, 3, 4)"
   ]
  },
  {
   "cell_type": "code",
   "execution_count": 21,
   "metadata": {},
   "outputs": [
    {
     "data": {
      "text/plain": [
       "True"
      ]
     },
     "execution_count": 21,
     "metadata": {},
     "output_type": "execute_result"
    }
   ],
   "source": [
    "set\n",
    "set(range(5)) == {0, 1, 2, 3, 4}"
   ]
  },
  {
   "cell_type": "code",
   "execution_count": 22,
   "metadata": {},
   "outputs": [
    {
     "name": "stdout",
     "output_type": "stream",
     "text": [
      "starting: [0, 1, 2, 3, 4]\n",
      "appended: [0, 1, 2, 3, 4, 4, 3, 2, 1, 0]\n",
      "sorted: [0, 0, 1, 1, 2, 2, 3, 3, 4, 4]\n"
     ]
    }
   ],
   "source": [
    "_list = list(range(5))\n",
    "print(\"starting:\", _list)\n",
    "for i in reversed(range(len(_list))):\n",
    "    _list.append(i)\n",
    "print(\"appended:\", _list)\n",
    "print(\"sorted:\", sorted(_list))"
   ]
  },
  {
   "cell_type": "code",
   "execution_count": 23,
   "metadata": {},
   "outputs": [
    {
     "data": {
      "text/plain": [
       "[0, 1, 2, 3, 4, 4, 3, 2, 1, 0]"
      ]
     },
     "execution_count": 23,
     "metadata": {},
     "output_type": "execute_result"
    }
   ],
   "source": [
    "_list = list(range(5))\n",
    "_list + list(reversed(range(len(_list))))"
   ]
  },
  {
   "cell_type": "code",
   "execution_count": 24,
   "metadata": {},
   "outputs": [
    {
     "data": {
      "text/plain": [
       "[0, 1, 2, 3, 4, 0, 1, 2, 3, 4]"
      ]
     },
     "execution_count": 24,
     "metadata": {},
     "output_type": "execute_result"
    }
   ],
   "source": [
    "# unpacking\n",
    "[*range(5), *range(5)]"
   ]
  },
  {
   "cell_type": "code",
   "execution_count": 25,
   "metadata": {},
   "outputs": [
    {
     "name": "stdout",
     "output_type": "stream",
     "text": [
      "<class 'str'>\n"
     ]
    },
    {
     "data": {
      "text/plain": [
       "True"
      ]
     },
     "execution_count": 25,
     "metadata": {},
     "output_type": "execute_result"
    }
   ],
   "source": [
    "print(type(str(1000)))\n",
    "1_000 == 1000 and not str(1000) == 1000"
   ]
  },
  {
   "cell_type": "code",
   "execution_count": 26,
   "metadata": {},
   "outputs": [
    {
     "name": "stdout",
     "output_type": "stream",
     "text": [
      "\n",
      "the full list:\n",
      "[0.0, 3.14, 6.28, 9.42, 12.57, 15.71, 18.85, 21.99, 25.13, 28.27, 31.42, 34.56, 37.7, 40.84, 43.98, 47.12, 50.27, 53.41, 56.55, 59.69, 62.83, 65.97, 69.12, 72.26, 75.4, 78.54, 81.68, 84.82, 87.96, 91.11, 94.25, 97.39, 100.53, 103.67, 106.81, 109.96, 113.1, 116.24, 119.38, 122.52, 125.66, 128.81, 131.95, 135.09, 138.23, 141.37, 144.51, 147.65, 150.8, 153.94, 157.08, 160.22, 163.36, 166.5, 169.65, 172.79, 175.93, 179.07, 182.21, 185.35, 188.5, 191.64, 194.78, 197.92, 201.06, 204.2, 207.35, 210.49, 213.63, 216.77, 219.91, 223.05, 226.19, 229.34, 232.48, 235.62, 238.76, 241.9, 245.04, 248.19, 251.33, 254.47, 257.61, 260.75, 263.89, 267.04, 270.18, 273.32, 276.46, 279.6, 282.74, 285.88, 289.03, 292.17, 295.31, 298.45, 301.59, 304.73, 307.88, 311.02]\n",
      "\n",
      "start position 31.42\n",
      "stop position 157.08\n",
      "last value 311.02\n",
      "\n",
      "sliced list:\n",
      "[31.42, 37.7, 43.98, 50.27, 56.55, 62.83, 69.12, 75.4, 81.68, 87.96, 94.25, 100.53, 106.81, 113.1, 119.38, 125.66, 131.95, 138.23, 144.51, 150.8]\n",
      "\n"
     ]
    }
   ],
   "source": [
    "# SLICING and indexing\n",
    "import math\n",
    "\n",
    "# this is list comprehension, more to follow\n",
    "my_list = [round(i * math.pi, ndigits=2) for i in range(100)]\n",
    "start, stop, step = 10, 50, 2\n",
    "\n",
    "print(\n",
    "    f\"\"\"\n",
    "the full list:\n",
    "{my_list}\n",
    "\n",
    "start position {my_list[start]}\n",
    "stop position {my_list[stop]}\n",
    "last value {my_list[-1]}\n",
    "\n",
    "sliced list:\n",
    "{my_list[start:stop:step]}\n",
    "\"\"\"\n",
    ")\n",
    "assert my_list[start:stop:step] == my_list[slice(start, stop, step)]"
   ]
  },
  {
   "cell_type": "code",
   "execution_count": 27,
   "metadata": {},
   "outputs": [
    {
     "data": {
      "text/plain": [
       "('a', 'b', 'c')"
      ]
     },
     "execution_count": 27,
     "metadata": {},
     "output_type": "execute_result"
    }
   ],
   "source": [
    "# UNPACKING\n",
    "\n",
    "# you can use the a wild card to denote how you may want something unpacked\n",
    "# unpacking list\n",
    "a1, b1, c1 = [1, 2, 3]\n",
    "*a2b2, c2 = [1, 2, 3]\n",
    "assert c1 == c2\n",
    "# unpacking tuple\n",
    "a1, b1, c1 = (1, 2, 3)\n",
    "a2, *b2c2 = (1, 2, 3)\n",
    "assert a1 == a2\n",
    "# unpacking dict\n",
    "# NOTE: only unpacks the keys\n",
    "a, b, c = {\"a\": 1, \"b\": 2, \"c\": 3}\n",
    "a, b, c"
   ]
  },
  {
   "cell_type": "code",
   "execution_count": 28,
   "metadata": {},
   "outputs": [
    {
     "name": "stdout",
     "output_type": "stream",
     "text": [
      "tuples are immutable\n",
      "but list are not\n",
      "checkout the new collection\n",
      " ['cat', 'wolf', 'cat', 'dog']\n",
      "sets are an unordered collection of unique elements, so we had to get rid of the second cat {'dog', 'cat', 'wolf'}\n"
     ]
    }
   ],
   "source": [
    "col = (\"cat\", \"dog\", \"cat\", \"dog\")\n",
    "try:\n",
    "    col[1] = \"wolf\"\n",
    "except TypeError:\n",
    "    print(\n",
    "        \"tuples are immutable\\nbut list are not\",\n",
    "    )\n",
    "    col = list(col)\n",
    "col[1] = \"wolf\"\n",
    "print(\"checkout the new collection\\n\", col)\n",
    "print(\n",
    "    \"sets are an unordered collection of unique elements, so we had to get rid of the second cat\",\n",
    "    set(col),\n",
    ")"
   ]
  },
  {
   "cell_type": "code",
   "execution_count": 29,
   "metadata": {},
   "outputs": [
    {
     "data": {
      "text/plain": [
       "{'a': 1, 'b': 2}"
      ]
     },
     "execution_count": 29,
     "metadata": {},
     "output_type": "execute_result"
    }
   ],
   "source": [
    "my_dict = {\"a\": 1, \"b\": 2}\n",
    "my_dict"
   ]
  },
  {
   "cell_type": "code",
   "execution_count": 30,
   "metadata": {},
   "outputs": [
    {
     "data": {
      "text/plain": [
       "1"
      ]
     },
     "execution_count": 30,
     "metadata": {},
     "output_type": "execute_result"
    }
   ],
   "source": [
    "my_dict[\"a\"]"
   ]
  },
  {
   "cell_type": "code",
   "execution_count": 31,
   "metadata": {},
   "outputs": [
    {
     "data": {
      "text/plain": [
       "(dict_items([('a', 1), ('b', 2)]), dict_values([1, 2]), dict_keys(['a', 'b']))"
      ]
     },
     "execution_count": 31,
     "metadata": {},
     "output_type": "execute_result"
    }
   ],
   "source": [
    "my_dict.items(), my_dict.values(), my_dict.keys()"
   ]
  },
  {
   "cell_type": "code",
   "execution_count": 32,
   "metadata": {},
   "outputs": [
    {
     "data": {
      "text/plain": [
       "{'A': 2, 'B': 3}"
      ]
     },
     "execution_count": 32,
     "metadata": {},
     "output_type": "execute_result"
    }
   ],
   "source": [
    "{k.upper(): v + 1 for k, v in my_dict.items()}"
   ]
  },
  {
   "cell_type": "code",
   "execution_count": 33,
   "metadata": {},
   "outputs": [
    {
     "data": {
      "text/plain": [
       "(type, enumerate, range, zip)"
      ]
     },
     "execution_count": 33,
     "metadata": {},
     "output_type": "execute_result"
    }
   ],
   "source": [
    "type, enumerate, range, zip"
   ]
  },
  {
   "cell_type": "code",
   "execution_count": 34,
   "metadata": {},
   "outputs": [
    {
     "name": "stdout",
     "output_type": "stream",
     "text": [
      "Power\n",
      "6561\n",
      "Addition of numbers\n",
      "13\n",
      "Subtraction of numbers\n",
      "5\n",
      "Multiplication of number\n",
      "36\n",
      "Division(float) of number\n",
      "2.25\n",
      "Division(floor) of number\n",
      "2\n",
      "Modulo of both number\n",
      "1\n",
      "\n"
     ]
    },
    {
     "data": {
      "text/plain": [
       "(2, 160)"
      ]
     },
     "execution_count": 34,
     "metadata": {},
     "output_type": "execute_result"
    }
   ],
   "source": [
    "# Examples of Arithmetic Operator\n",
    "a = 9\n",
    "b = 4\n",
    "\n",
    "print(\n",
    "    f\"\"\"\\\n",
    "Power\n",
    "{a**b}\n",
    "Addition of numbers\n",
    "{a + b}\n",
    "Subtraction of numbers\n",
    "{a - b}\n",
    "Multiplication of number\n",
    "{a * b}\n",
    "Division(float) of number\n",
    "{a / b}\n",
    "Division(floor) of number\n",
    "{a // b}\n",
    "Modulo of both number\n",
    "{a % b}\n",
    "\"\"\"\n",
    ")\n",
    "\n",
    "assert a**b == pow(a, b)\n",
    "# Return the tuple (x//y, x%y). Invariant: div*y + mod == x\n",
    "divmod(abs(350 - 10) + 180, 180)"
   ]
  },
  {
   "cell_type": "code",
   "execution_count": 35,
   "metadata": {},
   "outputs": [
    {
     "name": "stdout",
     "output_type": "stream",
     "text": [
      "\n",
      "numeric diffrence = 340°\n",
      "degree diffrence  = 20°\n",
      "\n"
     ]
    }
   ],
   "source": [
    "# assume you have wind direction\n",
    "dir_a = 350\n",
    "dir_b = 10\n",
    "print(\n",
    "    f\"\"\"\n",
    "numeric diffrence = {dir_a - dir_b}°\n",
    "degree diffrence  = {abs(((dir_a - dir_b) + 180) % 360 - 180)}°\n",
    "\"\"\"\n",
    ")"
   ]
  },
  {
   "cell_type": "code",
   "execution_count": 36,
   "metadata": {},
   "outputs": [
    {
     "data": {
      "text/plain": [
       "array([[ 55, 158, 112, ...,  57, 106,  94],\n",
       "       [149,  56,  35, ..., 132, 176,  97],\n",
       "       [ 43,   2, 167, ..., 136,  72,  28],\n",
       "       ...,\n",
       "       [122, 169,  62, ..., 170, 111,  95],\n",
       "       [177,  11, 139, ..., 118, 179,  88],\n",
       "       [  7,  82, 176, ..., 114, 152, 129]])"
      ]
     },
     "execution_count": 36,
     "metadata": {},
     "output_type": "execute_result"
    }
   ],
   "source": [
    "import numpy as np\n",
    "\n",
    "x = 1400\n",
    "y = 720\n",
    "size = (x, y)\n",
    "_925mb_wnd_dir = np.random.randint(360, size=size)\n",
    "_1000mb_wnd_dir = np.random.randint(360, size=size)\n",
    "shear = abs(((_925mb_wnd_dir - _1000mb_wnd_dir) + 180) % 360 - 180)\n",
    "shear"
   ]
  },
  {
   "cell_type": "code",
   "execution_count": 37,
   "metadata": {},
   "outputs": [
    {
     "data": {
      "text/html": [
       "<div>\n",
       "<style scoped>\n",
       "    .dataframe tbody tr th:only-of-type {\n",
       "        vertical-align: middle;\n",
       "    }\n",
       "\n",
       "    .dataframe tbody tr th {\n",
       "        vertical-align: top;\n",
       "    }\n",
       "\n",
       "    .dataframe thead th {\n",
       "        text-align: right;\n",
       "    }\n",
       "</style>\n",
       "<table border=\"1\" class=\"dataframe\">\n",
       "  <thead>\n",
       "    <tr style=\"text-align: right;\">\n",
       "      <th></th>\n",
       "      <th>-180.000000</th>\n",
       "      <th>-179.742673</th>\n",
       "      <th>-179.485347</th>\n",
       "      <th>-179.228020</th>\n",
       "      <th>-178.970693</th>\n",
       "      <th>-178.713367</th>\n",
       "      <th>-178.456040</th>\n",
       "      <th>-178.198713</th>\n",
       "      <th>-177.941387</th>\n",
       "      <th>-177.684060</th>\n",
       "      <th>...</th>\n",
       "      <th>177.684060</th>\n",
       "      <th>177.941387</th>\n",
       "      <th>178.198713</th>\n",
       "      <th>178.456040</th>\n",
       "      <th>178.713367</th>\n",
       "      <th>178.970693</th>\n",
       "      <th>179.228020</th>\n",
       "      <th>179.485347</th>\n",
       "      <th>179.742673</th>\n",
       "      <th>180.000000</th>\n",
       "    </tr>\n",
       "  </thead>\n",
       "  <tbody>\n",
       "    <tr>\n",
       "      <th>90.000000</th>\n",
       "      <td>55</td>\n",
       "      <td>149</td>\n",
       "      <td>43</td>\n",
       "      <td>160</td>\n",
       "      <td>174</td>\n",
       "      <td>133</td>\n",
       "      <td>28</td>\n",
       "      <td>101</td>\n",
       "      <td>139</td>\n",
       "      <td>117</td>\n",
       "      <td>...</td>\n",
       "      <td>21</td>\n",
       "      <td>34</td>\n",
       "      <td>119</td>\n",
       "      <td>156</td>\n",
       "      <td>151</td>\n",
       "      <td>74</td>\n",
       "      <td>84</td>\n",
       "      <td>122</td>\n",
       "      <td>177</td>\n",
       "      <td>7</td>\n",
       "    </tr>\n",
       "    <tr>\n",
       "      <th>89.749652</th>\n",
       "      <td>158</td>\n",
       "      <td>56</td>\n",
       "      <td>2</td>\n",
       "      <td>164</td>\n",
       "      <td>49</td>\n",
       "      <td>62</td>\n",
       "      <td>179</td>\n",
       "      <td>144</td>\n",
       "      <td>118</td>\n",
       "      <td>137</td>\n",
       "      <td>...</td>\n",
       "      <td>27</td>\n",
       "      <td>94</td>\n",
       "      <td>126</td>\n",
       "      <td>173</td>\n",
       "      <td>64</td>\n",
       "      <td>12</td>\n",
       "      <td>19</td>\n",
       "      <td>169</td>\n",
       "      <td>11</td>\n",
       "      <td>82</td>\n",
       "    </tr>\n",
       "    <tr>\n",
       "      <th>89.499305</th>\n",
       "      <td>112</td>\n",
       "      <td>35</td>\n",
       "      <td>167</td>\n",
       "      <td>49</td>\n",
       "      <td>174</td>\n",
       "      <td>71</td>\n",
       "      <td>166</td>\n",
       "      <td>72</td>\n",
       "      <td>50</td>\n",
       "      <td>69</td>\n",
       "      <td>...</td>\n",
       "      <td>26</td>\n",
       "      <td>170</td>\n",
       "      <td>161</td>\n",
       "      <td>41</td>\n",
       "      <td>102</td>\n",
       "      <td>153</td>\n",
       "      <td>45</td>\n",
       "      <td>62</td>\n",
       "      <td>139</td>\n",
       "      <td>176</td>\n",
       "    </tr>\n",
       "    <tr>\n",
       "      <th>89.248957</th>\n",
       "      <td>100</td>\n",
       "      <td>89</td>\n",
       "      <td>127</td>\n",
       "      <td>108</td>\n",
       "      <td>73</td>\n",
       "      <td>110</td>\n",
       "      <td>158</td>\n",
       "      <td>38</td>\n",
       "      <td>40</td>\n",
       "      <td>150</td>\n",
       "      <td>...</td>\n",
       "      <td>39</td>\n",
       "      <td>84</td>\n",
       "      <td>141</td>\n",
       "      <td>102</td>\n",
       "      <td>139</td>\n",
       "      <td>76</td>\n",
       "      <td>130</td>\n",
       "      <td>51</td>\n",
       "      <td>56</td>\n",
       "      <td>29</td>\n",
       "    </tr>\n",
       "    <tr>\n",
       "      <th>88.998609</th>\n",
       "      <td>115</td>\n",
       "      <td>113</td>\n",
       "      <td>23</td>\n",
       "      <td>143</td>\n",
       "      <td>65</td>\n",
       "      <td>160</td>\n",
       "      <td>163</td>\n",
       "      <td>156</td>\n",
       "      <td>18</td>\n",
       "      <td>46</td>\n",
       "      <td>...</td>\n",
       "      <td>130</td>\n",
       "      <td>0</td>\n",
       "      <td>170</td>\n",
       "      <td>24</td>\n",
       "      <td>110</td>\n",
       "      <td>26</td>\n",
       "      <td>30</td>\n",
       "      <td>43</td>\n",
       "      <td>126</td>\n",
       "      <td>8</td>\n",
       "    </tr>\n",
       "    <tr>\n",
       "      <th>...</th>\n",
       "      <td>...</td>\n",
       "      <td>...</td>\n",
       "      <td>...</td>\n",
       "      <td>...</td>\n",
       "      <td>...</td>\n",
       "      <td>...</td>\n",
       "      <td>...</td>\n",
       "      <td>...</td>\n",
       "      <td>...</td>\n",
       "      <td>...</td>\n",
       "      <td>...</td>\n",
       "      <td>...</td>\n",
       "      <td>...</td>\n",
       "      <td>...</td>\n",
       "      <td>...</td>\n",
       "      <td>...</td>\n",
       "      <td>...</td>\n",
       "      <td>...</td>\n",
       "      <td>...</td>\n",
       "      <td>...</td>\n",
       "      <td>...</td>\n",
       "    </tr>\n",
       "    <tr>\n",
       "      <th>-88.998609</th>\n",
       "      <td>86</td>\n",
       "      <td>136</td>\n",
       "      <td>103</td>\n",
       "      <td>3</td>\n",
       "      <td>146</td>\n",
       "      <td>38</td>\n",
       "      <td>90</td>\n",
       "      <td>81</td>\n",
       "      <td>108</td>\n",
       "      <td>178</td>\n",
       "      <td>...</td>\n",
       "      <td>89</td>\n",
       "      <td>92</td>\n",
       "      <td>121</td>\n",
       "      <td>98</td>\n",
       "      <td>41</td>\n",
       "      <td>9</td>\n",
       "      <td>144</td>\n",
       "      <td>96</td>\n",
       "      <td>16</td>\n",
       "      <td>37</td>\n",
       "    </tr>\n",
       "    <tr>\n",
       "      <th>-89.248957</th>\n",
       "      <td>151</td>\n",
       "      <td>50</td>\n",
       "      <td>37</td>\n",
       "      <td>70</td>\n",
       "      <td>162</td>\n",
       "      <td>25</td>\n",
       "      <td>79</td>\n",
       "      <td>82</td>\n",
       "      <td>85</td>\n",
       "      <td>131</td>\n",
       "      <td>...</td>\n",
       "      <td>104</td>\n",
       "      <td>2</td>\n",
       "      <td>131</td>\n",
       "      <td>13</td>\n",
       "      <td>71</td>\n",
       "      <td>164</td>\n",
       "      <td>17</td>\n",
       "      <td>121</td>\n",
       "      <td>91</td>\n",
       "      <td>56</td>\n",
       "    </tr>\n",
       "    <tr>\n",
       "      <th>-89.499305</th>\n",
       "      <td>57</td>\n",
       "      <td>132</td>\n",
       "      <td>136</td>\n",
       "      <td>39</td>\n",
       "      <td>140</td>\n",
       "      <td>33</td>\n",
       "      <td>30</td>\n",
       "      <td>1</td>\n",
       "      <td>130</td>\n",
       "      <td>144</td>\n",
       "      <td>...</td>\n",
       "      <td>143</td>\n",
       "      <td>63</td>\n",
       "      <td>173</td>\n",
       "      <td>177</td>\n",
       "      <td>52</td>\n",
       "      <td>21</td>\n",
       "      <td>10</td>\n",
       "      <td>170</td>\n",
       "      <td>118</td>\n",
       "      <td>114</td>\n",
       "    </tr>\n",
       "    <tr>\n",
       "      <th>-89.749652</th>\n",
       "      <td>106</td>\n",
       "      <td>176</td>\n",
       "      <td>72</td>\n",
       "      <td>144</td>\n",
       "      <td>8</td>\n",
       "      <td>50</td>\n",
       "      <td>44</td>\n",
       "      <td>91</td>\n",
       "      <td>25</td>\n",
       "      <td>44</td>\n",
       "      <td>...</td>\n",
       "      <td>175</td>\n",
       "      <td>141</td>\n",
       "      <td>150</td>\n",
       "      <td>85</td>\n",
       "      <td>79</td>\n",
       "      <td>121</td>\n",
       "      <td>124</td>\n",
       "      <td>111</td>\n",
       "      <td>179</td>\n",
       "      <td>152</td>\n",
       "    </tr>\n",
       "    <tr>\n",
       "      <th>-90.000000</th>\n",
       "      <td>94</td>\n",
       "      <td>97</td>\n",
       "      <td>28</td>\n",
       "      <td>105</td>\n",
       "      <td>78</td>\n",
       "      <td>114</td>\n",
       "      <td>116</td>\n",
       "      <td>18</td>\n",
       "      <td>2</td>\n",
       "      <td>107</td>\n",
       "      <td>...</td>\n",
       "      <td>139</td>\n",
       "      <td>34</td>\n",
       "      <td>8</td>\n",
       "      <td>9</td>\n",
       "      <td>165</td>\n",
       "      <td>95</td>\n",
       "      <td>117</td>\n",
       "      <td>95</td>\n",
       "      <td>88</td>\n",
       "      <td>129</td>\n",
       "    </tr>\n",
       "  </tbody>\n",
       "</table>\n",
       "<p>720 rows × 1400 columns</p>\n",
       "</div>"
      ],
      "text/plain": [
       "            -180.000000  -179.742673  -179.485347  -179.228020  -178.970693  \\\n",
       " 90.000000           55          149           43          160          174   \n",
       " 89.749652          158           56            2          164           49   \n",
       " 89.499305          112           35          167           49          174   \n",
       " 89.248957          100           89          127          108           73   \n",
       " 88.998609          115          113           23          143           65   \n",
       "...                 ...          ...          ...          ...          ...   \n",
       "-88.998609           86          136          103            3          146   \n",
       "-89.248957          151           50           37           70          162   \n",
       "-89.499305           57          132          136           39          140   \n",
       "-89.749652          106          176           72          144            8   \n",
       "-90.000000           94           97           28          105           78   \n",
       "\n",
       "            -178.713367  -178.456040  -178.198713  -177.941387  -177.684060  \\\n",
       " 90.000000          133           28          101          139          117   \n",
       " 89.749652           62          179          144          118          137   \n",
       " 89.499305           71          166           72           50           69   \n",
       " 89.248957          110          158           38           40          150   \n",
       " 88.998609          160          163          156           18           46   \n",
       "...                 ...          ...          ...          ...          ...   \n",
       "-88.998609           38           90           81          108          178   \n",
       "-89.248957           25           79           82           85          131   \n",
       "-89.499305           33           30            1          130          144   \n",
       "-89.749652           50           44           91           25           44   \n",
       "-90.000000          114          116           18            2          107   \n",
       "\n",
       "            ...   177.684060   177.941387   178.198713   178.456040  \\\n",
       " 90.000000  ...           21           34          119          156   \n",
       " 89.749652  ...           27           94          126          173   \n",
       " 89.499305  ...           26          170          161           41   \n",
       " 89.248957  ...           39           84          141          102   \n",
       " 88.998609  ...          130            0          170           24   \n",
       "...         ...          ...          ...          ...          ...   \n",
       "-88.998609  ...           89           92          121           98   \n",
       "-89.248957  ...          104            2          131           13   \n",
       "-89.499305  ...          143           63          173          177   \n",
       "-89.749652  ...          175          141          150           85   \n",
       "-90.000000  ...          139           34            8            9   \n",
       "\n",
       "             178.713367   178.970693   179.228020   179.485347   179.742673  \\\n",
       " 90.000000          151           74           84          122          177   \n",
       " 89.749652           64           12           19          169           11   \n",
       " 89.499305          102          153           45           62          139   \n",
       " 89.248957          139           76          130           51           56   \n",
       " 88.998609          110           26           30           43          126   \n",
       "...                 ...          ...          ...          ...          ...   \n",
       "-88.998609           41            9          144           96           16   \n",
       "-89.248957           71          164           17          121           91   \n",
       "-89.499305           52           21           10          170          118   \n",
       "-89.749652           79          121          124          111          179   \n",
       "-90.000000          165           95          117           95           88   \n",
       "\n",
       "             180.000000  \n",
       " 90.000000            7  \n",
       " 89.749652           82  \n",
       " 89.499305          176  \n",
       " 89.248957           29  \n",
       " 88.998609            8  \n",
       "...                 ...  \n",
       "-88.998609           37  \n",
       "-89.248957           56  \n",
       "-89.499305          114  \n",
       "-89.749652          152  \n",
       "-90.000000          129  \n",
       "\n",
       "[720 rows x 1400 columns]"
      ]
     },
     "execution_count": 37,
     "metadata": {},
     "output_type": "execute_result"
    }
   ],
   "source": [
    "import pandas as pd\n",
    "\n",
    "\n",
    "df = pd.DataFrame(\n",
    "    shear.T, columns=np.linspace(-180, 180, x), index=np.linspace(90, -90, y)\n",
    ")\n",
    "df"
   ]
  },
  {
   "cell_type": "code",
   "execution_count": 38,
   "metadata": {},
   "outputs": [
    {
     "data": {
      "text/plain": [
       "<AxesSubplot:xlabel='level_1', ylabel='level_0'>"
      ]
     },
     "execution_count": 38,
     "metadata": {},
     "output_type": "execute_result"
    },
    {
     "data": {
      "image/png": "[encoded data removed]",
      "text/plain": [
       "<Figure size 432x288 with 2 Axes>"
      ]
     },
     "metadata": {
      "needs_background": "light"
     },
     "output_type": "display_data"
    }
   ],
   "source": [
    "import matplotlib.pyplot as plt\n",
    "\n",
    "df.stack().reset_index().plot.scatter(\n",
    "    x=\"level_1\", y=\"level_0\", cmap=plt.get_cmap(\"jet\"), c=0, s=0.2\n",
    ")"
   ]
  },
  {
   "cell_type": "code",
   "execution_count": 39,
   "metadata": {},
   "outputs": [
    {
     "name": "stdout",
     "output_type": "stream",
     "text": [
      "False\n",
      "True\n",
      "False\n",
      "True\n",
      "False\n",
      "True\n"
     ]
    }
   ],
   "source": [
    "# Examples of Relational Operators\n",
    "a = 13\n",
    "b = 33\n",
    "\n",
    "# a > b is False\n",
    "print(a > b)\n",
    "\n",
    "# a < b is True\n",
    "print(a < b)\n",
    "\n",
    "# a == b is False\n",
    "print(a == b)\n",
    "\n",
    "# a != b is True\n",
    "print(a != b)\n",
    "\n",
    "# a >= b is False\n",
    "print(a >= b)\n",
    "\n",
    "# a <= b is True\n",
    "print(a <= b)"
   ]
  }
 ],
 "metadata": {
  "kernelspec": {
   "display_name": "Python 3.10.4 ('venv')",
   "language": "python",
   "name": "python3"
  },
  "language_info": {
   "codemirror_mode": {
    "name": "ipython",
    "version": 3
   },
   "file_extension": ".py",
   "mimetype": "text/x-python",
   "name": "python",
   "nbconvert_exporter": "python",
   "pygments_lexer": "ipython3",
   "version": "3.10.4"
  },
  "orig_nbformat": 4,
  "vscode": {
   "interpreter": {
    "hash": "23393d2575091a37cff0d0e9e7479591a295495b26c3b2ebf9b64da572e02d85"
   }
  }
 },
 "nbformat": 4,
 "nbformat_minor": 2
}
