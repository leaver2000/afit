{
 "cells": [
  {
   "cell_type": "code",
   "execution_count": 1,
   "metadata": {},
   "outputs": [
    {
     "data": {
      "text/html": [
       "\n",
       "                <script type=\"application/javascript\" id=\"jupyter_black\">\n",
       "                (function() {\n",
       "                    if (window.IPython === undefined) {\n",
       "                        return\n",
       "                    }\n",
       "                    var msg = \"WARNING: it looks like you might have loaded \" +\n",
       "                        \"jupyter_black in a non-lab notebook with \" +\n",
       "                        \"`is_lab=True`. Please double check, and if \" +\n",
       "                        \"loading with `%load_ext` please review the README!\"\n",
       "                    console.log(msg)\n",
       "                    alert(msg)\n",
       "                })()\n",
       "                </script>\n",
       "                "
      ],
      "text/plain": [
       "<IPython.core.display.HTML object>"
      ]
     },
     "metadata": {},
     "output_type": "display_data"
    }
   ],
   "source": [
    "%load_ext jupyter_black"
   ]
  },
  {
   "cell_type": "code",
   "execution_count": 2,
   "metadata": {},
   "outputs": [
    {
     "name": "stdout",
     "output_type": "stream",
     "text": [
      "0    RA\n",
      "1    FG\n",
      "dtype: object\n",
      "0    1\n",
      "1    5\n",
      "dtype: int64\n"
     ]
    }
   ],
   "source": [
    "from enum import IntEnum, Flag, EnumMeta, auto\n",
    "import pandas as pd\n",
    "\n",
    "\n",
    "class WXCodeMeta(EnumMeta):\n",
    "    def __iter__(self):\n",
    "        for member in super().__iter__():\n",
    "            yield member.name, member.value\n",
    "\n",
    "\n",
    "class WXCodes(IntEnum, metaclass=WXCodeMeta):\n",
    "    RA = 1\n",
    "    TS = 2\n",
    "    BR = 3\n",
    "    SN = 4\n",
    "    FG = 5\n",
    "\n",
    "\n",
    "s = pd.Series([\"RA\", \"FG\"])\n",
    "\n",
    "print(s)\n",
    "\n",
    "print(s.replace(dict(WXCodes)))"
   ]
  },
  {
   "cell_type": "code",
   "execution_count": 3,
   "metadata": {},
   "outputs": [
    {
     "data": {
      "text/plain": [
       "(QueryMap(models=GALWEM),\n",
       " QueryMap(parameters=wind_direction, parameters=wind_speed, parameters=wind_gust, parameters=visibility, parameters=present_wx, parameters=10_m_temp, models=GALWEM, models=NAM, models=GFS, models=WRF-1.7k))"
      ]
     },
     "execution_count": 3,
     "metadata": {},
     "output_type": "execute_result"
    }
   ],
   "source": [
    "import urllib.parse\n",
    "from enum import Enum, EnumMeta, auto\n",
    "from typing import Iterator, TypeVar, Iterable, Generator, NewType\n",
    "from collections import ChainMap\n",
    "\n",
    "\n",
    "Names = TypeVar(\"Names\", str, list[str], tuple[str])\n",
    "\n",
    "\n",
    "def _urlencode(items: Iterable[\"QueryEnum\"]):\n",
    "    return urllib.parse.urlencode(\n",
    "        tuple((member.__query_name__, member.value) for member in items)\n",
    "    )\n",
    "\n",
    "\n",
    "class QueryMap(ChainMap):\n",
    "    def __str__(self) -> str:\n",
    "        return _urlencode(super().__iter__())\n",
    "\n",
    "    def __repr__(self) -> str:\n",
    "        return f\"{self.__class__.__name__}({', '.join(i.__repr__() for i in super().__iter__()) })\"\n",
    "\n",
    "\n",
    "StrGenerator = NewType(\"Generator[str, ...]\", Generator[str, None, None])\n",
    "\n",
    "\n",
    "class QueryEnumMeta(EnumMeta):\n",
    "    def __values__(self) -> StrGenerator:\n",
    "        yield from (member.value for member in super().__iter__())\n",
    "\n",
    "    def __names__(self) -> StrGenerator:\n",
    "        yield from (member.name for member in super().__iter__())\n",
    "\n",
    "    def __string_contains__(self, __o: str) -> bool:\n",
    "        return __o in self.__values__() or __o in self.__names__()\n",
    "\n",
    "    def __str__(cls) -> str:\n",
    "        return _urlencode(super().__iter__())\n",
    "\n",
    "    def __getitem__(self, names: Names) -> QueryMap:\n",
    "        if not isinstance(names, (list, tuple)):\n",
    "            names = (names,)\n",
    "        return QueryMap(tuple(self._member_map_[name] for name in names))\n",
    "\n",
    "    def __contains__(self, __o: object) -> bool:\n",
    "        if isinstance(__o, str):\n",
    "            return self.__string_contains__(__o)\n",
    "        return super().__contains__(__o)\n",
    "\n",
    "    def __eq__(self, __o: object) -> bool:\n",
    "        if isinstance(__o, str):\n",
    "            return self.__string_contains__(__o)\n",
    "        return super().__eq__(__o)\n",
    "\n",
    "    def __hash__(self) -> int:\n",
    "        return super().__hash__()\n",
    "\n",
    "    def keys(self):\n",
    "        return tuple(self.__names__())\n",
    "\n",
    "    def values(self):\n",
    "        return tuple(self.__values__())\n",
    "\n",
    "\n",
    "class QueryEnum(str, Enum, metaclass=QueryEnumMeta):\n",
    "    def _generate_next_value_(name: str, *_) -> str:\n",
    "        return name\n",
    "\n",
    "    def __repr__(self):\n",
    "        return f\"{self.__query_name__}={self.value}\"\n",
    "\n",
    "    @classmethod\n",
    "    @property\n",
    "    def __query_name__(cls) -> str:\n",
    "        return cls.__name__.lower()\n",
    "\n",
    "\n",
    "class Models(QueryEnum):\n",
    "    GALWEM = auto()\n",
    "    NAM = auto()\n",
    "    GFS = auto()\n",
    "    WRF_17K = \"WRF-1.7k\"\n",
    "\n",
    "\n",
    "class Parameters(QueryEnum):\n",
    "    wind_direction = auto()\n",
    "    wind_speed = auto()\n",
    "    wind_gust = auto()\n",
    "    visibility = auto()\n",
    "    present_wx = auto()\n",
    "    ten_meter_temp = \"10_m_temp\"\n",
    "\n",
    "\n",
    "localhost = \"http://localhost:8080\"\n",
    "assert Parameters(\"10_m_temp\") == Parameters.ten_meter_temp\n",
    "\n",
    "assert (\n",
    "    f\"{localhost}?{Models[['GALWEM', 'NAM']]}\"\n",
    "    == f\"{localhost}?{Models['GALWEM', 'NAM']}\"\n",
    ")\n",
    "\n",
    "assert (\n",
    "    f\"{localhost}?{QueryMap(Parameters,Models)}\" == f\"{localhost}?{Models}&{Parameters}\"\n",
    ")\n",
    "\n",
    "assert all((\"GALWEM\" in Models, Models.GALWEM in Models, Models in (\"GALWEM\", \"NAM\")))\n",
    "\n",
    "assert Parameters.ten_meter_temp.upper() == \"10_M_TEMP\"\n",
    "\n",
    "f\"{localhost}?{Models['GALWEM']}&{Parameters}\", f\"{localhost}?{Models[['GALWEM', 'NAM']]}\", f\"{localhost}?{QueryMap(Models,Parameters)}\",\n",
    "Models[\"GALWEM\"], QueryMap(Models, Parameters)"
   ]
  },
  {
   "cell_type": "code",
   "execution_count": 4,
   "metadata": {},
   "outputs": [
    {
     "data": {
      "text/plain": [
       "'http://localhost:8080?models=GALWEM&models=NAM'"
      ]
     },
     "execution_count": 4,
     "metadata": {},
     "output_type": "execute_result"
    }
   ],
   "source": [
    "import numpy as np\n",
    "\n",
    "a = np.array(Models, dtype=object)\n",
    "mask = (a == \"GALWEM\") | (a == \"NAM\")\n",
    "f\"{localhost}?{QueryMap(a[mask])}\""
   ]
  },
  {
   "cell_type": "code",
   "execution_count": 5,
   "metadata": {},
   "outputs": [
    {
     "data": {
      "text/plain": [
       "'http://localhost:8080?parameters=wind_direction&parameters=wind_speed&parameters=wind_gust'"
      ]
     },
     "execution_count": 5,
     "metadata": {},
     "output_type": "execute_result"
    }
   ],
   "source": [
    "import pandas as pd\n",
    "\n",
    "s = pd.Series(tuple(Parameters), index=Parameters.keys())\n",
    "f\"{localhost}?{QueryMap(s[s.str.contains('wind')])}\""
   ]
  },
  {
   "cell_type": "code",
   "execution_count": 6,
   "metadata": {},
   "outputs": [
    {
     "data": {
      "text/plain": [
       "QueryMap(parameters=wind_direction, parameters=wind_speed)"
      ]
     },
     "execution_count": 6,
     "metadata": {},
     "output_type": "execute_result"
    }
   ],
   "source": [
    "def f(params: Parameters):\n",
    "    return Parameters[params]\n",
    "\n",
    "\n",
    "f([\"wind_direction\", \"wind_speed\"])"
   ]
  },
  {
   "cell_type": "code",
   "execution_count": null,
   "metadata": {},
   "outputs": [],
   "source": []
  }
 ],
 "metadata": {
  "kernelspec": {
   "display_name": "Python 3.10.4 ('venv')",
   "language": "python",
   "name": "python3"
  },
  "language_info": {
   "codemirror_mode": {
    "name": "ipython",
    "version": 3
   },
   "file_extension": ".py",
   "mimetype": "text/x-python",
   "name": "python",
   "nbconvert_exporter": "python",
   "pygments_lexer": "ipython3",
   "version": "3.10.4"
  },
  "orig_nbformat": 4,
  "vscode": {
   "interpreter": {
    "hash": "23393d2575091a37cff0d0e9e7479591a295495b26c3b2ebf9b64da572e02d85"
   }
  }
 },
 "nbformat": 4,
 "nbformat_minor": 2
}
