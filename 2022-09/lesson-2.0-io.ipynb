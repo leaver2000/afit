{
 "cells": [
  {
   "cell_type": "code",
   "execution_count": 5,
   "metadata": {},
   "outputs": [
    {
     "data": {
      "text/html": [
       "\n",
       "                <script type=\"application/javascript\" id=\"jupyter_black\">\n",
       "                (function() {\n",
       "                    if (window.IPython === undefined) {\n",
       "                        return\n",
       "                    }\n",
       "                    var msg = \"WARNING: it looks like you might have loaded \" +\n",
       "                        \"jupyter_black in a non-lab notebook with \" +\n",
       "                        \"`is_lab=True`. Please double check, and if \" +\n",
       "                        \"loading with `%load_ext` please review the README!\"\n",
       "                    console.log(msg)\n",
       "                    alert(msg)\n",
       "                })()\n",
       "                </script>\n",
       "                "
      ],
      "text/plain": [
       "<IPython.core.display.HTML object>"
      ]
     },
     "metadata": {},
     "output_type": "display_data"
    }
   ],
   "source": [
    "%load_ext jupyter_black"
   ]
  },
  {
   "cell_type": "code",
   "execution_count": 1,
   "metadata": {},
   "outputs": [
    {
     "name": "stdout",
     "output_type": "stream",
     "text": [
      "\n",
      "os.path = /home/leaver2000/afit/2022-09\n",
      "pathlib.Path.cwd() = /home/leaver2000/afit/2022-09\n",
      "sys.path = ['/home/leaver2000/afit/2022-09', '/usr/lib/python310.zip', '/usr/lib/python3.10', '/usr/lib/python3.10/lib-dynload', '', '/opt/venv/lib/python3.10/site-packages', '/opt/venv/lib/python3.10/site-packages/IPython/extensions', '/home/leaver2000/.ipython']\n",
      "\n"
     ]
    },
    {
     "data": {
      "text/plain": [
       "{'os.path ': ' /home/leaver2000/afit/2022-09',\n",
       " 'pathlib.Path.cwd() ': ' /home/leaver2000/afit/2022-09',\n",
       " 'sys.path ': \" ['/home/leaver2000/afit/2022-09', '/usr/lib/python310.zip', '/usr/lib/python3.10', '/usr/lib/python3.10/lib-dynload', '', '/opt/venv/lib/python3.10/site-packages', '/opt/venv/lib/python3.10/site-packages/IPython/extensions', '/home/leaver2000/.ipython']\"}"
      ]
     },
     "execution_count": 1,
     "metadata": {},
     "output_type": "execute_result"
    }
   ],
   "source": [
    "import os\n",
    "import sys\n",
    "import shutil\n",
    "\n",
    "import gzip\n",
    "import zipfile\n",
    "from pathlib import Path\n",
    "\n",
    "text = f\"\"\"\n",
    "os.path = {os.path.abspath(\".\")}\n",
    "pathlib.Path.cwd() = {Path.cwd()}\n",
    "sys.path = {sys.path}\n",
    "\"\"\"\n",
    "print(text)\n",
    "dict(line.split(\"=\", maxsplit=1) for line in text.split(\"\\n\") if line != \"\")"
   ]
  },
  {
   "cell_type": "code",
   "execution_count": 2,
   "metadata": {},
   "outputs": [
    {
     "data": {
      "text/plain": [
       "((PosixPath('/home/leaver2000/afit/2022-09/lesson-2.2-dataclasses.ipynb'),\n",
       "  PosixPath('/home/leaver2000/afit/2022-09/lesson-2.0-io.ipynb'),\n",
       "  PosixPath('/home/leaver2000/afit/2022-09/lesson-3.ipynb'),\n",
       "  PosixPath('/home/leaver2000/afit/2022-09/lesson-1.ipynb'),\n",
       "  PosixPath('/home/leaver2000/afit/2022-09/lesson-2.3-enums.ipynb')),\n",
       " (PosixPath('/home/leaver2000/afit/app.py'),))"
      ]
     },
     "execution_count": 2,
     "metadata": {},
     "output_type": "execute_result"
    }
   ],
   "source": [
    "cwd = Path.cwd()\n",
    "assert cwd.is_dir() and not cwd.is_file()\n",
    "# glob (/ɡlɑːb/) patterns specify sets of filenames with wildcard characters\n",
    "# so in our working directory match all of the files or navigate to the parent and look for files ending with .py\n",
    "# the glob method yields a generator function\n",
    "tuple(cwd.glob(\"*\")), tuple(cwd.parent.glob(\"*.py\"))"
   ]
  },
  {
   "cell_type": "code",
   "execution_count": 3,
   "metadata": {},
   "outputs": [
    {
     "name": "stdout",
     "output_type": "stream",
     "text": [
      "found a notebook /home/leaver2000/afit/2022-09/lesson-2.2-dataclasses.ipynb\n",
      "it had 562 lines\n",
      "found a notebook /home/leaver2000/afit/2022-09/lesson-2.0-io.ipynb\n",
      "it had 114 lines\n",
      "found a notebook /home/leaver2000/afit/2022-09/lesson-3.ipynb\n",
      "it had 32 lines\n",
      "found a notebook /home/leaver2000/afit/2022-09/lesson-1.ipynb\n",
      "it had 993 lines\n",
      "found a notebook /home/leaver2000/afit/2022-09/lesson-2.3-enums.ipynb\n",
      "it had 447 lines\n"
     ]
    }
   ],
   "source": [
    "import json\n",
    "\n",
    "for file in Path.cwd().glob(\"*\"):\n",
    "    # the path object\n",
    "    assert file.is_file()\n",
    "    if \".ipynb\" in file.suffixes:\n",
    "        print(f\"found a notebook {file}\")\n",
    "        # using the with key word will open the file as a context manager\n",
    "        with file.open(\"r\") as f:\n",
    "            lines = f.readlines()\n",
    "            print(f\"it had {len(lines)} lines\")\n",
    "    # if not using the with key word\n",
    "    # need to remember to close the file\n",
    "    # otherwise we are loading tons of\n",
    "    # unused data into memory\n",
    "    f = file.open()\n",
    "    f.close()"
   ]
  },
  {
   "cell_type": "code",
   "execution_count": 12,
   "metadata": {},
   "outputs": [
    {
     "data": {
      "text/plain": [
       "<__main__.D object at 0x7fd5422e6050>, D({'foo': 'Bar'})"
      ]
     },
     "execution_count": 12,
     "metadata": {},
     "output_type": "execute_result"
    }
   ],
   "source": [
    "from collections.abc import MutableMapping\n",
    "\n",
    "\n",
    "class D(MutableMapping):\n",
    "    \"\"\"\n",
    "    Mapping that works like both a dict and a mutable object, i.e.\n",
    "    d = D(foo='bar')\n",
    "    and\n",
    "    d.foo returns 'bar'\n",
    "    \"\"\"\n",
    "\n",
    "    # ``__init__`` method required to create instance from class.\n",
    "    def __init__(self, *args, **kwargs):\n",
    "        \"\"\"Use the object dict\"\"\"\n",
    "        self.__dict__.update(*args, **kwargs)\n",
    "\n",
    "    # The next five methods are requirements of the ABC.\n",
    "    def __setitem__(self, key, value):\n",
    "        self.__dict__[key] = value\n",
    "\n",
    "    def __getitem__(self, key):\n",
    "        return self.__dict__[key]\n",
    "\n",
    "    def __delitem__(self, key):\n",
    "        del self.__dict__[key]\n",
    "\n",
    "    def __iter__(self):\n",
    "        return iter(self.__dict__)\n",
    "\n",
    "    def __len__(self):\n",
    "        return len(self.__dict__)\n",
    "\n",
    "    # The final two methods aren't required, but nice for demo purposes:\n",
    "    def __str__(self):\n",
    "        \"\"\"returns simple dict representation of the mapping\"\"\"\n",
    "        return str(self.__dict__)\n",
    "\n",
    "    def __repr__(self):\n",
    "        \"\"\"echoes class, id, & reproducible representation in the REPL\"\"\"\n",
    "        return \"{}, D({})\".format(super(D, self).__repr__(), self.__dict__)\n",
    "\n",
    "\n",
    "D(foo=\"Bar\")\n",
    "# {**D(foo=\"Bar\")}"
   ]
  }
 ],
 "metadata": {
  "kernelspec": {
   "display_name": "Python 3.10.4 ('venv')",
   "language": "python",
   "name": "python3"
  },
  "language_info": {
   "codemirror_mode": {
    "name": "ipython",
    "version": 3
   },
   "file_extension": ".py",
   "mimetype": "text/x-python",
   "name": "python",
   "nbconvert_exporter": "python",
   "pygments_lexer": "ipython3",
   "version": "3.10.4"
  },
  "orig_nbformat": 4,
  "vscode": {
   "interpreter": {
    "hash": "23393d2575091a37cff0d0e9e7479591a295495b26c3b2ebf9b64da572e02d85"
   }
  }
 },
 "nbformat": 4,
 "nbformat_minor": 2
}
