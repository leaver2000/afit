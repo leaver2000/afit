{
 "cells": [
  {
   "cell_type": "code",
   "execution_count": 1,
   "metadata": {},
   "outputs": [
    {
     "data": {
      "text/html": [
       "\n",
       "                <script type=\"application/javascript\" id=\"jupyter_black\">\n",
       "                (function() {\n",
       "                    if (window.IPython === undefined) {\n",
       "                        return\n",
       "                    }\n",
       "                    var msg = \"WARNING: it looks like you might have loaded \" +\n",
       "                        \"jupyter_black in a non-lab notebook with \" +\n",
       "                        \"`is_lab=True`. Please double check, and if \" +\n",
       "                        \"loading with `%load_ext` please review the README!\"\n",
       "                    console.log(msg)\n",
       "                    alert(msg)\n",
       "                })()\n",
       "                </script>\n",
       "                "
      ],
      "text/plain": [
       "<IPython.core.display.HTML object>"
      ]
     },
     "metadata": {},
     "output_type": "display_data"
    }
   ],
   "source": [
    "%load_ext jupyter_black"
   ]
  },
  {
   "cell_type": "code",
   "execution_count": 39,
   "metadata": {},
   "outputs": [
    {
     "name": "stdout",
     "output_type": "stream",
     "text": [
      "weather_watch_001 has been Issued at 2022-09-08T18:03:38 Wind for 50 of KTS!\n",
      "weather_watch_001 has been downgrade at 2022-09-08T18:03:38 Wind for 35 of KTS!\n"
     ]
    },
    {
     "data": {
      "text/plain": [
       "'weather_watch_002 weather_warning_001'"
      ]
     },
     "execution_count": 39,
     "metadata": {},
     "output_type": "execute_result"
    }
   ],
   "source": [
    "from abc import ABC\n",
    "from datetime import datetime\n",
    "\n",
    "\n",
    "class Counter:\n",
    "    count = 0\n",
    "\n",
    "    def increment(self) -> None:\n",
    "        self.count = self.count + 1\n",
    "\n",
    "    def reset(self) -> None:\n",
    "        self.count = 0\n",
    "\n",
    "\n",
    "class WWA(ABC):\n",
    "    action = \"Issued\"\n",
    "    issued_time = datetime.utcnow()\n",
    "\n",
    "\n",
    "    def __init__(self, phenom: str, value: float, unit: str):\n",
    "        self.phenom = phenom\n",
    "        self.value = value\n",
    "        self.unit = unit\n",
    "        self.counter.increment()\n",
    "\n",
    "    def __str__(self):\n",
    "        return f\"{self.alert.lower()}_{self.count:03}\"\n",
    "\n",
    "    @property\n",
    "    def counter(self) -> Counter:\n",
    "        raise NotImplementedError\n",
    "\n",
    "    @property\n",
    "    def count(self):\n",
    "        return self.counter.count\n",
    "\n",
    "    @property\n",
    "    def alert(self) -> str:\n",
    "        return self.__class__.__name__\n",
    "\n",
    "    def issue(self) -> \"WWA\":\n",
    "        print(\n",
    "            f\"{self} has been {self.action} at {self.issued_time.isoformat(timespec='seconds')} {self.phenom} for {self.value} of {self.unit}!\"\n",
    "        )\n",
    "        return self\n",
    "\n",
    "    def upgrade(self, value) -> \"WWA\":\n",
    "        if self.value >= value:\n",
    "            raise Exception\n",
    "        self.__update(\"upgrade\", value)\n",
    "\n",
    "        return self\n",
    "\n",
    "    def downgrade(self, value):\n",
    "        if self.value <= value:\n",
    "            raise Exception\n",
    "        self.__update(\"downgrade\", value)\n",
    "        return self\n",
    "\n",
    "    def __update(self, action, value):\n",
    "        self.action = action\n",
    "        self.value = value\n",
    "\n",
    "\n",
    "class Weather_Warning(WWA):\n",
    "    counter = Counter()\n",
    "    ...\n",
    "\n",
    "\n",
    "class Weather_Advisory(WWA):\n",
    "    counter = Counter()\n",
    "    ...\n",
    "\n",
    "\n",
    "class Weather_Watch(WWA):\n",
    "    counter = Counter()\n",
    "    ...\n",
    "\n",
    "\n",
    "wind_warning_001 = Weather_Watch(\"Wind\", 50, \"KTS\").issue().downgrade(35).issue()\n",
    "\n",
    "f'{Weather_Watch(\"Blizard\", 0.5, \"SM\")} {Weather_Warning(\"Blizard\", 0.5, \"SM\")}'"
   ]
  },
  {
   "cell_type": "code",
   "execution_count": null,
   "metadata": {},
   "outputs": [],
   "source": []
  }
 ],
 "metadata": {
  "kernelspec": {
   "display_name": "Python 3.10.4 ('venv')",
   "language": "python",
   "name": "python3"
  },
  "language_info": {
   "codemirror_mode": {
    "name": "ipython",
    "version": 3
   },
   "file_extension": ".py",
   "mimetype": "text/x-python",
   "name": "python",
   "nbconvert_exporter": "python",
   "pygments_lexer": "ipython3",
   "version": "3.10.4"
  },
  "orig_nbformat": 4,
  "vscode": {
   "interpreter": {
    "hash": "34a00808f897e0120a883317eb237a375fceb1bf67605af89b3482723f3da6d5"
   }
  }
 },
 "nbformat": 4,
 "nbformat_minor": 2
}
