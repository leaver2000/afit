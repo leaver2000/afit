{
 "cells": [
  {
   "cell_type": "code",
   "execution_count": 1,
   "metadata": {},
   "outputs": [
    {
     "data": {
      "text/html": [
       "\n",
       "                <script type=\"application/javascript\" id=\"jupyter_black\">\n",
       "                (function() {\n",
       "                    if (window.IPython === undefined) {\n",
       "                        return\n",
       "                    }\n",
       "                    var msg = \"WARNING: it looks like you might have loaded \" +\n",
       "                        \"jupyter_black in a non-lab notebook with \" +\n",
       "                        \"`is_lab=True`. Please double check, and if \" +\n",
       "                        \"loading with `%load_ext` please review the README!\"\n",
       "                    console.log(msg)\n",
       "                    alert(msg)\n",
       "                })()\n",
       "                </script>\n",
       "                "
      ],
      "text/plain": [
       "<IPython.core.display.HTML object>"
      ]
     },
     "metadata": {},
     "output_type": "display_data"
    }
   ],
   "source": [
    "%load_ext jupyter_black"
   ]
  },
  {
   "cell_type": "code",
   "execution_count": 2,
   "metadata": {},
   "outputs": [],
   "source": [
    "from dataclasses import dataclass\n",
    "from typing import overload\n",
    "\n",
    "import pandas as pd\n",
    "import numpy as np\n",
    "from numpy.typing import NDArray"
   ]
  },
  {
   "cell_type": "code",
   "execution_count": 3,
   "metadata": {},
   "outputs": [
    {
     "name": "stdout",
     "output_type": "stream",
     "text": [
      "\n",
      "__str__() -> 01010G15KT\n",
      ">>> wind1.to_dict()\n",
      "{'direction': 10, 'speed': 10, 'gust': 15.0}\n",
      ">>> wind1.to_dict().values()\n",
      "dict_values([10, 10, 15.0])\n",
      ">>> wind1.to_dict().keys()\n",
      "dict_keys(['direction', 'speed', 'gust'])\n",
      ">>> wind1.to_numpy()\n",
      "[10. 10. 15.]\n",
      ">>> wind1.to_pandas()\n",
      "direction    10.0\n",
      "speed        10.0\n",
      "gust         15.0\n",
      "dtype: float32\n",
      "\n"
     ]
    }
   ],
   "source": [
    "@dataclass(frozen=True)\n",
    "class Wind:\n",
    "    \"\"\"\n",
    "    surface wind representation\n",
    "    \"\"\"\n",
    "\n",
    "    direction: float\n",
    "    speed: float\n",
    "    gust: float = 0.0\n",
    "\n",
    "    def to_dict(self) -> dict[str, float]:\n",
    "        return self.__dict__\n",
    "\n",
    "    def to_numpy(self) -> np.ndarray:\n",
    "        return np.asanyarray(tuple(self), dtype=np.float32)\n",
    "\n",
    "    def to_pandas(self) -> pd.Series:\n",
    "        return pd.Series(self.__dict__, dtype=np.float32)\n",
    "\n",
    "    def __gt__(self, other: \"Wind\") -> bool:\n",
    "        return max(self.speed, self.gust) > max(other.speed, other.gust)\n",
    "\n",
    "    def __sub__(self, other: \"Wind\") -> \"Wind\":\n",
    "        wdir, wspd, wgst = self.to_numpy() - other.to_numpy()\n",
    "        wdir = (wdir + 180) % 360 - 180\n",
    "        return Wind(wdir, wspd, wgst)\n",
    "\n",
    "    def __abs__(self) -> \"Wind\":\n",
    "        return Wind(*np.abs(tuple(self)))\n",
    "\n",
    "    def __str__(self) -> str:\n",
    "        wdir, wspd, wgst = map(int, self)\n",
    "        return f\"{wdir:03d}{wspd:02d}{f'G{wgst:02d}' if wgst else ''}KT\"\n",
    "\n",
    "    def __iter__(self):\n",
    "        yield from self.to_dict().values()\n",
    "\n",
    "\n",
    "wind1 = Wind(10, 10, 15.0)\n",
    "\n",
    "print(\n",
    "    f\"\"\"\n",
    "__str__() -> {wind1}\n",
    ">>> wind1.to_dict()\n",
    "{wind1.to_dict()}\n",
    ">>> wind1.to_dict().values()\n",
    "{wind1.to_dict().values()}\n",
    ">>> wind1.to_dict().keys()\n",
    "{wind1.to_dict().keys()}\n",
    ">>> wind1.to_numpy()\n",
    "{wind1.to_numpy()}\n",
    ">>> wind1.to_pandas()\n",
    "{wind1.to_pandas()}\n",
    "\"\"\"\n",
    ")"
   ]
  },
  {
   "cell_type": "code",
   "execution_count": 4,
   "metadata": {},
   "outputs": [
    {
     "data": {
      "text/plain": [
       "(Wind(direction=20.0, speed=-5.0, gust=-10.0),\n",
       " Wind(direction=20.0, speed=5.0, gust=10.0))"
      ]
     },
     "execution_count": 4,
     "metadata": {},
     "output_type": "execute_result"
    }
   ],
   "source": [
    "wind2 = Wind(350, 15, 25)\n",
    "delta = wind1 - wind2\n",
    "delta, abs(delta)"
   ]
  },
  {
   "cell_type": "code",
   "execution_count": 5,
   "metadata": {},
   "outputs": [
    {
     "data": {
      "text/plain": [
       "(Wind(direction=20.0, speed=5.0, gust=10.0),\n",
       " Wind(direction=350, speed=15, gust=25),\n",
       " Wind(direction=10, speed=10, gust=15.0))"
      ]
     },
     "execution_count": 5,
     "metadata": {},
     "output_type": "execute_result"
    }
   ],
   "source": [
    "abs(delta), max([wind1, wind2]), min([wind1, wind2])"
   ]
  },
  {
   "cell_type": "code",
   "execution_count": 6,
   "metadata": {},
   "outputs": [
    {
     "name": "stdout",
     "output_type": "stream",
     "text": [
      "the diff = 02005G10KT\n",
      "the max = 35015G25KT\n",
      "the min = 01010G15KT\n"
     ]
    }
   ],
   "source": [
    "print(\n",
    "    f\"the diff = {abs(delta)}\\nthe max = {max([wind1,wind2])}\\nthe min = {min([wind1,wind2])}\"\n",
    ")"
   ]
  },
  {
   "cell_type": "code",
   "execution_count": 7,
   "metadata": {},
   "outputs": [
    {
     "name": "stderr",
     "output_type": "stream",
     "text": [
      "/opt/venv/lib/python3.10/site-packages/xarray/backends/cfgrib_.py:27: UserWarning: Failed to load cfgrib - most likely there is a problem accessing the ecCodes library. Try `import cfgrib` to get the full error message\n",
      "  warnings.warn(\n"
     ]
    },
    {
     "data": {
      "text/plain": [
       "(<module 'xarray' from '/opt/venv/lib/python3.10/site-packages/xarray/__init__.py'>,\n",
       " <module 'numpy' from '/opt/venv/lib/python3.10/site-packages/numpy/__init__.py'>,\n",
       " <module 'pandas' from '/opt/venv/lib/python3.10/site-packages/pandas/__init__.py'>)"
      ]
     },
     "execution_count": 7,
     "metadata": {},
     "output_type": "execute_result"
    }
   ],
   "source": [
    "import numpy as np\n",
    "import pandas as pd\n",
    "import xarray as xr\n",
    "\n",
    "xr, np, pd"
   ]
  },
  {
   "cell_type": "code",
   "execution_count": 13,
   "metadata": {},
   "outputs": [
    {
     "data": {
      "text/html": [
       "<div>\n",
       "<style scoped>\n",
       "    .dataframe tbody tr th:only-of-type {\n",
       "        vertical-align: middle;\n",
       "    }\n",
       "\n",
       "    .dataframe tbody tr th {\n",
       "        vertical-align: top;\n",
       "    }\n",
       "\n",
       "    .dataframe thead th {\n",
       "        text-align: right;\n",
       "    }\n",
       "</style>\n",
       "<table border=\"1\" class=\"dataframe\">\n",
       "  <thead>\n",
       "    <tr style=\"text-align: right;\">\n",
       "      <th></th>\n",
       "      <th>direction</th>\n",
       "      <th>speed</th>\n",
       "      <th>gust</th>\n",
       "    </tr>\n",
       "  </thead>\n",
       "  <tbody>\n",
       "    <tr>\n",
       "      <th>0</th>\n",
       "      <td>250</td>\n",
       "      <td>20</td>\n",
       "      <td>0.0</td>\n",
       "    </tr>\n",
       "    <tr>\n",
       "      <th>1</th>\n",
       "      <td>120</td>\n",
       "      <td>15</td>\n",
       "      <td>0.0</td>\n",
       "    </tr>\n",
       "  </tbody>\n",
       "</table>\n",
       "</div>"
      ],
      "text/plain": [
       "   direction  speed  gust\n",
       "0        250     20   0.0\n",
       "1        120     15   0.0"
      ]
     },
     "execution_count": 13,
     "metadata": {},
     "output_type": "execute_result"
    }
   ],
   "source": [
    "pd.DataFrame([Wind(250, 20), Wind(120, 15)])"
   ]
  },
  {
   "cell_type": "code",
   "execution_count": 8,
   "metadata": {},
   "outputs": [
    {
     "data": {
      "text/plain": [
       "(array([ 0,  1,  2,  3,  4,  5,  6,  7,  8,  9, 10, 11, 12, 13, 14, 15, 16,\n",
       "        17, 18, 19]),\n",
       " array([[ 0,  1,  2,  3],\n",
       "        [ 4,  5,  6,  7],\n",
       "        [ 8,  9, 10, 11],\n",
       "        [12, 13, 14, 15],\n",
       "        [16, 17, 18, 19]]))"
      ]
     },
     "execution_count": 8,
     "metadata": {},
     "output_type": "execute_result"
    }
   ],
   "source": [
    "a = np.arange(20)\n",
    "a, a.reshape(5, 4)"
   ]
  },
  {
   "cell_type": "code",
   "execution_count": 9,
   "metadata": {},
   "outputs": [
    {
     "data": {
      "text/plain": [
       "<Response [200]>"
      ]
     },
     "execution_count": 9,
     "metadata": {},
     "output_type": "execute_result"
    }
   ],
   "source": [
    "import requests\n",
    "\n",
    "url = \"https://www.ncei.noaa.gov/pub/data/normals/1981-2010/products/station/AQC00914000.normals.txt\"\n",
    "r = requests.get(url)\n",
    "r"
   ]
  },
  {
   "cell_type": "code",
   "execution_count": 10,
   "metadata": {},
   "outputs": [
    {
     "name": "stdout",
     "output_type": "stream",
     "text": [
      "\n"
     ]
    },
    {
     "data": {
      "text/plain": [
       "(['JAN',\n",
       "  'FEB',\n",
       "  'MAR',\n",
       "  'APR',\n",
       "  'MAY',\n",
       "  'JUN',\n",
       "  'JUL',\n",
       "  'AUG',\n",
       "  'SEP',\n",
       "  'OCT',\n",
       "  'NOV',\n",
       "  'DEC'],\n",
       " ['2116R',\n",
       "  '2022S',\n",
       "  '1840S',\n",
       "  '1780R',\n",
       "  '1820R',\n",
       "  '1306R',\n",
       "  '1274R',\n",
       "  '1383R',\n",
       "  '1570S',\n",
       "  '2003S',\n",
       "  '2036R',\n",
       "  '2242R'])"
      ]
     },
     "execution_count": 10,
     "metadata": {},
     "output_type": "execute_result"
    }
   ],
   "source": [
    "def notspace(line: str):\n",
    "    return not line.isspace()\n",
    "\n",
    "\n",
    "newset = True\n",
    "_bucket = {}\n",
    "for line in filter(notspace, r.text.split(\"\\n\")):\n",
    "    if line.startswith(\"---\"):\n",
    "        continue\n",
    "    try:\n",
    "        key, *values = filter(notspace, line.split())\n",
    "        _bucket[key] = values\n",
    "    except ValueError:\n",
    "        print(line)\n",
    "    # print(line.split())\n",
    "_bucket[\"Monthly\"], _bucket[\"mly-prcp-normal\"]\n",
    "# pd.DataFrame([_bucket]).columns"
   ]
  },
  {
   "cell_type": "code",
   "execution_count": 11,
   "metadata": {},
   "outputs": [
    {
     "data": {
      "text/plain": [
       "<Response [200]>"
      ]
     },
     "execution_count": 11,
     "metadata": {},
     "output_type": "execute_result"
    }
   ],
   "source": [
    "import requests\n",
    "\n",
    "year = 2021\n",
    "url = f\"https://www.ncei.noaa.gov/pub/data/ghcn/daily/by_year/{year}.csv.gz\"\n",
    "r = requests.get(url)\n",
    "r"
   ]
  },
  {
   "cell_type": "code",
   "execution_count": 12,
   "metadata": {},
   "outputs": [
    {
     "ename": "FileNotFoundError",
     "evalue": "[Errno 2] No such file or directory: '/home/leaver2000/afit/ghcnd_all.tar.gz'",
     "output_type": "error",
     "traceback": [
      "\u001b[0;31m---------------------------------------------------------------------------\u001b[0m",
      "\u001b[0;31mFileNotFoundError\u001b[0m                         Traceback (most recent call last)",
      "\u001b[0;32m/tmp/ipykernel_12657/301831747.py\u001b[0m in \u001b[0;36m<cell line: 5>\u001b[0;34m()\u001b[0m\n\u001b[1;32m      3\u001b[0m \u001b[0;34m\u001b[0m\u001b[0m\n\u001b[1;32m      4\u001b[0m \u001b[0mfile\u001b[0m \u001b[0;34m=\u001b[0m \u001b[0mPath\u001b[0m\u001b[0;34m.\u001b[0m\u001b[0mcwd\u001b[0m\u001b[0;34m(\u001b[0m\u001b[0;34m)\u001b[0m\u001b[0;34m.\u001b[0m\u001b[0mparent\u001b[0m \u001b[0;34m/\u001b[0m \u001b[0;34m\"ghcnd_all.tar.gz\"\u001b[0m\u001b[0;34m\u001b[0m\u001b[0;34m\u001b[0m\u001b[0m\n\u001b[0;32m----> 5\u001b[0;31m \u001b[0;32mwith\u001b[0m \u001b[0mgzip\u001b[0m\u001b[0;34m.\u001b[0m\u001b[0mGzipFile\u001b[0m\u001b[0;34m(\u001b[0m\u001b[0mfile\u001b[0m\u001b[0;34m)\u001b[0m \u001b[0;32mas\u001b[0m \u001b[0mf\u001b[0m\u001b[0;34m:\u001b[0m\u001b[0;34m\u001b[0m\u001b[0;34m\u001b[0m\u001b[0m\n\u001b[0m\u001b[1;32m      6\u001b[0m     \u001b[0mf\u001b[0m\u001b[0;34m.\u001b[0m\u001b[0mread\u001b[0m\u001b[0;34m(\u001b[0m\u001b[0;34m)\u001b[0m\u001b[0;34m\u001b[0m\u001b[0;34m\u001b[0m\u001b[0m\n",
      "\u001b[0;32m/usr/lib/python3.10/gzip.py\u001b[0m in \u001b[0;36m__init__\u001b[0;34m(self, filename, mode, compresslevel, fileobj, mtime)\u001b[0m\n\u001b[1;32m    172\u001b[0m             \u001b[0mmode\u001b[0m \u001b[0;34m+=\u001b[0m \u001b[0;34m'b'\u001b[0m\u001b[0;34m\u001b[0m\u001b[0;34m\u001b[0m\u001b[0m\n\u001b[1;32m    173\u001b[0m         \u001b[0;32mif\u001b[0m \u001b[0mfileobj\u001b[0m \u001b[0;32mis\u001b[0m \u001b[0;32mNone\u001b[0m\u001b[0;34m:\u001b[0m\u001b[0;34m\u001b[0m\u001b[0;34m\u001b[0m\u001b[0m\n\u001b[0;32m--> 174\u001b[0;31m             \u001b[0mfileobj\u001b[0m \u001b[0;34m=\u001b[0m \u001b[0mself\u001b[0m\u001b[0;34m.\u001b[0m\u001b[0mmyfileobj\u001b[0m \u001b[0;34m=\u001b[0m \u001b[0mbuiltins\u001b[0m\u001b[0;34m.\u001b[0m\u001b[0mopen\u001b[0m\u001b[0;34m(\u001b[0m\u001b[0mfilename\u001b[0m\u001b[0;34m,\u001b[0m \u001b[0mmode\u001b[0m \u001b[0;32mor\u001b[0m \u001b[0;34m'rb'\u001b[0m\u001b[0;34m)\u001b[0m\u001b[0;34m\u001b[0m\u001b[0;34m\u001b[0m\u001b[0m\n\u001b[0m\u001b[1;32m    175\u001b[0m         \u001b[0;32mif\u001b[0m \u001b[0mfilename\u001b[0m \u001b[0;32mis\u001b[0m \u001b[0;32mNone\u001b[0m\u001b[0;34m:\u001b[0m\u001b[0;34m\u001b[0m\u001b[0;34m\u001b[0m\u001b[0m\n\u001b[1;32m    176\u001b[0m             \u001b[0mfilename\u001b[0m \u001b[0;34m=\u001b[0m \u001b[0mgetattr\u001b[0m\u001b[0;34m(\u001b[0m\u001b[0mfileobj\u001b[0m\u001b[0;34m,\u001b[0m \u001b[0;34m'name'\u001b[0m\u001b[0;34m,\u001b[0m \u001b[0;34m''\u001b[0m\u001b[0;34m)\u001b[0m\u001b[0;34m\u001b[0m\u001b[0;34m\u001b[0m\u001b[0m\n",
      "\u001b[0;31mFileNotFoundError\u001b[0m: [Errno 2] No such file or directory: '/home/leaver2000/afit/ghcnd_all.tar.gz'"
     ]
    }
   ],
   "source": [
    "from pathlib import Path\n",
    "import gzip\n",
    "\n",
    "file = Path.cwd().parent / \"ghcnd_all.tar.gz\"\n",
    "with gzip.GzipFile(file) as f:\n",
    "    f.read()"
   ]
  }
 ],
 "metadata": {
  "kernelspec": {
   "display_name": "Python 3.10.4 ('venv')",
   "language": "python",
   "name": "python3"
  },
  "language_info": {
   "codemirror_mode": {
    "name": "ipython",
    "version": 3
   },
   "file_extension": ".py",
   "mimetype": "text/x-python",
   "name": "python",
   "nbconvert_exporter": "python",
   "pygments_lexer": "ipython3",
   "version": "3.10.4"
  },
  "orig_nbformat": 4,
  "vscode": {
   "interpreter": {
    "hash": "34a00808f897e0120a883317eb237a375fceb1bf67605af89b3482723f3da6d5"
   }
  }
 },
 "nbformat": 4,
 "nbformat_minor": 2
}
