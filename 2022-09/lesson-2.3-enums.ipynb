{
 "cells": [
  {
   "cell_type": "code",
   "execution_count": 1,
   "metadata": {},
   "outputs": [
    {
     "data": {
      "text/html": [
       "\n",
       "                <script type=\"application/javascript\" id=\"jupyter_black\">\n",
       "                (function() {\n",
       "                    if (window.IPython === undefined) {\n",
       "                        return\n",
       "                    }\n",
       "                    var msg = \"WARNING: it looks like you might have loaded \" +\n",
       "                        \"jupyter_black in a non-lab notebook with \" +\n",
       "                        \"`is_lab=True`. Please double check, and if \" +\n",
       "                        \"loading with `%load_ext` please review the README!\"\n",
       "                    console.log(msg)\n",
       "                    alert(msg)\n",
       "                })()\n",
       "                </script>\n",
       "                "
      ],
      "text/plain": [
       "<IPython.core.display.HTML object>"
      ]
     },
     "metadata": {},
     "output_type": "display_data"
    }
   ],
   "source": [
    "%load_ext jupyter_black"
   ]
  },
  {
   "cell_type": "markdown",
   "metadata": {},
   "source": [
    "## [Enums](https://docs.python.org/3/library/enum.html)\n",
    "\n",
    "> An enumeration is a set of symbolic names (members) bound to unique, constant values. Within an enumeration, the members can be compared by identity, and the enumeration itself can be iterated over.\n",
    "\n",
    "\n",
    "**Note** Case of Enum Members\n",
    "\n",
    "Because Enums are used to represent constants we recommend using UPPER_CASE names for enum members, and will be using that style in our examples.\n",
    "\n",
    "\n",
    "``` python\n",
    "Python 3.10.4 (main, Jun 29 2022, 12:14:53) [GCC 11.2.0] on linux\n",
    "Type \"help\", \"copyright\", \"credits\" or \"license\" for more information.\n",
    ">>> from enum import Enum\n",
    ">>> class Color(Enum):\n",
    "...     RED = 1\n",
    "... \n",
    ">>> Color\n",
    "<enum 'Color'>\n",
    ">>> Color.RED\n",
    "<Color.RED: 1>\n",
    ">>> Color(1)\n",
    "<Color.RED: \n",
    "```\n"
   ]
  },
  {
   "cell_type": "code",
   "execution_count": 1,
   "metadata": {},
   "outputs": [
    {
     "name": "stdout",
     "output_type": "stream",
     "text": [
      "\n",
      "   WINDSPEED    WX\n",
      "0         30    RA\n",
      "1         15    FG\n",
      "2         35  <NA>\n",
      "3         40    SN\n",
      "\n",
      "   WINDSPEED    WX\n",
      "0         30     1\n",
      "1         15     5\n",
      "2         35  <NA>\n",
      "3         40     4\n",
      "\n",
      "   WINDSPEED    WX\n",
      "0         30     1\n",
      "1         15     5\n",
      "2         35  <NA>\n",
      "3         40     4\n",
      "\n"
     ]
    }
   ],
   "source": [
    "from enum import IntEnum, Flag, EnumMeta, auto\n",
    "\n",
    "from typing import TypeVar, Generic, Iterator, NewType\n",
    "\n",
    "import pandas as pd\n",
    "import numpy as np\n",
    "\n",
    "\n",
    "class WXCodeMeta(EnumMeta):\n",
    "    def __iter__(self: type[IntEnum]) -> Iterator[tuple[str, int]]:\n",
    "        for member in super().__iter__():\n",
    "            yield member.name, member.value\n",
    "\n",
    "    def names(self: type[IntEnum]):\n",
    "        return tuple(member.name for member in super().__iter__())\n",
    "\n",
    "    def values(self: type[IntEnum]):\n",
    "        return tuple(member.value for member in super().__iter__())\n",
    "\n",
    "\n",
    "class WXCodes(IntEnum, metaclass=WXCodeMeta):\n",
    "    RA = 1\n",
    "    TS = 2\n",
    "    BR = 3\n",
    "    SN = 4\n",
    "    FG = 5\n",
    "\n",
    "\n",
    "df = pd.DataFrame(\n",
    "    [\n",
    "        {\"WINDSPEED\": 30, \"WX\": \"RA\"},\n",
    "        {\"WINDSPEED\": 15, \"WX\": \"FG\"},\n",
    "        {\"WINDSPEED\": 35, \"WX\": pd.NA},\n",
    "        {\"WINDSPEED\": 40, \"WX\": \"SN\"},\n",
    "    ]\n",
    ")\n",
    "\n",
    "\n",
    "print(\n",
    "    f\"\"\"\n",
    "{df}\n",
    "\n",
    "{df.replace(WXCodes.names(), WXCodes.values())}\n",
    "\n",
    "{df.replace(dict(WXCodes))}\n",
    "\"\"\"\n",
    ")"
   ]
  },
  {
   "cell_type": "code",
   "execution_count": 3,
   "metadata": {},
   "outputs": [
    {
     "name": "stdout",
     "output_type": "stream",
     "text": [
      "tuple:\n",
      "(('RA', 1), ('TS', 2), ('BR', 3), ('SN', 4), ('FG', 5))\n",
      "\n",
      "list:\n",
      "[('RA', 1), ('TS', 2), ('BR', 3), ('SN', 4), ('FG', 5)]\n",
      "\n",
      "dict:\n",
      "{'RA': 1, 'TS': 2, 'BR': 3, 'SN': 4, 'FG': 5}\n",
      "\n",
      "numpy array:\n",
      "[['RA' 1]\n",
      " ['TS' 2]\n",
      " ['BR' 3]\n",
      " ['SN' 4]\n",
      " ['FG' 5]]\n",
      "\n",
      "pandas dataframe:\n",
      "  names  values\n",
      "0    RA       1\n",
      "1    TS       2\n",
      "2    BR       3\n",
      "3    SN       4\n",
      "4    FG       5\n"
     ]
    }
   ],
   "source": [
    "print(\n",
    "    f\"\"\"\\\n",
    "tuple:\n",
    "{tuple(WXCodes)}\n",
    "\n",
    "list:\n",
    "{list(WXCodes)}\n",
    "\n",
    "dict:\n",
    "{dict(WXCodes)}\n",
    "\n",
    "numpy array:\n",
    "{np.array(WXCodes, dtype=object)}\n",
    "\n",
    "pandas dataframe:\n",
    "{pd.DataFrame(tuple(WXCodes), columns=[\"names\", \"values\"])}\"\"\"\n",
    ")"
   ]
  },
  {
   "cell_type": "code",
   "execution_count": 34,
   "metadata": {},
   "outputs": [
    {
     "name": "stdout",
     "output_type": "stream",
     "text": [
      "THAT MODEL IS NOT AVALIABLE\n",
      "\n",
      "http://localhost:8080?parameters=wind_direction&parameters=wind_speed&parameters=wind_gust&parameters=visibility&parameters=present_wx&parameters=10_m_temp&models=GALWEM\n",
      "\n",
      "http://localhost:8080?parameters=wind_direction&parameters=wind_speed&parameters=wind_gust&parameters=visibility&parameters=present_wx&parameters=10_m_temp&models=GALWEM&models=NAM\n",
      "\n",
      "http://localhost:8080?parameters=wind_direction&models=GALWEM&models=NAM\n",
      "    \n"
     ]
    }
   ],
   "source": [
    "import urllib.parse\n",
    "from collections import ChainMap\n",
    "from enum import Enum, EnumMeta, auto\n",
    "from typing import Iterator, TypeVar, Iterable, Generator, NewType\n",
    "\n",
    "\n",
    "Names = TypeVar(\"Names\", str, list[str], tuple[str])\n",
    "StrGenerator = NewType(\"Generator[str, ...]\", Generator[str, None, None])\n",
    "\n",
    "\n",
    "class StrEnum(str, Enum):\n",
    "    name: str\n",
    "    value: str\n",
    "\n",
    "    def __iter__(self: type[Enum]) -> StrGenerator:\n",
    "        yield from super().__iter__()\n",
    "\n",
    "\n",
    "def _urlencode(items: Iterable[\"QueryEnum\"]):\n",
    "    return urllib.parse.urlencode(\n",
    "        tuple((member.__query_name__, member.value) for member in items)\n",
    "    )\n",
    "\n",
    "\n",
    "class QueryMap(ChainMap):\n",
    "    def __str__(self) -> str:\n",
    "        return _urlencode(super().__iter__())\n",
    "\n",
    "    def __repr__(self) -> str:\n",
    "        return f\"{self.__class__.__name__}({', '.join(member.__repr__() for member in super().__iter__())})\"\n",
    "\n",
    "    def __and__(self, __o: \"QueryMap\"):\n",
    "        return str(QueryMap(self, __o))\n",
    "\n",
    "\n",
    "class QueryEnumMeta(EnumMeta):\n",
    "    def __values__(self: type[StrEnum]) -> StrGenerator:\n",
    "        yield from (member.value for member in super().__iter__())\n",
    "\n",
    "    def __names__(self: type[StrEnum]) -> StrGenerator:\n",
    "        yield from (member.name for member in super().__iter__())\n",
    "\n",
    "    def __string_contains__(self, __o: str) -> bool:\n",
    "        return __o in self.__values__() or __o in self.__names__()\n",
    "\n",
    "    def __str__(self) -> str:\n",
    "        return _urlencode(super().__iter__())\n",
    "\n",
    "    def __getitem__(self, names: Names) -> QueryMap:\n",
    "        if not isinstance(names, list):\n",
    "            names = (names,)\n",
    "        return QueryMap(tuple(self._member_map_[name] for name in names))\n",
    "\n",
    "    def __contains__(self, __o: object) -> bool:\n",
    "        if isinstance(__o, str):\n",
    "            return self.__string_contains__(__o)\n",
    "        return super().__contains__(__o)\n",
    "\n",
    "    def __eq__(self, __o: object) -> bool:\n",
    "        if isinstance(__o, str):\n",
    "            return self.__string_contains__(__o)\n",
    "        return super().__eq__(__o)\n",
    "\n",
    "    def __hash__(self) -> int:\n",
    "        return super().__hash__()\n",
    "\n",
    "    def __and__(self, __o: StrEnum):\n",
    "        return QueryMap(self, __o)\n",
    "\n",
    "    def names(self):\n",
    "        return tuple(self.__names__())\n",
    "\n",
    "    def values(self):\n",
    "        return tuple(self.__values__())\n",
    "\n",
    "\n",
    "class QueryEnum(StrEnum, metaclass=QueryEnumMeta):\n",
    "    def _generate_next_value_(name: str, *_) -> str:\n",
    "        return name\n",
    "\n",
    "    def __repr__(self):\n",
    "        return f\"{self.__query_name__}={self.value}\"\n",
    "\n",
    "    @classmethod\n",
    "    def __lt__(self, __o: \"QueryEnum\") -> bool:\n",
    "        return self.__query_name__ < __o.__query_name__\n",
    "\n",
    "    @classmethod\n",
    "    @property\n",
    "    def __query_name__(cls) -> str:\n",
    "        return cls.__name__.lower()\n",
    "\n",
    "\n",
    "class Models(QueryEnum):\n",
    "    GALWEM = auto()\n",
    "    NAM = auto()\n",
    "    GFS = auto()\n",
    "    WRF_17K = \"WRF-1.7k\"\n",
    "\n",
    "\n",
    "class Parameters(QueryEnum):\n",
    "    wind_direction = auto()\n",
    "    wind_speed = auto()\n",
    "    wind_gust = auto()\n",
    "    visibility = auto()\n",
    "    present_wx = auto()\n",
    "    ten_meter_temp = \"10_m_temp\"\n",
    "\n",
    "localhost = \"http://localhost:8080\"\n",
    "\n",
    "def main():\n",
    "\n",
    "    # inherited methods\n",
    "    assert Parameters(\"10_m_temp\") == Parameters.ten_meter_temp\n",
    "    assert Parameters.ten_meter_temp == \"10_m_temp\"\n",
    "    assert Parameters.ten_meter_temp.upper() == \"10_M_TEMP\"\n",
    "    # string methods\n",
    "    assert (\n",
    "        f\"{localhost}?{QueryMap(Parameters,Models)}\"\n",
    "        == f\"{localhost}?{Parameters & Models}\"\n",
    "        == f\"{localhost}?{Models}&{Parameters}\" \n",
    "    )\n",
    "    # in\n",
    "    assert \"GALWEM\" in Models\n",
    "    assert Models.GALWEM in Models\n",
    "    assert Models in (\"GALWEM\", \"NAM\")\n",
    "    \n",
    "    if not \"BAD_USER_REQUEST\" in Models:\n",
    "        print(\"THAT MODEL IS NOT AVALIABLE\")\n",
    "\n",
    "\n",
    "    assert (\n",
    "        f\"{localhost}?{Models & Parameters}\"\n",
    "        == f\"{localhost}?{QueryMap(Models,Parameters)}\"\n",
    "    )\n",
    "    print(f\"\"\"\n",
    "{localhost}?{Models['GALWEM'] & Parameters}\n",
    "\n",
    "{localhost}?{Models[['GALWEM', 'NAM']] & Parameters}\n",
    "\n",
    "{localhost}?{Models[['GALWEM', 'NAM']] & Parameters['wind_direction']}\n",
    "    \"\"\")\n",
    "\n",
    "\n",
    "if __name__ == \"__main__\":\n",
    "    main()\n"
   ]
  },
  {
   "cell_type": "code",
   "execution_count": 27,
   "metadata": {},
   "outputs": [
    {
     "data": {
      "text/plain": [
       "'http://localhost:8080?models=GALWEM&models=NAM'"
      ]
     },
     "execution_count": 27,
     "metadata": {},
     "output_type": "execute_result"
    }
   ],
   "source": [
    "import numpy as np\n",
    "\n",
    "a = np.array(Models, dtype=object)\n",
    "mask = (a == \"GALWEM\") | (a == \"NAM\")\n",
    "f\"{localhost}?{QueryMap(a[mask])}\""
   ]
  },
  {
   "cell_type": "code",
   "execution_count": 28,
   "metadata": {},
   "outputs": [
    {
     "data": {
      "text/plain": [
       "'http://localhost:8080?parameters=wind_direction&parameters=wind_speed&parameters=wind_gust'"
      ]
     },
     "execution_count": 28,
     "metadata": {},
     "output_type": "execute_result"
    }
   ],
   "source": [
    "import pandas as pd\n",
    "\n",
    "s = pd.Series(tuple(Parameters), index=Parameters.names())\n",
    "f\"{localhost}?{QueryMap(s[s.str.contains('wind')])}\""
   ]
  },
  {
   "cell_type": "code",
   "execution_count": 29,
   "metadata": {},
   "outputs": [
    {
     "data": {
      "text/plain": [
       "QueryMap(parameters=wind_direction, parameters=wind_speed)"
      ]
     },
     "execution_count": 29,
     "metadata": {},
     "output_type": "execute_result"
    }
   ],
   "source": [
    "def f(params: Parameters):\n",
    "    return Parameters[params]\n",
    "\n",
    "\n",
    "f([\"wind_direction\", \"wind_speed\"])"
   ]
  }
 ],
 "metadata": {
  "kernelspec": {
   "display_name": "Python 3.10.4 ('venv')",
   "language": "python",
   "name": "python3"
  },
  "language_info": {
   "codemirror_mode": {
    "name": "ipython",
    "version": 3
   },
   "file_extension": ".py",
   "mimetype": "text/x-python",
   "name": "python",
   "nbconvert_exporter": "python",
   "pygments_lexer": "ipython3",
   "version": "3.10.4"
  },
  "orig_nbformat": 4,
  "vscode": {
   "interpreter": {
    "hash": "34a00808f897e0120a883317eb237a375fceb1bf67605af89b3482723f3da6d5"
   }
  }
 },
 "nbformat": 4,
 "nbformat_minor": 2
}
