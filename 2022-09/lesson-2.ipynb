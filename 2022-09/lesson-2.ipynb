{
 "cells": [
  {
   "cell_type": "code",
   "execution_count": 1,
   "metadata": {},
   "outputs": [
    {
     "data": {
      "text/html": [
       "\n",
       "                <script type=\"application/javascript\" id=\"jupyter_black\">\n",
       "                (function() {\n",
       "                    if (window.IPython === undefined) {\n",
       "                        return\n",
       "                    }\n",
       "                    var msg = \"WARNING: it looks like you might have loaded \" +\n",
       "                        \"jupyter_black in a non-lab notebook with \" +\n",
       "                        \"`is_lab=True`. Please double check, and if \" +\n",
       "                        \"loading with `%load_ext` please review the README!\"\n",
       "                    console.log(msg)\n",
       "                    alert(msg)\n",
       "                })()\n",
       "                </script>\n",
       "                "
      ],
      "text/plain": [
       "<IPython.core.display.HTML object>"
      ]
     },
     "metadata": {},
     "output_type": "display_data"
    }
   ],
   "source": [
    "%load_ext jupyter_black"
   ]
  },
  {
   "cell_type": "markdown",
   "metadata": {},
   "source": [
    "python standard library\n",
    "\n",
    "- os\n",
    "- sys\n",
    "- pathlib\n",
    "\n",
    "- dataclasses"
   ]
  },
  {
   "cell_type": "code",
   "execution_count": 2,
   "metadata": {},
   "outputs": [
    {
     "name": "stdout",
     "output_type": "stream",
     "text": [
      "\n",
      "os.path = /home/leaver2000/afit/2022-09\n",
      "pathlib.Path.cwd() = /home/leaver2000/afit/2022-09\n",
      "sys.path = ['/home/leaver2000/afit/2022-09', '/usr/lib/python310.zip', '/usr/lib/python3.10', '/usr/lib/python3.10/lib-dynload', '', '/opt/venv/lib/python3.10/site-packages', '/opt/venv/lib/python3.10/site-packages/IPython/extensions', '/home/leaver2000/.ipython']\n",
      "\n"
     ]
    },
    {
     "data": {
      "text/plain": [
       "{'os.path ': ' /home/leaver2000/afit/2022-09',\n",
       " 'pathlib.Path.cwd() ': ' /home/leaver2000/afit/2022-09',\n",
       " 'sys.path ': \" ['/home/leaver2000/afit/2022-09', '/usr/lib/python310.zip', '/usr/lib/python3.10', '/usr/lib/python3.10/lib-dynload', '', '/opt/venv/lib/python3.10/site-packages', '/opt/venv/lib/python3.10/site-packages/IPython/extensions', '/home/leaver2000/.ipython']\"}"
      ]
     },
     "execution_count": 2,
     "metadata": {},
     "output_type": "execute_result"
    }
   ],
   "source": [
    "import os\n",
    "import sys\n",
    "import shutil\n",
    "\n",
    "import gzip\n",
    "import zipfile\n",
    "from pathlib import Path\n",
    "\n",
    "text = f\"\"\"\n",
    "os.path = {os.path.abspath(\".\")}\n",
    "pathlib.Path.cwd() = {Path.cwd()}\n",
    "sys.path = {sys.path}\n",
    "\"\"\"\n",
    "print(text)\n",
    "dict(line.split(\"=\", maxsplit=1) for line in text.split(\"\\n\") if line != \"\")"
   ]
  },
  {
   "cell_type": "code",
   "execution_count": 3,
   "metadata": {},
   "outputs": [
    {
     "data": {
      "text/plain": [
       "((PosixPath('/home/leaver2000/afit/2022-09/lesson-2.ipynb'),\n",
       "  PosixPath('/home/leaver2000/afit/2022-09/lesson-3.ipynb'),\n",
       "  PosixPath('/home/leaver2000/afit/2022-09/lesson-1.ipynb')),\n",
       " (PosixPath('/home/leaver2000/afit/app.py'),))"
      ]
     },
     "execution_count": 3,
     "metadata": {},
     "output_type": "execute_result"
    }
   ],
   "source": [
    "cwd = Path.cwd()\n",
    "assert cwd.is_dir() and not cwd.is_file()\n",
    "# glob (/ɡlɑːb/) patterns specify sets of filenames with wildcard characters\n",
    "# so in our working directory match all of the files or navigate to the parent and look for files ending with .py\n",
    "# the glob method yields a generator function\n",
    "tuple(cwd.glob(\"*\")), tuple(cwd.parent.glob(\"*.py\"))"
   ]
  },
  {
   "cell_type": "code",
   "execution_count": 4,
   "metadata": {},
   "outputs": [
    {
     "name": "stdout",
     "output_type": "stream",
     "text": [
      "found a notebook /home/leaver2000/afit/2022-09/lesson-2.ipynb\n",
      "it had 349 lines\n",
      "found a notebook /home/leaver2000/afit/2022-09/lesson-3.ipynb\n",
      "it had 0 lines\n",
      "found a notebook /home/leaver2000/afit/2022-09/lesson-1.ipynb\n",
      "it had 993 lines\n"
     ]
    }
   ],
   "source": [
    "import json\n",
    "\n",
    "for file in Path.cwd().glob(\"*\"):\n",
    "    # the path object\n",
    "    assert file.is_file()\n",
    "    if \".ipynb\" in file.suffixes:\n",
    "        print(f\"found a notebook {file}\")\n",
    "        # using the with key word will open the file as a context manager\n",
    "        with file.open(\"r\") as f:\n",
    "            lines = f.readlines()\n",
    "            print(f\"it had {len(lines)} lines\")\n",
    "    # if not using the with key word\n",
    "    # need to remember to close the file\n",
    "    # otherwise we are loading tons of\n",
    "    # unused data into memory\n",
    "    f = file.open()\n",
    "    f.close()"
   ]
  },
  {
   "cell_type": "code",
   "execution_count": 5,
   "metadata": {},
   "outputs": [],
   "source": [
    "from dataclasses import dataclass\n",
    "from typing import overload\n",
    "\n",
    "import pandas as pd\n",
    "import numpy as np\n",
    "from numpy.typing import NDArray"
   ]
  },
  {
   "cell_type": "code",
   "execution_count": 6,
   "metadata": {},
   "outputs": [
    {
     "data": {
      "text/plain": [
       "(Wind(direction=10, speed=10, gust=15.0),\n",
       " {'direction': 10, 'speed': 10, 'gust': 15.0},\n",
       " dict_values([10, 10, 15.0]),\n",
       " dict_keys(['direction', 'speed', 'gust']),\n",
       " '01010G15KT',\n",
       " array([10., 10., 15.], dtype=float32),\n",
       " direction    10.0\n",
       " speed        10.0\n",
       " gust         15.0\n",
       " dtype: float32)"
      ]
     },
     "execution_count": 6,
     "metadata": {},
     "output_type": "execute_result"
    }
   ],
   "source": [
    "@dataclass(frozen=True)\n",
    "class Wind:\n",
    "    \"\"\"\n",
    "    surface wind representation\n",
    "    \"\"\"\n",
    "\n",
    "    direction: float\n",
    "    speed: float\n",
    "    gust: float = 0.0\n",
    "\n",
    "    def to_dict(self) -> dict[str, float]:\n",
    "        return self.__dict__\n",
    "\n",
    "    def to_numpy(self) -> np.ndarray:\n",
    "        return np.asanyarray(tuple(self), dtype=np.float32)\n",
    "\n",
    "    def to_pandas(self) -> pd.Series:\n",
    "        return pd.Series(self.__dict__, dtype=np.float32)\n",
    "\n",
    "    def __gt__(self, other: \"Wind\") -> bool:\n",
    "        return max(self.speed, self.gust) > max(other.speed, other.gust)\n",
    "\n",
    "    def __sub__(self, other: \"Wind\") -> \"Wind\":\n",
    "        wdir, wspd, wgst = self.to_numpy() - other.to_numpy()\n",
    "        wdir = (wdir + 180) % 360 - 180\n",
    "        return Wind(wdir, wspd, wgst)\n",
    "\n",
    "    def __abs__(self) -> \"Wind\":\n",
    "        return Wind(*np.abs(tuple(self)))\n",
    "\n",
    "    def __str__(self) -> str:\n",
    "        wdir, wspd, wgst = map(int, tuple(self))\n",
    "        return f\"{wdir:03d}{wspd:02d}{f'G{wgst:02d}' if wgst else ''}KT\"\n",
    "\n",
    "    def __iter__(self):\n",
    "        yield from self.to_dict().values()\n",
    "\n",
    "\n",
    "wind1 = Wind(10, 10, 15.0)\n",
    "(\n",
    "    wind1,\n",
    "    wind1.to_dict(),\n",
    "    wind1.to_dict().values(),\n",
    "    wind1.to_dict().keys(),\n",
    "    str(wind1),\n",
    "    wind1.to_numpy(),\n",
    "    wind1.to_pandas(),\n",
    ")"
   ]
  },
  {
   "cell_type": "code",
   "execution_count": 11,
   "metadata": {},
   "outputs": [
    {
     "data": {
      "text/plain": [
       "(Wind(direction=20.0, speed=-5.0, gust=-10.0),\n",
       " Wind(direction=20.0, speed=5.0, gust=10.0))"
      ]
     },
     "execution_count": 11,
     "metadata": {},
     "output_type": "execute_result"
    }
   ],
   "source": [
    "wind2 = Wind(350, 15, 25)\n",
    "delta = wind1 - wind2\n",
    "delta, abs(delta)"
   ]
  },
  {
   "cell_type": "code",
   "execution_count": 8,
   "metadata": {},
   "outputs": [
    {
     "data": {
      "text/plain": [
       "(Wind(direction=5.0, speed=5.0, gust=10.0),\n",
       " Wind(direction=15, speed=15, gust=25),\n",
       " Wind(direction=10, speed=10, gust=15.0))"
      ]
     },
     "execution_count": 8,
     "metadata": {},
     "output_type": "execute_result"
    }
   ],
   "source": [
    "abs(delta), max([wind1, wind2]), min([wind1, wind2])"
   ]
  },
  {
   "cell_type": "code",
   "execution_count": 9,
   "metadata": {},
   "outputs": [
    {
     "name": "stdout",
     "output_type": "stream",
     "text": [
      "the diff = 00505G10KT\n",
      "the max = 01515G25KT\n",
      "the min = 01010G15KT\n"
     ]
    }
   ],
   "source": [
    "print(\n",
    "    f\"the diff = {abs(delta)}\\nthe max = {max([wind1,wind2])}\\nthe min = {min([wind1,wind2])}\"\n",
    ")"
   ]
  }
 ],
 "metadata": {
  "kernelspec": {
   "display_name": "Python 3.10.4 ('venv')",
   "language": "python",
   "name": "python3"
  },
  "language_info": {
   "codemirror_mode": {
    "name": "ipython",
    "version": 3
   },
   "file_extension": ".py",
   "mimetype": "text/x-python",
   "name": "python",
   "nbconvert_exporter": "python",
   "pygments_lexer": "ipython3",
   "version": "3.10.4"
  },
  "orig_nbformat": 4,
  "vscode": {
   "interpreter": {
    "hash": "23393d2575091a37cff0d0e9e7479591a295495b26c3b2ebf9b64da572e02d85"
   }
  }
 },
 "nbformat": 4,
 "nbformat_minor": 2
}
