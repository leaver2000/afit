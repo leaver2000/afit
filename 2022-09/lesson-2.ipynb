{
 "cells": [
  {
   "cell_type": "code",
   "execution_count": 29,
   "metadata": {},
   "outputs": [
    {
     "data": {
      "text/html": [
       "\n",
       "                <script type=\"application/javascript\" id=\"jupyter_black\">\n",
       "                (function() {\n",
       "                    if (window.IPython === undefined) {\n",
       "                        return\n",
       "                    }\n",
       "                    var msg = \"WARNING: it looks like you might have loaded \" +\n",
       "                        \"jupyter_black in a non-lab notebook with \" +\n",
       "                        \"`is_lab=True`. Please double check, and if \" +\n",
       "                        \"loading with `%load_ext` please review the README!\"\n",
       "                    console.log(msg)\n",
       "                    alert(msg)\n",
       "                })()\n",
       "                </script>\n",
       "                "
      ],
      "text/plain": [
       "<IPython.core.display.HTML object>"
      ]
     },
     "metadata": {},
     "output_type": "display_data"
    }
   ],
   "source": [
    "%load_ext jupyter_black"
   ]
  },
  {
   "cell_type": "code",
   "execution_count": 30,
   "metadata": {},
   "outputs": [],
   "source": [
    "from dataclasses import dataclass\n",
    "\n",
    "import numpy as np"
   ]
  },
  {
   "cell_type": "code",
   "execution_count": 55,
   "metadata": {},
   "outputs": [
    {
     "data": {
      "text/plain": [
       "(Wind(direction=10, speed=10, gust=15.0),\n",
       " {'direction': 10, 'speed': 10, 'gust': 15.0},\n",
       " dict_values([10, 10, 15.0]),\n",
       " dict_keys(['direction', 'speed', 'gust']),\n",
       " '01010G15KT',\n",
       " array([10., 10., 15.], dtype=float32),\n",
       " direction    10.0\n",
       " speed        10.0\n",
       " gust         15.0\n",
       " dtype: float32)"
      ]
     },
     "execution_count": 55,
     "metadata": {},
     "output_type": "execute_result"
    }
   ],
   "source": [
    "from typing import overload\n",
    "import pandas as pd\n",
    "\n",
    "\n",
    "@dataclass(frozen=True)\n",
    "class Wind:\n",
    "    direction: float\n",
    "    speed: float\n",
    "    gust: float = 0.0\n",
    "\n",
    "    def to_dict(self) -> dict[str, float]:\n",
    "        return self.__dict__\n",
    "\n",
    "    def to_numpy(self) -> np.ndarray:\n",
    "        return np.asanyarray(tuple(self), dtype=np.float32)\n",
    "\n",
    "    def to_pandas(self) -> pd.Series:\n",
    "        return pd.Series(self.__dict__, dtype=np.float32)\n",
    "\n",
    "    def __gt__(self, other: \"Wind\") -> bool:\n",
    "        return max(self.speed, self.gust) > max(other.speed, other.gust)\n",
    "\n",
    "    def __sub__(self, other: \"Wind\") -> \"Wind\":\n",
    "\n",
    "        return Wind(\n",
    "            self.direction - other.direction,\n",
    "            *(getattr(self, k) - getattr(other, k) for k in (\"speed\", \"gust\")),\n",
    "        )\n",
    "\n",
    "    def __abs__(self) -> \"Wind\":\n",
    "        return Wind(*np.abs(tuple(self)))\n",
    "\n",
    "    def __str__(self) -> str:\n",
    "        wdir, wspd, wgst = map(int, tuple(self))\n",
    "        return f\"{wdir:03d}{wspd:02d}{f'G{wgst:02d}' if wgst else ''}KT\"\n",
    "\n",
    "    def __next__(self):\n",
    "        yield from self.to_dict().values()\n",
    "\n",
    "    def __iter__(self):\n",
    "        yield from self.to_dict().values()\n",
    "\n",
    "\n",
    "wind1 = Wind(10, 10, 15.0)\n",
    "(\n",
    "    wind1,\n",
    "    wind1.to_dict(),\n",
    "    wind1.to_dict().values(),\n",
    "    wind1.to_dict().keys(),\n",
    "    str(wind1),\n",
    "    wind1.to_numpy(),\n",
    "    wind1.to_pandas(),\n",
    ")"
   ]
  },
  {
   "cell_type": "code",
   "execution_count": 39,
   "metadata": {},
   "outputs": [
    {
     "data": {
      "text/plain": [
       "Wind(direction=-5, speed=-5, gust=-10.0)"
      ]
     },
     "execution_count": 39,
     "metadata": {},
     "output_type": "execute_result"
    }
   ],
   "source": [
    "wind2 = Wind(15, 15, 25)\n",
    "delta = wind1 - wind2\n",
    "delta"
   ]
  },
  {
   "cell_type": "code",
   "execution_count": 33,
   "metadata": {},
   "outputs": [
    {
     "data": {
      "text/plain": [
       "(Wind(direction=5.0, speed=5.0, gust=10.0),\n",
       " Wind(direction=15, speed=15, gust=25),\n",
       " Wind(direction=10, speed=10, gust=15.0))"
      ]
     },
     "execution_count": 33,
     "metadata": {},
     "output_type": "execute_result"
    }
   ],
   "source": [
    "abs(delta), max([wind1, wind2]), min([wind1, wind2])"
   ]
  },
  {
   "cell_type": "code",
   "execution_count": 34,
   "metadata": {},
   "outputs": [
    {
     "name": "stdout",
     "output_type": "stream",
     "text": [
      "the diff = 00505G10KT\n",
      "the max = 01515G25KT\n",
      "the min = 01010G15KT\n"
     ]
    }
   ],
   "source": [
    "print(\n",
    "    f\"the diff = {abs(delta)}\\nthe max = {max([wind1,wind2])}\\nthe min = {min([wind1,wind2])}\"\n",
    ")"
   ]
  }
 ],
 "metadata": {
  "kernelspec": {
   "display_name": "Python 3.10.4 ('venv')",
   "language": "python",
   "name": "python3"
  },
  "language_info": {
   "codemirror_mode": {
    "name": "ipython",
    "version": 3
   },
   "file_extension": ".py",
   "mimetype": "text/x-python",
   "name": "python",
   "nbconvert_exporter": "python",
   "pygments_lexer": "ipython3",
   "version": "3.10.4"
  },
  "orig_nbformat": 4,
  "vscode": {
   "interpreter": {
    "hash": "23393d2575091a37cff0d0e9e7479591a295495b26c3b2ebf9b64da572e02d85"
   }
  }
 },
 "nbformat": 4,
 "nbformat_minor": 2
}
