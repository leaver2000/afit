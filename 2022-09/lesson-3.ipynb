{
 "cells": [
  {
   "cell_type": "code",
   "execution_count": null,
   "metadata": {},
   "outputs": [],
   "source": [
    "%load_ext jupyter_black"
   ]
  },
  {
   "cell_type": "code",
   "execution_count": 7,
   "metadata": {},
   "outputs": [
    {
     "name": "stdout",
     "output_type": "stream",
     "text": [
      "{'name': <class 'int'>}\n"
     ]
    },
    {
     "data": {
      "text/plain": [
       "ArgumentParser(prog='ipykernel_launcher.py', usage=None, description=None, formatter_class=<class 'argparse.HelpFormatter'>, conflict_handler='error', add_help=True)"
      ]
     },
     "execution_count": 7,
     "metadata": {},
     "output_type": "execute_result"
    }
   ],
   "source": [
    "from typing import Protocol, overload, TypeVar\n",
    "from argparse import Namespace, ArgumentParser\n",
    "import functools\n",
    "def field(*args:str):\n",
    "    pars\n",
    "\n",
    "\n",
    "def argument_parser(c:ArgumentParser):\n",
    "    print(c.__annotations__)\n",
    "    @functools.wraps(c)\n",
    "    def wraps():\n",
    "\n",
    "        return ArgumentParser()\n",
    "    return wraps\n",
    "\n",
    "\n",
    "\n",
    "\n",
    "@argument_parser\n",
    "class Parser:\n",
    "    name:int\n",
    "    date = field(\"-d\",\"--date\", re)\n",
    "\n",
    "parser = Parser()\n",
    "\n",
    "parser\n"
   ]
  }
 ],
 "metadata": {
  "kernelspec": {
   "display_name": "Python 3.10.4 ('venv': venv)",
   "language": "python",
   "name": "python3"
  },
  "language_info": {
   "codemirror_mode": {
    "name": "ipython",
    "version": 3
   },
   "file_extension": ".py",
   "mimetype": "text/x-python",
   "name": "python",
   "nbconvert_exporter": "python",
   "pygments_lexer": "ipython3",
   "version": "3.10.4"
  },
  "orig_nbformat": 4,
  "vscode": {
   "interpreter": {
    "hash": "34a00808f897e0120a883317eb237a375fceb1bf67605af89b3482723f3da6d5"
   }
  }
 },
 "nbformat": 4,
 "nbformat_minor": 2
}
